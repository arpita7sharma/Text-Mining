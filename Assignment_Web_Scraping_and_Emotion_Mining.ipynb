{
 "cells": [
  {
   "cell_type": "code",
   "execution_count": 1,
   "id": "81f3a03b",
   "metadata": {},
   "outputs": [
    {
     "name": "stdout",
     "output_type": "stream",
     "text": [
      "Defaulting to user installation because normal site-packages is not writeable\n",
      "Requirement already satisfied: selenium in c:\\users\\jyala\\appdata\\roaming\\python\\python39\\site-packages (4.8.3)\n",
      "Requirement already satisfied: trio-websocket~=0.9 in c:\\users\\jyala\\appdata\\roaming\\python\\python39\\site-packages (from selenium) (0.10.2)\n",
      "Requirement already satisfied: trio~=0.17 in c:\\users\\jyala\\appdata\\roaming\\python\\python39\\site-packages (from selenium) (0.22.0)\n",
      "Requirement already satisfied: urllib3[socks]~=1.26 in c:\\programdata\\anaconda3\\lib\\site-packages (from selenium) (1.26.11)\n",
      "Requirement already satisfied: certifi>=2021.10.8 in c:\\programdata\\anaconda3\\lib\\site-packages (from selenium) (2022.9.14)\n",
      "Requirement already satisfied: sortedcontainers in c:\\programdata\\anaconda3\\lib\\site-packages (from trio~=0.17->selenium) (2.4.0)\n",
      "Requirement already satisfied: attrs>=19.2.0 in c:\\programdata\\anaconda3\\lib\\site-packages (from trio~=0.17->selenium) (21.4.0)\n",
      "Requirement already satisfied: sniffio in c:\\programdata\\anaconda3\\lib\\site-packages (from trio~=0.17->selenium) (1.2.0)\n",
      "Requirement already satisfied: exceptiongroup>=1.0.0rc9 in c:\\users\\jyala\\appdata\\roaming\\python\\python39\\site-packages (from trio~=0.17->selenium) (1.1.1)\n",
      "Requirement already satisfied: cffi>=1.14 in c:\\programdata\\anaconda3\\lib\\site-packages (from trio~=0.17->selenium) (1.15.1)\n",
      "Requirement already satisfied: idna in c:\\programdata\\anaconda3\\lib\\site-packages (from trio~=0.17->selenium) (3.3)\n",
      "Requirement already satisfied: outcome in c:\\users\\jyala\\appdata\\roaming\\python\\python39\\site-packages (from trio~=0.17->selenium) (1.2.0)\n",
      "Requirement already satisfied: async-generator>=1.9 in c:\\users\\jyala\\appdata\\roaming\\python\\python39\\site-packages (from trio~=0.17->selenium) (1.10)\n",
      "Requirement already satisfied: wsproto>=0.14 in c:\\users\\jyala\\appdata\\roaming\\python\\python39\\site-packages (from trio-websocket~=0.9->selenium) (1.2.0)\n",
      "Requirement already satisfied: PySocks!=1.5.7,<2.0,>=1.5.6 in c:\\programdata\\anaconda3\\lib\\site-packages (from urllib3[socks]~=1.26->selenium) (1.7.1)\n",
      "Requirement already satisfied: pycparser in c:\\programdata\\anaconda3\\lib\\site-packages (from cffi>=1.14->trio~=0.17->selenium) (2.21)\n",
      "Requirement already satisfied: h11<1,>=0.9.0 in c:\\users\\jyala\\appdata\\roaming\\python\\python39\\site-packages (from wsproto>=0.14->trio-websocket~=0.9->selenium) (0.14.0)\n",
      "Note: you may need to restart the kernel to use updated packages.\n"
     ]
    }
   ],
   "source": [
    "pip install selenium"
   ]
  },
  {
   "cell_type": "code",
   "execution_count": 9,
   "id": "6b27464e",
   "metadata": {
    "ExecuteTime": {
     "end_time": "2023-04-28T06:21:58.690222Z",
     "start_time": "2023-04-28T06:21:37.887881Z"
    },
    "scrolled": true
   },
   "outputs": [
    {
     "name": "stderr",
     "output_type": "stream",
     "text": [
      "C:\\Users\\ARPITA\\AppData\\Local\\Temp\\ipykernel_16676\\2240266475.py:8: DeprecationWarning: executable_path has been deprecated, please pass in a Service object\n",
      "  driver = webdriver.Chrome(\"C:/Users/ARPITA/Downloads/chromedriver_win32/chromedriver.exe\")\n"
     ]
    },
    {
     "name": "stdout",
     "output_type": "stream",
     "text": [
      "Done extracting data\n"
     ]
    }
   ],
   "source": [
    "from selenium import webdriver\n",
    "from bs4 import BeautifulSoup\n",
    "import pandas as pd\n",
    "import time\n",
    "from selenium.webdriver.chrome.service import Service\n",
    "from selenium.webdriver.common.by import By\n",
    "\n",
    "driver = webdriver.Chrome(\"C:/Users/ARPITA/Downloads/chromedriver_win32/chromedriver.exe\")\n",
    "driver.get(\"https://www.myntra.com/reviews/18652620\")\n",
    "time.sleep(2)\n",
    "# l =driver.find_element_by_xpath(\"//button[text()='Most Recent']\")\n",
    "l = driver.find_element(By.CLASS_NAME, \"dropdown-filter-dropdownFilterContainer\")\n",
    "#perform click\n",
    "l.click()\n",
    "\n",
    "\n",
    "time.sleep(2)\n",
    "l2 = driver.find_element(By.XPATH, \"//*[text()='Most Recent']\")\n",
    "l2.click()\n",
    "\n",
    "\n",
    "\n",
    "\n",
    "\n",
    "# i=0\n",
    "\n",
    "time.sleep(5)\n",
    "previous_height = driver.execute_script('return document.body.scrollHeight')\n",
    "while True:\n",
    "    driver.execute_script('window.scrollTo(0, document.body.scrollHeight)')\n",
    "    time.sleep(5)\n",
    "    new_height = driver.execute_script('return document.body.scrollHeight')\n",
    "    if (new_height == previous_height):\n",
    "        page_source = driver.page_source\n",
    "        soup = BeautifulSoup(page_source, \"html.parser\")\n",
    "#         print(soup)\n",
    "        break\n",
    "    previous_height = new_height\n",
    "print(\"Done extracting data\")\n",
    "\n",
    "    \n",
    "    \n"
   ]
  },
  {
   "cell_type": "code",
   "execution_count": 10,
   "id": "2686506b",
   "metadata": {
    "ExecuteTime": {
     "end_time": "2023-04-28T06:22:01.305253Z",
     "start_time": "2023-04-28T06:22:01.267968Z"
    }
   },
   "outputs": [
    {
     "name": "stdout",
     "output_type": "stream",
     "text": [
      "{'RowID': 1, 'Name': 'Sunita', 'Date': '28 Apr 2023', 'Review_comment': 'Quality is good & dupatta also good', 'Rating': '5', 'People_Agreed': '0', 'People_Disagreed': '0'}\n",
      "{'RowID': 2, 'Name': 'Priti Mangar', 'Date': '26 Apr 2023', 'Review_comment': 'Very nice kurta set I ordered for my mother', 'Rating': '4', 'People_Agreed': '0', 'People_Disagreed': '0'}\n",
      "{'RowID': 3, 'Name': 'Pallabi Bora', 'Date': '24 Apr 2023', 'Review_comment': \"Kurta and trouser's quality is too good but dupatta is very bad 😞 I can't wear this dupatta\", 'Rating': '4', 'People_Agreed': '0', 'People_Disagreed': '0'}\n",
      "{'RowID': 4, 'Name': 'Amatullah', 'Date': '24 Apr 2023', 'Review_comment': 'Liked it', 'Rating': '4', 'People_Agreed': '0', 'People_Disagreed': '0'}\n",
      "{'RowID': 5, 'Name': 'Vinitha', 'Date': '23 Apr 2023', 'Review_comment': 'Material is of cheap quality', 'Rating': '1', 'People_Agreed': '0', 'People_Disagreed': '0'}\n",
      "{'RowID': 6, 'Name': 'Myntra Customer', 'Date': '24 Apr 2023', 'Review_comment': 'Cloth fabric was not good... Looks like winter stuff', 'Rating': '1', 'People_Agreed': '0', 'People_Disagreed': '0'}\n",
      "{'RowID': 7, 'Name': 'Kamaldeep', 'Date': '23 Apr 2023', 'Review_comment': 'Not much happy with the fabric. Okayish product', 'Rating': '3', 'People_Agreed': '0', 'People_Disagreed': '0'}\n",
      "{'RowID': 8, 'Name': 'Savita Kumari', 'Date': '27 Apr 2023', 'Review_comment': 'Product material is not good.', 'Rating': '3', 'People_Agreed': '0', 'People_Disagreed': '0'}\n",
      "{'RowID': 9, 'Name': 'Nish', 'Date': '27 Apr 2023', 'Review_comment': 'Very low quality product not worth it', 'Rating': '1', 'People_Agreed': '0', 'People_Disagreed': '0'}\n",
      "{'RowID': 10, 'Name': 'Vimal Kumar', 'Date': '26 Apr 2023', 'Review_comment': 'Cloth quality is good👍', 'Rating': '5', 'People_Agreed': '0', 'People_Disagreed': '0'}\n",
      "{'RowID': 11, 'Name': 'Shashi Sajay', 'Date': '26 Apr 2023', 'Review_comment': 'Look is not as expected', 'Rating': '3', 'People_Agreed': '0', 'People_Disagreed': '0'}\n",
      "{'RowID': 12, 'Name': 'Vibha', 'Date': '25 Apr 2023', 'Review_comment': \"I didn't like the color.\", 'Rating': '2', 'People_Agreed': '0', 'People_Disagreed': '0'}\n"
     ]
    }
   ],
   "source": [
    "RowID = 1\n",
    "reviews = soup.find_all('div', {'class': 'user-review-userReviewWrapper'})\n",
    "data = []\n",
    "for item in reviews:\n",
    "    review = {\n",
    "    'RowID': RowID,\n",
    "    'Name': item.find('div', {'class': 'user-review-left'}).find(\"span\").text,\n",
    "    'Date': item.find('div', {'class': 'user-review-left'}).find_next('span').find_next('span').text,\n",
    "    'Review_comment': item.find('div', {'class': 'user-review-reviewTextWrapper'}).text.strip(),\n",
    "    'Rating': item.find('span', {'class': 'user-review-starRating'}).text,\n",
    "    'People_Agreed': item.find('div', {'class': 'user-review-votes'}).find_next(\"div\").text,\n",
    "    'People_Disagreed': item.find('div', {'class': 'user-review-votes'}).find_next(\"div\").find_next(\"div\").text,\n",
    "    }\n",
    "    data.append(review)\n",
    "    RowID+=1\n",
    "    print(review)\n"
   ]
  },
  {
   "cell_type": "code",
   "execution_count": 11,
   "id": "dcc9f1e4",
   "metadata": {
    "ExecuteTime": {
     "end_time": "2023-04-28T06:22:13.970044Z",
     "start_time": "2023-04-28T06:22:13.923683Z"
    }
   },
   "outputs": [
    {
     "name": "stdout",
     "output_type": "stream",
     "text": [
      "CSV file creation complete\n"
     ]
    }
   ],
   "source": [
    "df = pd.DataFrame(data)\n",
    "df.to_csv(r'Myntra_product_Review.csv', index=False)\n",
    "print('CSV file creation complete')"
   ]
  },
  {
   "cell_type": "code",
   "execution_count": 12,
   "id": "c5f32479",
   "metadata": {
    "ExecuteTime": {
     "end_time": "2023-04-28T06:28:50.098452Z",
     "start_time": "2023-04-28T06:28:38.782567Z"
    }
   },
   "outputs": [],
   "source": [
    "import numpy as np # linear algebra\n",
    "import pandas as pd # data processing, CSV file I/O (e.g. pd.read_csv)\n",
    "import string # special operations on strings\n",
    "import spacy # language models\n",
    "from matplotlib.pyplot import imread\n",
    "from matplotlib import pyplot as plt\n",
    "import seaborn as sns\n",
    "from wordcloud import WordCloud,STOPWORDS\n",
    "%matplotlib inline\n",
    "from matplotlib.pyplot import imread\n",
    "from nltk.tokenize import TweetTokenizer\n",
    "import re\n",
    "import nltk\n",
    "from nltk.tokenize import word_tokenize\n",
    "from nltk.corpus import stopwords"
   ]
  },
  {
   "cell_type": "code",
   "execution_count": 18,
   "id": "29ecab74",
   "metadata": {
    "ExecuteTime": {
     "end_time": "2023-04-28T06:36:26.723666Z",
     "start_time": "2023-04-28T06:36:26.679111Z"
    }
   },
   "outputs": [
    {
     "data": {
      "text/html": [
       "<div>\n",
       "<style scoped>\n",
       "    .dataframe tbody tr th:only-of-type {\n",
       "        vertical-align: middle;\n",
       "    }\n",
       "\n",
       "    .dataframe tbody tr th {\n",
       "        vertical-align: top;\n",
       "    }\n",
       "\n",
       "    .dataframe thead th {\n",
       "        text-align: right;\n",
       "    }\n",
       "</style>\n",
       "<table border=\"1\" class=\"dataframe\">\n",
       "  <thead>\n",
       "    <tr style=\"text-align: right;\">\n",
       "      <th></th>\n",
       "      <th>RowID</th>\n",
       "      <th>Name</th>\n",
       "      <th>Date</th>\n",
       "      <th>Review_comment</th>\n",
       "      <th>Rating</th>\n",
       "      <th>People_Agreed</th>\n",
       "      <th>People_Disagreed</th>\n",
       "    </tr>\n",
       "  </thead>\n",
       "  <tbody>\n",
       "    <tr>\n",
       "      <th>0</th>\n",
       "      <td>1</td>\n",
       "      <td>Sunita</td>\n",
       "      <td>28 Apr 2023</td>\n",
       "      <td>Quality is good &amp; dupatta also good</td>\n",
       "      <td>5</td>\n",
       "      <td>0</td>\n",
       "      <td>0</td>\n",
       "    </tr>\n",
       "    <tr>\n",
       "      <th>1</th>\n",
       "      <td>2</td>\n",
       "      <td>Priti Mangar</td>\n",
       "      <td>26 Apr 2023</td>\n",
       "      <td>Very nice kurta set I ordered for my mother</td>\n",
       "      <td>4</td>\n",
       "      <td>0</td>\n",
       "      <td>0</td>\n",
       "    </tr>\n",
       "    <tr>\n",
       "      <th>2</th>\n",
       "      <td>3</td>\n",
       "      <td>Pallabi Bora</td>\n",
       "      <td>24 Apr 2023</td>\n",
       "      <td>Kurta and trouser's quality is too good but du...</td>\n",
       "      <td>4</td>\n",
       "      <td>0</td>\n",
       "      <td>0</td>\n",
       "    </tr>\n",
       "    <tr>\n",
       "      <th>3</th>\n",
       "      <td>4</td>\n",
       "      <td>Amatullah</td>\n",
       "      <td>24 Apr 2023</td>\n",
       "      <td>Liked it</td>\n",
       "      <td>4</td>\n",
       "      <td>0</td>\n",
       "      <td>0</td>\n",
       "    </tr>\n",
       "    <tr>\n",
       "      <th>4</th>\n",
       "      <td>5</td>\n",
       "      <td>Vinitha</td>\n",
       "      <td>23 Apr 2023</td>\n",
       "      <td>Material is of cheap quality</td>\n",
       "      <td>1</td>\n",
       "      <td>0</td>\n",
       "      <td>0</td>\n",
       "    </tr>\n",
       "    <tr>\n",
       "      <th>5</th>\n",
       "      <td>6</td>\n",
       "      <td>Myntra Customer</td>\n",
       "      <td>24 Apr 2023</td>\n",
       "      <td>Cloth fabric was not good... Looks like winter...</td>\n",
       "      <td>1</td>\n",
       "      <td>0</td>\n",
       "      <td>0</td>\n",
       "    </tr>\n",
       "    <tr>\n",
       "      <th>6</th>\n",
       "      <td>7</td>\n",
       "      <td>Kamaldeep</td>\n",
       "      <td>23 Apr 2023</td>\n",
       "      <td>Not much happy with the fabric. Okayish product</td>\n",
       "      <td>3</td>\n",
       "      <td>0</td>\n",
       "      <td>0</td>\n",
       "    </tr>\n",
       "    <tr>\n",
       "      <th>7</th>\n",
       "      <td>8</td>\n",
       "      <td>Savita Kumari</td>\n",
       "      <td>27 Apr 2023</td>\n",
       "      <td>Product material is not good.</td>\n",
       "      <td>3</td>\n",
       "      <td>0</td>\n",
       "      <td>0</td>\n",
       "    </tr>\n",
       "    <tr>\n",
       "      <th>8</th>\n",
       "      <td>9</td>\n",
       "      <td>Nish</td>\n",
       "      <td>27 Apr 2023</td>\n",
       "      <td>Very low quality product not worth it</td>\n",
       "      <td>1</td>\n",
       "      <td>0</td>\n",
       "      <td>0</td>\n",
       "    </tr>\n",
       "    <tr>\n",
       "      <th>9</th>\n",
       "      <td>10</td>\n",
       "      <td>Vimal Kumar</td>\n",
       "      <td>26 Apr 2023</td>\n",
       "      <td>Cloth quality is good👍</td>\n",
       "      <td>5</td>\n",
       "      <td>0</td>\n",
       "      <td>0</td>\n",
       "    </tr>\n",
       "    <tr>\n",
       "      <th>10</th>\n",
       "      <td>11</td>\n",
       "      <td>Shashi Sajay</td>\n",
       "      <td>26 Apr 2023</td>\n",
       "      <td>Look is not as expected</td>\n",
       "      <td>3</td>\n",
       "      <td>0</td>\n",
       "      <td>0</td>\n",
       "    </tr>\n",
       "    <tr>\n",
       "      <th>11</th>\n",
       "      <td>12</td>\n",
       "      <td>Vibha</td>\n",
       "      <td>25 Apr 2023</td>\n",
       "      <td>I didn't like the color.</td>\n",
       "      <td>2</td>\n",
       "      <td>0</td>\n",
       "      <td>0</td>\n",
       "    </tr>\n",
       "  </tbody>\n",
       "</table>\n",
       "</div>"
      ],
      "text/plain": [
       "    RowID             Name         Date  \\\n",
       "0       1           Sunita  28 Apr 2023   \n",
       "1       2     Priti Mangar  26 Apr 2023   \n",
       "2       3     Pallabi Bora  24 Apr 2023   \n",
       "3       4        Amatullah  24 Apr 2023   \n",
       "4       5          Vinitha  23 Apr 2023   \n",
       "5       6  Myntra Customer  24 Apr 2023   \n",
       "6       7        Kamaldeep  23 Apr 2023   \n",
       "7       8    Savita Kumari  27 Apr 2023   \n",
       "8       9             Nish  27 Apr 2023   \n",
       "9      10      Vimal Kumar  26 Apr 2023   \n",
       "10     11     Shashi Sajay  26 Apr 2023   \n",
       "11     12            Vibha  25 Apr 2023   \n",
       "\n",
       "                                       Review_comment  Rating  People_Agreed  \\\n",
       "0                 Quality is good & dupatta also good       5              0   \n",
       "1         Very nice kurta set I ordered for my mother       4              0   \n",
       "2   Kurta and trouser's quality is too good but du...       4              0   \n",
       "3                                            Liked it       4              0   \n",
       "4                        Material is of cheap quality       1              0   \n",
       "5   Cloth fabric was not good... Looks like winter...       1              0   \n",
       "6     Not much happy with the fabric. Okayish product       3              0   \n",
       "7                       Product material is not good.       3              0   \n",
       "8               Very low quality product not worth it       1              0   \n",
       "9                              Cloth quality is good👍       5              0   \n",
       "10                            Look is not as expected       3              0   \n",
       "11                           I didn't like the color.       2              0   \n",
       "\n",
       "    People_Disagreed  \n",
       "0                  0  \n",
       "1                  0  \n",
       "2                  0  \n",
       "3                  0  \n",
       "4                  0  \n",
       "5                  0  \n",
       "6                  0  \n",
       "7                  0  \n",
       "8                  0  \n",
       "9                  0  \n",
       "10                 0  \n",
       "11                 0  "
      ]
     },
     "execution_count": 18,
     "metadata": {},
     "output_type": "execute_result"
    }
   ],
   "source": [
    "reviews=pd.read_csv(\"Myntra_product_Review.csv\")\n",
    "reviews"
   ]
  },
  {
   "cell_type": "code",
   "execution_count": 19,
   "id": "3516fac5",
   "metadata": {
    "ExecuteTime": {
     "end_time": "2023-04-28T06:36:30.710109Z",
     "start_time": "2023-04-28T06:36:30.680524Z"
    }
   },
   "outputs": [
    {
     "data": {
      "text/html": [
       "<div>\n",
       "<style scoped>\n",
       "    .dataframe tbody tr th:only-of-type {\n",
       "        vertical-align: middle;\n",
       "    }\n",
       "\n",
       "    .dataframe tbody tr th {\n",
       "        vertical-align: top;\n",
       "    }\n",
       "\n",
       "    .dataframe thead th {\n",
       "        text-align: right;\n",
       "    }\n",
       "</style>\n",
       "<table border=\"1\" class=\"dataframe\">\n",
       "  <thead>\n",
       "    <tr style=\"text-align: right;\">\n",
       "      <th></th>\n",
       "      <th>RowID</th>\n",
       "      <th>Name</th>\n",
       "      <th>Date</th>\n",
       "      <th>Review_comment</th>\n",
       "      <th>Rating</th>\n",
       "      <th>People_Agreed</th>\n",
       "      <th>People_Disagreed</th>\n",
       "    </tr>\n",
       "  </thead>\n",
       "  <tbody>\n",
       "    <tr>\n",
       "      <th>0</th>\n",
       "      <td>1</td>\n",
       "      <td>Sunita</td>\n",
       "      <td>28 Apr 2023</td>\n",
       "      <td>Quality is good &amp; dupatta also good</td>\n",
       "      <td>5</td>\n",
       "      <td>0</td>\n",
       "      <td>0</td>\n",
       "    </tr>\n",
       "    <tr>\n",
       "      <th>1</th>\n",
       "      <td>2</td>\n",
       "      <td>Priti Mangar</td>\n",
       "      <td>26 Apr 2023</td>\n",
       "      <td>Very nice kurta set I ordered for my mother</td>\n",
       "      <td>4</td>\n",
       "      <td>0</td>\n",
       "      <td>0</td>\n",
       "    </tr>\n",
       "    <tr>\n",
       "      <th>2</th>\n",
       "      <td>3</td>\n",
       "      <td>Pallabi Bora</td>\n",
       "      <td>24 Apr 2023</td>\n",
       "      <td>Kurta and trouser's quality is too good but du...</td>\n",
       "      <td>4</td>\n",
       "      <td>0</td>\n",
       "      <td>0</td>\n",
       "    </tr>\n",
       "    <tr>\n",
       "      <th>3</th>\n",
       "      <td>4</td>\n",
       "      <td>Amatullah</td>\n",
       "      <td>24 Apr 2023</td>\n",
       "      <td>Liked it</td>\n",
       "      <td>4</td>\n",
       "      <td>0</td>\n",
       "      <td>0</td>\n",
       "    </tr>\n",
       "    <tr>\n",
       "      <th>4</th>\n",
       "      <td>5</td>\n",
       "      <td>Vinitha</td>\n",
       "      <td>23 Apr 2023</td>\n",
       "      <td>Material is of cheap quality</td>\n",
       "      <td>1</td>\n",
       "      <td>0</td>\n",
       "      <td>0</td>\n",
       "    </tr>\n",
       "    <tr>\n",
       "      <th>5</th>\n",
       "      <td>6</td>\n",
       "      <td>Myntra Customer</td>\n",
       "      <td>24 Apr 2023</td>\n",
       "      <td>Cloth fabric was not good... Looks like winter...</td>\n",
       "      <td>1</td>\n",
       "      <td>0</td>\n",
       "      <td>0</td>\n",
       "    </tr>\n",
       "    <tr>\n",
       "      <th>6</th>\n",
       "      <td>7</td>\n",
       "      <td>Kamaldeep</td>\n",
       "      <td>23 Apr 2023</td>\n",
       "      <td>Not much happy with the fabric. Okayish product</td>\n",
       "      <td>3</td>\n",
       "      <td>0</td>\n",
       "      <td>0</td>\n",
       "    </tr>\n",
       "    <tr>\n",
       "      <th>7</th>\n",
       "      <td>8</td>\n",
       "      <td>Savita Kumari</td>\n",
       "      <td>27 Apr 2023</td>\n",
       "      <td>Product material is not good.</td>\n",
       "      <td>3</td>\n",
       "      <td>0</td>\n",
       "      <td>0</td>\n",
       "    </tr>\n",
       "    <tr>\n",
       "      <th>8</th>\n",
       "      <td>9</td>\n",
       "      <td>Nish</td>\n",
       "      <td>27 Apr 2023</td>\n",
       "      <td>Very low quality product not worth it</td>\n",
       "      <td>1</td>\n",
       "      <td>0</td>\n",
       "      <td>0</td>\n",
       "    </tr>\n",
       "    <tr>\n",
       "      <th>9</th>\n",
       "      <td>10</td>\n",
       "      <td>Vimal Kumar</td>\n",
       "      <td>26 Apr 2023</td>\n",
       "      <td>Cloth quality is good👍</td>\n",
       "      <td>5</td>\n",
       "      <td>0</td>\n",
       "      <td>0</td>\n",
       "    </tr>\n",
       "    <tr>\n",
       "      <th>10</th>\n",
       "      <td>11</td>\n",
       "      <td>Shashi Sajay</td>\n",
       "      <td>26 Apr 2023</td>\n",
       "      <td>Look is not as expected</td>\n",
       "      <td>3</td>\n",
       "      <td>0</td>\n",
       "      <td>0</td>\n",
       "    </tr>\n",
       "    <tr>\n",
       "      <th>11</th>\n",
       "      <td>12</td>\n",
       "      <td>Vibha</td>\n",
       "      <td>25 Apr 2023</td>\n",
       "      <td>I didn't like the color.</td>\n",
       "      <td>2</td>\n",
       "      <td>0</td>\n",
       "      <td>0</td>\n",
       "    </tr>\n",
       "  </tbody>\n",
       "</table>\n",
       "</div>"
      ],
      "text/plain": [
       "    RowID             Name         Date  \\\n",
       "0       1           Sunita  28 Apr 2023   \n",
       "1       2     Priti Mangar  26 Apr 2023   \n",
       "2       3     Pallabi Bora  24 Apr 2023   \n",
       "3       4        Amatullah  24 Apr 2023   \n",
       "4       5          Vinitha  23 Apr 2023   \n",
       "5       6  Myntra Customer  24 Apr 2023   \n",
       "6       7        Kamaldeep  23 Apr 2023   \n",
       "7       8    Savita Kumari  27 Apr 2023   \n",
       "8       9             Nish  27 Apr 2023   \n",
       "9      10      Vimal Kumar  26 Apr 2023   \n",
       "10     11     Shashi Sajay  26 Apr 2023   \n",
       "11     12            Vibha  25 Apr 2023   \n",
       "\n",
       "                                       Review_comment  Rating  People_Agreed  \\\n",
       "0                 Quality is good & dupatta also good       5              0   \n",
       "1         Very nice kurta set I ordered for my mother       4              0   \n",
       "2   Kurta and trouser's quality is too good but du...       4              0   \n",
       "3                                            Liked it       4              0   \n",
       "4                        Material is of cheap quality       1              0   \n",
       "5   Cloth fabric was not good... Looks like winter...       1              0   \n",
       "6     Not much happy with the fabric. Okayish product       3              0   \n",
       "7                       Product material is not good.       3              0   \n",
       "8               Very low quality product not worth it       1              0   \n",
       "9                              Cloth quality is good👍       5              0   \n",
       "10                            Look is not as expected       3              0   \n",
       "11                           I didn't like the color.       2              0   \n",
       "\n",
       "    People_Disagreed  \n",
       "0                  0  \n",
       "1                  0  \n",
       "2                  0  \n",
       "3                  0  \n",
       "4                  0  \n",
       "5                  0  \n",
       "6                  0  \n",
       "7                  0  \n",
       "8                  0  \n",
       "9                  0  \n",
       "10                 0  \n",
       "11                 0  "
      ]
     },
     "execution_count": 19,
     "metadata": {},
     "output_type": "execute_result"
    }
   ],
   "source": [
    "reviews"
   ]
  },
  {
   "cell_type": "code",
   "execution_count": 20,
   "id": "cd80d2c2",
   "metadata": {
    "ExecuteTime": {
     "end_time": "2023-04-28T06:37:46.802703Z",
     "start_time": "2023-04-28T06:37:46.755904Z"
    }
   },
   "outputs": [],
   "source": [
    "reviews.drop(['People_Agreed'],inplace=True,axis=1)"
   ]
  },
  {
   "cell_type": "code",
   "execution_count": 22,
   "id": "7aedc3ca",
   "metadata": {
    "ExecuteTime": {
     "end_time": "2023-04-28T06:38:25.500490Z",
     "start_time": "2023-04-28T06:38:25.475405Z"
    }
   },
   "outputs": [],
   "source": [
    "reviews.drop(['People_Disagreed'],inplace=True,axis=1)"
   ]
  },
  {
   "cell_type": "markdown",
   "id": "bd26eaac",
   "metadata": {
    "ExecuteTime": {
     "end_time": "2023-04-28T06:42:34.219742Z",
     "start_time": "2023-04-28T06:42:34.204758Z"
    }
   },
   "source": [
    "# Data Exploration"
   ]
  },
  {
   "cell_type": "code",
   "execution_count": 23,
   "id": "63cb828a",
   "metadata": {
    "ExecuteTime": {
     "end_time": "2023-04-28T06:38:36.688732Z",
     "start_time": "2023-04-28T06:38:36.641859Z"
    }
   },
   "outputs": [
    {
     "data": {
      "text/plain": [
       "count    12.000000\n",
       "mean      3.000000\n",
       "std       1.477098\n",
       "min       1.000000\n",
       "25%       1.750000\n",
       "50%       3.000000\n",
       "75%       4.000000\n",
       "max       5.000000\n",
       "Name: Rating, dtype: float64"
      ]
     },
     "execution_count": 23,
     "metadata": {},
     "output_type": "execute_result"
    }
   ],
   "source": [
    "reviews.Rating.describe()"
   ]
  },
  {
   "cell_type": "markdown",
   "id": "9ef723e3",
   "metadata": {},
   "source": [
    "### Number of Words"
   ]
  },
  {
   "cell_type": "code",
   "execution_count": 24,
   "id": "8663bbd4",
   "metadata": {
    "ExecuteTime": {
     "end_time": "2023-04-28T06:39:05.608054Z",
     "start_time": "2023-04-28T06:39:05.569339Z"
    }
   },
   "outputs": [
    {
     "data": {
      "text/html": [
       "<div>\n",
       "<style scoped>\n",
       "    .dataframe tbody tr th:only-of-type {\n",
       "        vertical-align: middle;\n",
       "    }\n",
       "\n",
       "    .dataframe tbody tr th {\n",
       "        vertical-align: top;\n",
       "    }\n",
       "\n",
       "    .dataframe thead th {\n",
       "        text-align: right;\n",
       "    }\n",
       "</style>\n",
       "<table border=\"1\" class=\"dataframe\">\n",
       "  <thead>\n",
       "    <tr style=\"text-align: right;\">\n",
       "      <th></th>\n",
       "      <th>Review_comment</th>\n",
       "      <th>word_count</th>\n",
       "    </tr>\n",
       "  </thead>\n",
       "  <tbody>\n",
       "    <tr>\n",
       "      <th>0</th>\n",
       "      <td>Quality is good &amp; dupatta also good</td>\n",
       "      <td>7</td>\n",
       "    </tr>\n",
       "    <tr>\n",
       "      <th>1</th>\n",
       "      <td>Very nice kurta set I ordered for my mother</td>\n",
       "      <td>9</td>\n",
       "    </tr>\n",
       "    <tr>\n",
       "      <th>2</th>\n",
       "      <td>Kurta and trouser's quality is too good but du...</td>\n",
       "      <td>18</td>\n",
       "    </tr>\n",
       "    <tr>\n",
       "      <th>3</th>\n",
       "      <td>Liked it</td>\n",
       "      <td>2</td>\n",
       "    </tr>\n",
       "    <tr>\n",
       "      <th>4</th>\n",
       "      <td>Material is of cheap quality</td>\n",
       "      <td>5</td>\n",
       "    </tr>\n",
       "  </tbody>\n",
       "</table>\n",
       "</div>"
      ],
      "text/plain": [
       "                                      Review_comment  word_count\n",
       "0                Quality is good & dupatta also good           7\n",
       "1        Very nice kurta set I ordered for my mother           9\n",
       "2  Kurta and trouser's quality is too good but du...          18\n",
       "3                                           Liked it           2\n",
       "4                       Material is of cheap quality           5"
      ]
     },
     "execution_count": 24,
     "metadata": {},
     "output_type": "execute_result"
    }
   ],
   "source": [
    "reviews['word_count'] = reviews['Review_comment'].apply(lambda x: len(str(x).split(\" \")))\n",
    "reviews[['Review_comment','word_count']].head()"
   ]
  },
  {
   "cell_type": "markdown",
   "id": "4175dafb",
   "metadata": {},
   "source": [
    "### Number of characters"
   ]
  },
  {
   "cell_type": "code",
   "execution_count": 25,
   "id": "a1420cf5",
   "metadata": {
    "ExecuteTime": {
     "end_time": "2023-04-28T06:41:02.936628Z",
     "start_time": "2023-04-28T06:41:02.905355Z"
    }
   },
   "outputs": [
    {
     "data": {
      "text/html": [
       "<div>\n",
       "<style scoped>\n",
       "    .dataframe tbody tr th:only-of-type {\n",
       "        vertical-align: middle;\n",
       "    }\n",
       "\n",
       "    .dataframe tbody tr th {\n",
       "        vertical-align: top;\n",
       "    }\n",
       "\n",
       "    .dataframe thead th {\n",
       "        text-align: right;\n",
       "    }\n",
       "</style>\n",
       "<table border=\"1\" class=\"dataframe\">\n",
       "  <thead>\n",
       "    <tr style=\"text-align: right;\">\n",
       "      <th></th>\n",
       "      <th>Review_comment</th>\n",
       "      <th>char_count</th>\n",
       "    </tr>\n",
       "  </thead>\n",
       "  <tbody>\n",
       "    <tr>\n",
       "      <th>0</th>\n",
       "      <td>Quality is good &amp; dupatta also good</td>\n",
       "      <td>35</td>\n",
       "    </tr>\n",
       "    <tr>\n",
       "      <th>1</th>\n",
       "      <td>Very nice kurta set I ordered for my mother</td>\n",
       "      <td>43</td>\n",
       "    </tr>\n",
       "    <tr>\n",
       "      <th>2</th>\n",
       "      <td>Kurta and trouser's quality is too good but du...</td>\n",
       "      <td>91</td>\n",
       "    </tr>\n",
       "    <tr>\n",
       "      <th>3</th>\n",
       "      <td>Liked it</td>\n",
       "      <td>8</td>\n",
       "    </tr>\n",
       "    <tr>\n",
       "      <th>4</th>\n",
       "      <td>Material is of cheap quality</td>\n",
       "      <td>28</td>\n",
       "    </tr>\n",
       "  </tbody>\n",
       "</table>\n",
       "</div>"
      ],
      "text/plain": [
       "                                      Review_comment  char_count\n",
       "0                Quality is good & dupatta also good          35\n",
       "1        Very nice kurta set I ordered for my mother          43\n",
       "2  Kurta and trouser's quality is too good but du...          91\n",
       "3                                           Liked it           8\n",
       "4                       Material is of cheap quality          28"
      ]
     },
     "execution_count": 25,
     "metadata": {},
     "output_type": "execute_result"
    }
   ],
   "source": [
    "reviews['char_count'] = reviews['Review_comment'].str.len() ## this also includes spaces\n",
    "reviews[['Review_comment','char_count']].head()"
   ]
  },
  {
   "cell_type": "markdown",
   "id": "b325be1f",
   "metadata": {},
   "source": [
    "### Average Word Length"
   ]
  },
  {
   "cell_type": "code",
   "execution_count": 26,
   "id": "1dad87b3",
   "metadata": {
    "ExecuteTime": {
     "end_time": "2023-04-28T06:41:23.709278Z",
     "start_time": "2023-04-28T06:41:23.681498Z"
    }
   },
   "outputs": [
    {
     "data": {
      "text/html": [
       "<div>\n",
       "<style scoped>\n",
       "    .dataframe tbody tr th:only-of-type {\n",
       "        vertical-align: middle;\n",
       "    }\n",
       "\n",
       "    .dataframe tbody tr th {\n",
       "        vertical-align: top;\n",
       "    }\n",
       "\n",
       "    .dataframe thead th {\n",
       "        text-align: right;\n",
       "    }\n",
       "</style>\n",
       "<table border=\"1\" class=\"dataframe\">\n",
       "  <thead>\n",
       "    <tr style=\"text-align: right;\">\n",
       "      <th></th>\n",
       "      <th>Review_comment</th>\n",
       "      <th>avg_word</th>\n",
       "    </tr>\n",
       "  </thead>\n",
       "  <tbody>\n",
       "    <tr>\n",
       "      <th>0</th>\n",
       "      <td>Quality is good &amp; dupatta also good</td>\n",
       "      <td>4.142857</td>\n",
       "    </tr>\n",
       "    <tr>\n",
       "      <th>1</th>\n",
       "      <td>Very nice kurta set I ordered for my mother</td>\n",
       "      <td>3.888889</td>\n",
       "    </tr>\n",
       "    <tr>\n",
       "      <th>2</th>\n",
       "      <td>Kurta and trouser's quality is too good but du...</td>\n",
       "      <td>4.111111</td>\n",
       "    </tr>\n",
       "    <tr>\n",
       "      <th>3</th>\n",
       "      <td>Liked it</td>\n",
       "      <td>3.500000</td>\n",
       "    </tr>\n",
       "    <tr>\n",
       "      <th>4</th>\n",
       "      <td>Material is of cheap quality</td>\n",
       "      <td>4.800000</td>\n",
       "    </tr>\n",
       "  </tbody>\n",
       "</table>\n",
       "</div>"
      ],
      "text/plain": [
       "                                      Review_comment  avg_word\n",
       "0                Quality is good & dupatta also good  4.142857\n",
       "1        Very nice kurta set I ordered for my mother  3.888889\n",
       "2  Kurta and trouser's quality is too good but du...  4.111111\n",
       "3                                           Liked it  3.500000\n",
       "4                       Material is of cheap quality  4.800000"
      ]
     },
     "execution_count": 26,
     "metadata": {},
     "output_type": "execute_result"
    }
   ],
   "source": [
    "def avg_word(sentence):\n",
    "  words = str(sentence).split()\n",
    "  return (sum(len(word) for word in words)/len(words))\n",
    "\n",
    "reviews['avg_word'] = reviews['Review_comment'].apply(lambda x: avg_word(x))\n",
    "reviews[['Review_comment','avg_word']].head()"
   ]
  },
  {
   "cell_type": "markdown",
   "id": "b124b380",
   "metadata": {},
   "source": [
    "### Number of stopwords"
   ]
  },
  {
   "cell_type": "code",
   "execution_count": 27,
   "id": "d11dcd14",
   "metadata": {
    "ExecuteTime": {
     "end_time": "2023-04-28T06:41:47.285275Z",
     "start_time": "2023-04-28T06:41:47.220329Z"
    }
   },
   "outputs": [
    {
     "data": {
      "text/html": [
       "<div>\n",
       "<style scoped>\n",
       "    .dataframe tbody tr th:only-of-type {\n",
       "        vertical-align: middle;\n",
       "    }\n",
       "\n",
       "    .dataframe tbody tr th {\n",
       "        vertical-align: top;\n",
       "    }\n",
       "\n",
       "    .dataframe thead th {\n",
       "        text-align: right;\n",
       "    }\n",
       "</style>\n",
       "<table border=\"1\" class=\"dataframe\">\n",
       "  <thead>\n",
       "    <tr style=\"text-align: right;\">\n",
       "      <th></th>\n",
       "      <th>Review_comment</th>\n",
       "      <th>stopwords</th>\n",
       "    </tr>\n",
       "  </thead>\n",
       "  <tbody>\n",
       "    <tr>\n",
       "      <th>0</th>\n",
       "      <td>Quality is good &amp; dupatta also good</td>\n",
       "      <td>1</td>\n",
       "    </tr>\n",
       "    <tr>\n",
       "      <th>1</th>\n",
       "      <td>Very nice kurta set I ordered for my mother</td>\n",
       "      <td>2</td>\n",
       "    </tr>\n",
       "    <tr>\n",
       "      <th>2</th>\n",
       "      <td>Kurta and trouser's quality is too good but du...</td>\n",
       "      <td>7</td>\n",
       "    </tr>\n",
       "    <tr>\n",
       "      <th>3</th>\n",
       "      <td>Liked it</td>\n",
       "      <td>1</td>\n",
       "    </tr>\n",
       "    <tr>\n",
       "      <th>4</th>\n",
       "      <td>Material is of cheap quality</td>\n",
       "      <td>2</td>\n",
       "    </tr>\n",
       "  </tbody>\n",
       "</table>\n",
       "</div>"
      ],
      "text/plain": [
       "                                      Review_comment  stopwords\n",
       "0                Quality is good & dupatta also good          1\n",
       "1        Very nice kurta set I ordered for my mother          2\n",
       "2  Kurta and trouser's quality is too good but du...          7\n",
       "3                                           Liked it          1\n",
       "4                       Material is of cheap quality          2"
      ]
     },
     "execution_count": 27,
     "metadata": {},
     "output_type": "execute_result"
    }
   ],
   "source": [
    "from nltk.corpus import stopwords\n",
    "stop = stopwords.words('english')\n",
    "\n",
    "reviews['stopwords'] = reviews['Review_comment'].apply(lambda x: len([x for x in str(x).split() if x in stop]))\n",
    "reviews[['Review_comment','stopwords']].head()"
   ]
  },
  {
   "cell_type": "markdown",
   "id": "d733b547",
   "metadata": {},
   "source": [
    "### Number of special characters"
   ]
  },
  {
   "cell_type": "code",
   "execution_count": 28,
   "id": "fb6b5e17",
   "metadata": {
    "ExecuteTime": {
     "end_time": "2023-04-28T06:42:10.379131Z",
     "start_time": "2023-04-28T06:42:10.340392Z"
    }
   },
   "outputs": [
    {
     "data": {
      "text/html": [
       "<div>\n",
       "<style scoped>\n",
       "    .dataframe tbody tr th:only-of-type {\n",
       "        vertical-align: middle;\n",
       "    }\n",
       "\n",
       "    .dataframe tbody tr th {\n",
       "        vertical-align: top;\n",
       "    }\n",
       "\n",
       "    .dataframe thead th {\n",
       "        text-align: right;\n",
       "    }\n",
       "</style>\n",
       "<table border=\"1\" class=\"dataframe\">\n",
       "  <thead>\n",
       "    <tr style=\"text-align: right;\">\n",
       "      <th></th>\n",
       "      <th>Review_comment</th>\n",
       "      <th>hashtags</th>\n",
       "    </tr>\n",
       "  </thead>\n",
       "  <tbody>\n",
       "    <tr>\n",
       "      <th>0</th>\n",
       "      <td>Quality is good &amp; dupatta also good</td>\n",
       "      <td>0</td>\n",
       "    </tr>\n",
       "    <tr>\n",
       "      <th>1</th>\n",
       "      <td>Very nice kurta set I ordered for my mother</td>\n",
       "      <td>0</td>\n",
       "    </tr>\n",
       "    <tr>\n",
       "      <th>2</th>\n",
       "      <td>Kurta and trouser's quality is too good but du...</td>\n",
       "      <td>0</td>\n",
       "    </tr>\n",
       "    <tr>\n",
       "      <th>3</th>\n",
       "      <td>Liked it</td>\n",
       "      <td>0</td>\n",
       "    </tr>\n",
       "    <tr>\n",
       "      <th>4</th>\n",
       "      <td>Material is of cheap quality</td>\n",
       "      <td>0</td>\n",
       "    </tr>\n",
       "  </tbody>\n",
       "</table>\n",
       "</div>"
      ],
      "text/plain": [
       "                                      Review_comment  hashtags\n",
       "0                Quality is good & dupatta also good         0\n",
       "1        Very nice kurta set I ordered for my mother         0\n",
       "2  Kurta and trouser's quality is too good but du...         0\n",
       "3                                           Liked it         0\n",
       "4                       Material is of cheap quality         0"
      ]
     },
     "execution_count": 28,
     "metadata": {},
     "output_type": "execute_result"
    }
   ],
   "source": [
    "reviews['hashtags'] = reviews['Review_comment'].apply(lambda x: len([x for x in str(x).split() if x.startswith('#')]))\n",
    "reviews[['Review_comment','hashtags']].head()"
   ]
  },
  {
   "cell_type": "markdown",
   "id": "6df6f6db",
   "metadata": {},
   "source": [
    "### Number of numerics"
   ]
  },
  {
   "cell_type": "code",
   "execution_count": 30,
   "id": "f8eaa5e3",
   "metadata": {
    "ExecuteTime": {
     "end_time": "2023-04-28T06:45:18.537311Z",
     "start_time": "2023-04-28T06:45:18.512755Z"
    }
   },
   "outputs": [
    {
     "data": {
      "text/html": [
       "<div>\n",
       "<style scoped>\n",
       "    .dataframe tbody tr th:only-of-type {\n",
       "        vertical-align: middle;\n",
       "    }\n",
       "\n",
       "    .dataframe tbody tr th {\n",
       "        vertical-align: top;\n",
       "    }\n",
       "\n",
       "    .dataframe thead th {\n",
       "        text-align: right;\n",
       "    }\n",
       "</style>\n",
       "<table border=\"1\" class=\"dataframe\">\n",
       "  <thead>\n",
       "    <tr style=\"text-align: right;\">\n",
       "      <th></th>\n",
       "      <th>Review_comment</th>\n",
       "      <th>numerics</th>\n",
       "    </tr>\n",
       "  </thead>\n",
       "  <tbody>\n",
       "    <tr>\n",
       "      <th>0</th>\n",
       "      <td>Quality is good &amp; dupatta also good</td>\n",
       "      <td>0</td>\n",
       "    </tr>\n",
       "    <tr>\n",
       "      <th>1</th>\n",
       "      <td>Very nice kurta set I ordered for my mother</td>\n",
       "      <td>0</td>\n",
       "    </tr>\n",
       "    <tr>\n",
       "      <th>2</th>\n",
       "      <td>Kurta and trouser's quality is too good but du...</td>\n",
       "      <td>0</td>\n",
       "    </tr>\n",
       "    <tr>\n",
       "      <th>3</th>\n",
       "      <td>Liked it</td>\n",
       "      <td>0</td>\n",
       "    </tr>\n",
       "    <tr>\n",
       "      <th>4</th>\n",
       "      <td>Material is of cheap quality</td>\n",
       "      <td>0</td>\n",
       "    </tr>\n",
       "  </tbody>\n",
       "</table>\n",
       "</div>"
      ],
      "text/plain": [
       "                                      Review_comment  numerics\n",
       "0                Quality is good & dupatta also good         0\n",
       "1        Very nice kurta set I ordered for my mother         0\n",
       "2  Kurta and trouser's quality is too good but du...         0\n",
       "3                                           Liked it         0\n",
       "4                       Material is of cheap quality         0"
      ]
     },
     "execution_count": 30,
     "metadata": {},
     "output_type": "execute_result"
    }
   ],
   "source": [
    "reviews['numerics'] = reviews['Review_comment'].apply(lambda x: len([x for x in str(x).split() if x.isdigit()]))\n",
    "reviews[['Review_comment','numerics']].head()"
   ]
  },
  {
   "cell_type": "markdown",
   "id": "b4bc20fb",
   "metadata": {},
   "source": [
    "### Number of Uppercase words"
   ]
  },
  {
   "cell_type": "code",
   "execution_count": 31,
   "id": "0970248c",
   "metadata": {
    "ExecuteTime": {
     "end_time": "2023-04-28T06:45:55.638212Z",
     "start_time": "2023-04-28T06:45:55.607362Z"
    }
   },
   "outputs": [
    {
     "data": {
      "text/html": [
       "<div>\n",
       "<style scoped>\n",
       "    .dataframe tbody tr th:only-of-type {\n",
       "        vertical-align: middle;\n",
       "    }\n",
       "\n",
       "    .dataframe tbody tr th {\n",
       "        vertical-align: top;\n",
       "    }\n",
       "\n",
       "    .dataframe thead th {\n",
       "        text-align: right;\n",
       "    }\n",
       "</style>\n",
       "<table border=\"1\" class=\"dataframe\">\n",
       "  <thead>\n",
       "    <tr style=\"text-align: right;\">\n",
       "      <th></th>\n",
       "      <th>Review_comment</th>\n",
       "      <th>upper</th>\n",
       "    </tr>\n",
       "  </thead>\n",
       "  <tbody>\n",
       "    <tr>\n",
       "      <th>0</th>\n",
       "      <td>Quality is good &amp; dupatta also good</td>\n",
       "      <td>0</td>\n",
       "    </tr>\n",
       "    <tr>\n",
       "      <th>1</th>\n",
       "      <td>Very nice kurta set I ordered for my mother</td>\n",
       "      <td>1</td>\n",
       "    </tr>\n",
       "    <tr>\n",
       "      <th>2</th>\n",
       "      <td>Kurta and trouser's quality is too good but du...</td>\n",
       "      <td>1</td>\n",
       "    </tr>\n",
       "    <tr>\n",
       "      <th>3</th>\n",
       "      <td>Liked it</td>\n",
       "      <td>0</td>\n",
       "    </tr>\n",
       "    <tr>\n",
       "      <th>4</th>\n",
       "      <td>Material is of cheap quality</td>\n",
       "      <td>0</td>\n",
       "    </tr>\n",
       "  </tbody>\n",
       "</table>\n",
       "</div>"
      ],
      "text/plain": [
       "                                      Review_comment  upper\n",
       "0                Quality is good & dupatta also good      0\n",
       "1        Very nice kurta set I ordered for my mother      1\n",
       "2  Kurta and trouser's quality is too good but du...      1\n",
       "3                                           Liked it      0\n",
       "4                       Material is of cheap quality      0"
      ]
     },
     "execution_count": 31,
     "metadata": {},
     "output_type": "execute_result"
    }
   ],
   "source": [
    "reviews['upper'] = reviews['Review_comment'].apply(lambda x: len([x for x in str(x).split() if x.isupper()]))\n",
    "reviews[['Review_comment','upper']].head()"
   ]
  },
  {
   "cell_type": "code",
   "execution_count": 33,
   "id": "5d4971c1",
   "metadata": {
    "ExecuteTime": {
     "end_time": "2023-04-28T06:53:12.690894Z",
     "start_time": "2023-04-28T06:53:12.682879Z"
    }
   },
   "outputs": [],
   "source": [
    "reviews.drop(['numerics','stopwords','avg_word','char_count','word_count','upper'],axis=1,inplace=True)"
   ]
  },
  {
   "cell_type": "markdown",
   "id": "c0967bc5",
   "metadata": {},
   "source": [
    "## Spelling correction"
   ]
  },
  {
   "cell_type": "code",
   "execution_count": 34,
   "id": "674d5ce5",
   "metadata": {
    "ExecuteTime": {
     "end_time": "2023-04-28T06:53:54.400702Z",
     "start_time": "2023-04-28T06:53:53.223351Z"
    }
   },
   "outputs": [
    {
     "data": {
      "text/plain": [
       "0                  Quality is good & dupatta also good\n",
       "1          Very nice bursa set I ordered for my mother\n",
       "2    Bursa and trouser's quality is too good but du...\n",
       "3                                             Liked it\n",
       "4                         Material is of cheap quality\n",
       "Name: Review_comment, dtype: object"
      ]
     },
     "execution_count": 34,
     "metadata": {},
     "output_type": "execute_result"
    }
   ],
   "source": [
    "from textblob import TextBlob\n",
    "reviews['Review_comment'][:5].apply(lambda x: str(TextBlob(x).correct()))"
   ]
  },
  {
   "cell_type": "markdown",
   "id": "28196633",
   "metadata": {},
   "source": [
    "## Feature Engineering"
   ]
  },
  {
   "cell_type": "code",
   "execution_count": 35,
   "id": "d1033d94",
   "metadata": {
    "ExecuteTime": {
     "end_time": "2023-04-28T06:55:07.843160Z",
     "start_time": "2023-04-28T06:55:07.812903Z"
    }
   },
   "outputs": [
    {
     "name": "stdout",
     "output_type": "stream",
     "text": [
      "0     28\n",
      "1     26\n",
      "2     24\n",
      "3     24\n",
      "4     23\n",
      "5     24\n",
      "6     23\n",
      "7     27\n",
      "8     27\n",
      "9     26\n",
      "10    26\n",
      "11    25\n",
      "Name: Date, dtype: object \n",
      " 0     Apr\n",
      "1     Apr\n",
      "2     Apr\n",
      "3     Apr\n",
      "4     Apr\n",
      "5     Apr\n",
      "6     Apr\n",
      "7     Apr\n",
      "8     Apr\n",
      "9     Apr\n",
      "10    Apr\n",
      "11    Apr\n",
      "Name: Date, dtype: object \n",
      " 0     2023\n",
      "1     2023\n",
      "2     2023\n",
      "3     2023\n",
      "4     2023\n",
      "5     2023\n",
      "6     2023\n",
      "7     2023\n",
      "8     2023\n",
      "9     2023\n",
      "10    2023\n",
      "11    2023\n",
      "Name: Date, dtype: object\n"
     ]
    }
   ],
   "source": [
    "print(reviews['Date'].str.split(' ').str[0],'\\n',\n",
    "      reviews['Date'].str.split(' ').str[1],'\\n',\n",
    "      reviews['Date'].str.split(' ').str[2])"
   ]
  },
  {
   "cell_type": "markdown",
   "id": "8f9b0b45",
   "metadata": {},
   "source": [
    "### Spliting Review Date into Three seperate Columns (Year,Month,Day)"
   ]
  },
  {
   "cell_type": "code",
   "execution_count": 40,
   "id": "75fa06db",
   "metadata": {
    "ExecuteTime": {
     "end_time": "2023-04-28T06:58:57.538141Z",
     "start_time": "2023-04-28T06:58:57.507192Z"
    }
   },
   "outputs": [
    {
     "data": {
      "text/html": [
       "<div>\n",
       "<style scoped>\n",
       "    .dataframe tbody tr th:only-of-type {\n",
       "        vertical-align: middle;\n",
       "    }\n",
       "\n",
       "    .dataframe tbody tr th {\n",
       "        vertical-align: top;\n",
       "    }\n",
       "\n",
       "    .dataframe thead th {\n",
       "        text-align: right;\n",
       "    }\n",
       "</style>\n",
       "<table border=\"1\" class=\"dataframe\">\n",
       "  <thead>\n",
       "    <tr style=\"text-align: right;\">\n",
       "      <th></th>\n",
       "      <th>Date</th>\n",
       "    </tr>\n",
       "  </thead>\n",
       "  <tbody>\n",
       "    <tr>\n",
       "      <th>0</th>\n",
       "      <td>28</td>\n",
       "    </tr>\n",
       "    <tr>\n",
       "      <th>1</th>\n",
       "      <td>26</td>\n",
       "    </tr>\n",
       "    <tr>\n",
       "      <th>2</th>\n",
       "      <td>24</td>\n",
       "    </tr>\n",
       "    <tr>\n",
       "      <th>3</th>\n",
       "      <td>24</td>\n",
       "    </tr>\n",
       "    <tr>\n",
       "      <th>4</th>\n",
       "      <td>23</td>\n",
       "    </tr>\n",
       "    <tr>\n",
       "      <th>5</th>\n",
       "      <td>24</td>\n",
       "    </tr>\n",
       "    <tr>\n",
       "      <th>6</th>\n",
       "      <td>23</td>\n",
       "    </tr>\n",
       "    <tr>\n",
       "      <th>7</th>\n",
       "      <td>27</td>\n",
       "    </tr>\n",
       "    <tr>\n",
       "      <th>8</th>\n",
       "      <td>27</td>\n",
       "    </tr>\n",
       "    <tr>\n",
       "      <th>9</th>\n",
       "      <td>26</td>\n",
       "    </tr>\n",
       "    <tr>\n",
       "      <th>10</th>\n",
       "      <td>26</td>\n",
       "    </tr>\n",
       "    <tr>\n",
       "      <th>11</th>\n",
       "      <td>25</td>\n",
       "    </tr>\n",
       "  </tbody>\n",
       "</table>\n",
       "</div>"
      ],
      "text/plain": [
       "   Date\n",
       "0    28\n",
       "1    26\n",
       "2    24\n",
       "3    24\n",
       "4    23\n",
       "5    24\n",
       "6    23\n",
       "7    27\n",
       "8    27\n",
       "9    26\n",
       "10   26\n",
       "11   25"
      ]
     },
     "execution_count": 40,
     "metadata": {},
     "output_type": "execute_result"
    }
   ],
   "source": [
    "df=reviews.copy()\n",
    "df['Date']=df['Date'].str.split(' ').str[0]\n",
    "df[['Date']]"
   ]
  },
  {
   "cell_type": "markdown",
   "id": "b09ebb95",
   "metadata": {},
   "source": [
    "# Data Visualization"
   ]
  },
  {
   "cell_type": "code",
   "execution_count": 42,
   "id": "52a1f5a6",
   "metadata": {
    "ExecuteTime": {
     "end_time": "2023-04-28T06:59:51.338313Z",
     "start_time": "2023-04-28T06:59:50.908127Z"
    }
   },
   "outputs": [
    {
     "data": {
      "image/png": "[encoded data removed]",
      "text/plain": [
       "<Figure size 1600x800 with 1 Axes>"
      ]
     },
     "metadata": {},
     "output_type": "display_data"
    }
   ],
   "source": [
    "#Creating a dataframe\n",
    "dayreview = pd.DataFrame(df.groupby('Date')['Review_comment'].count()).reset_index()\n",
    "dayreview['Date'] = dayreview['Date'].astype('int64')\n",
    "dayreview.sort_values(by = ['Date'])\n",
    "\n",
    "#Plotting the graph\n",
    "plt.figure(figsize=(16,8))\n",
    "sns.barplot(x = \"Date\", y = \"Review_comment\", data = dayreview)\n",
    "plt.title('Date vs Reviews count')\n",
    "plt.xlabel('Date')\n",
    "plt.ylabel('Reviews count')\n",
    "plt.show()"
   ]
  },
  {
   "cell_type": "code",
   "execution_count": 43,
   "id": "63a471fd",
   "metadata": {
    "ExecuteTime": {
     "end_time": "2023-04-28T07:00:23.664307Z",
     "start_time": "2023-04-28T07:00:23.417104Z"
    }
   },
   "outputs": [
    {
     "data": {
      "image/png": "[encoded data removed]",
      "text/plain": [
       "<Figure size 1200x800 with 1 Axes>"
      ]
     },
     "metadata": {},
     "output_type": "display_data"
    }
   ],
   "source": [
    "plt.figure(figsize=(12,8))\n",
    "plt.title('Percentage of Ratings')\n",
    "ax = sns.countplot(y = 'Rating', data = reviews)\n",
    "total = len(reviews)\n",
    "for p in ax.patches:\n",
    "        percentage = '{:.1f}%'.format(100 * p.get_width()/total)\n",
    "        x = p.get_x() + p.get_width() + 0.02\n",
    "        y = p.get_y() + p.get_height()/2\n",
    "        ax.annotate(percentage, (x, y))"
   ]
  },
  {
   "cell_type": "markdown",
   "id": "f9c9c038",
   "metadata": {
    "ExecuteTime": {
     "end_time": "2023-04-28T07:00:48.608781Z",
     "start_time": "2023-04-28T07:00:48.294850Z"
    }
   },
   "source": [
    "# BasicText Preprocessing"
   ]
  },
  {
   "cell_type": "markdown",
   "id": "41a4c71c",
   "metadata": {},
   "source": [
    "## For Sentiment Analysis"
   ]
  },
  {
   "cell_type": "code",
   "execution_count": 45,
   "id": "c8969be6",
   "metadata": {
    "ExecuteTime": {
     "end_time": "2023-04-28T07:02:30.371009Z",
     "start_time": "2023-04-28T07:02:30.354982Z"
    }
   },
   "outputs": [
    {
     "data": {
      "text/html": [
       "<div>\n",
       "<style scoped>\n",
       "    .dataframe tbody tr th:only-of-type {\n",
       "        vertical-align: middle;\n",
       "    }\n",
       "\n",
       "    .dataframe tbody tr th {\n",
       "        vertical-align: top;\n",
       "    }\n",
       "\n",
       "    .dataframe thead th {\n",
       "        text-align: right;\n",
       "    }\n",
       "</style>\n",
       "<table border=\"1\" class=\"dataframe\">\n",
       "  <thead>\n",
       "    <tr style=\"text-align: right;\">\n",
       "      <th></th>\n",
       "      <th>Review_comment</th>\n",
       "    </tr>\n",
       "  </thead>\n",
       "  <tbody>\n",
       "    <tr>\n",
       "      <th>0</th>\n",
       "      <td>Quality is good &amp; dupatta also good</td>\n",
       "    </tr>\n",
       "    <tr>\n",
       "      <th>1</th>\n",
       "      <td>Very nice kurta set I ordered for my mother</td>\n",
       "    </tr>\n",
       "    <tr>\n",
       "      <th>2</th>\n",
       "      <td>Kurta and trouser's quality is too good but du...</td>\n",
       "    </tr>\n",
       "    <tr>\n",
       "      <th>3</th>\n",
       "      <td>Liked it</td>\n",
       "    </tr>\n",
       "    <tr>\n",
       "      <th>4</th>\n",
       "      <td>Material is of cheap quality</td>\n",
       "    </tr>\n",
       "    <tr>\n",
       "      <th>5</th>\n",
       "      <td>Cloth fabric was not good... Looks like winter...</td>\n",
       "    </tr>\n",
       "    <tr>\n",
       "      <th>6</th>\n",
       "      <td>Not much happy with the fabric. Okayish product</td>\n",
       "    </tr>\n",
       "    <tr>\n",
       "      <th>7</th>\n",
       "      <td>Product material is not good.</td>\n",
       "    </tr>\n",
       "    <tr>\n",
       "      <th>8</th>\n",
       "      <td>Very low quality product not worth it</td>\n",
       "    </tr>\n",
       "    <tr>\n",
       "      <th>9</th>\n",
       "      <td>Cloth quality is good👍</td>\n",
       "    </tr>\n",
       "    <tr>\n",
       "      <th>10</th>\n",
       "      <td>Look is not as expected</td>\n",
       "    </tr>\n",
       "    <tr>\n",
       "      <th>11</th>\n",
       "      <td>I didn't like the color.</td>\n",
       "    </tr>\n",
       "  </tbody>\n",
       "</table>\n",
       "</div>"
      ],
      "text/plain": [
       "                                       Review_comment\n",
       "0                 Quality is good & dupatta also good\n",
       "1         Very nice kurta set I ordered for my mother\n",
       "2   Kurta and trouser's quality is too good but du...\n",
       "3                                            Liked it\n",
       "4                        Material is of cheap quality\n",
       "5   Cloth fabric was not good... Looks like winter...\n",
       "6     Not much happy with the fabric. Okayish product\n",
       "7                       Product material is not good.\n",
       "8               Very low quality product not worth it\n",
       "9                              Cloth quality is good👍\n",
       "10                            Look is not as expected\n",
       "11                           I didn't like the color."
      ]
     },
     "execution_count": 45,
     "metadata": {},
     "output_type": "execute_result"
    }
   ],
   "source": [
    "data = reviews[['Review_comment']]\n",
    "data"
   ]
  },
  {
   "cell_type": "code",
   "execution_count": 46,
   "id": "52dbf5ee",
   "metadata": {
    "ExecuteTime": {
     "end_time": "2023-04-28T07:18:27.517963Z",
     "start_time": "2023-04-28T07:18:27.490961Z"
    }
   },
   "outputs": [
    {
     "name": "stderr",
     "output_type": "stream",
     "text": [
      "C:\\Users\\ARPITA\\AppData\\Local\\Temp\\ipykernel_16676\\223147279.py:3: SettingWithCopyWarning: \n",
      "A value is trying to be set on a copy of a slice from a DataFrame.\n",
      "Try using .loc[row_indexer,col_indexer] = value instead\n",
      "\n",
      "See the caveats in the documentation: https://pandas.pydata.org/pandas-docs/stable/user_guide/indexing.html#returning-a-view-versus-a-copy\n",
      "  data['Review_comment'] = data['Review_comment'].apply(lambda x: \" \".join(x.lower() for x in str(x).split() \\\n"
     ]
    }
   ],
   "source": [
    "from nltk.corpus import stopwords\n",
    "stop_words = stopwords.words('english')\n",
    "data['Review_comment'] = data['Review_comment'].apply(lambda x: \" \".join(x.lower() for x in str(x).split() \\\n",
    "                                    if x not in stop_words))"
   ]
  },
  {
   "cell_type": "code",
   "execution_count": 47,
   "id": "77d5fce1",
   "metadata": {
    "ExecuteTime": {
     "end_time": "2023-04-28T07:18:34.925550Z",
     "start_time": "2023-04-28T07:18:34.894142Z"
    }
   },
   "outputs": [
    {
     "data": {
      "text/html": [
       "<div>\n",
       "<style scoped>\n",
       "    .dataframe tbody tr th:only-of-type {\n",
       "        vertical-align: middle;\n",
       "    }\n",
       "\n",
       "    .dataframe tbody tr th {\n",
       "        vertical-align: top;\n",
       "    }\n",
       "\n",
       "    .dataframe thead th {\n",
       "        text-align: right;\n",
       "    }\n",
       "</style>\n",
       "<table border=\"1\" class=\"dataframe\">\n",
       "  <thead>\n",
       "    <tr style=\"text-align: right;\">\n",
       "      <th></th>\n",
       "      <th>Review_comment</th>\n",
       "    </tr>\n",
       "  </thead>\n",
       "  <tbody>\n",
       "    <tr>\n",
       "      <th>0</th>\n",
       "      <td>quality good &amp; dupatta also good</td>\n",
       "    </tr>\n",
       "    <tr>\n",
       "      <th>1</th>\n",
       "      <td>very nice kurta set i ordered mother</td>\n",
       "    </tr>\n",
       "    <tr>\n",
       "      <th>2</th>\n",
       "      <td>kurta trouser's quality good dupatta bad 😞 i c...</td>\n",
       "    </tr>\n",
       "    <tr>\n",
       "      <th>3</th>\n",
       "      <td>liked</td>\n",
       "    </tr>\n",
       "    <tr>\n",
       "      <th>4</th>\n",
       "      <td>material cheap quality</td>\n",
       "    </tr>\n",
       "    <tr>\n",
       "      <th>5</th>\n",
       "      <td>cloth fabric good... looks like winter stuff</td>\n",
       "    </tr>\n",
       "    <tr>\n",
       "      <th>6</th>\n",
       "      <td>not much happy fabric. okayish product</td>\n",
       "    </tr>\n",
       "    <tr>\n",
       "      <th>7</th>\n",
       "      <td>product material good.</td>\n",
       "    </tr>\n",
       "    <tr>\n",
       "      <th>8</th>\n",
       "      <td>very low quality product worth</td>\n",
       "    </tr>\n",
       "    <tr>\n",
       "      <th>9</th>\n",
       "      <td>cloth quality good👍</td>\n",
       "    </tr>\n",
       "    <tr>\n",
       "      <th>10</th>\n",
       "      <td>look expected</td>\n",
       "    </tr>\n",
       "    <tr>\n",
       "      <th>11</th>\n",
       "      <td>i like color.</td>\n",
       "    </tr>\n",
       "  </tbody>\n",
       "</table>\n",
       "</div>"
      ],
      "text/plain": [
       "                                       Review_comment\n",
       "0                    quality good & dupatta also good\n",
       "1                very nice kurta set i ordered mother\n",
       "2   kurta trouser's quality good dupatta bad 😞 i c...\n",
       "3                                               liked\n",
       "4                              material cheap quality\n",
       "5        cloth fabric good... looks like winter stuff\n",
       "6              not much happy fabric. okayish product\n",
       "7                              product material good.\n",
       "8                      very low quality product worth\n",
       "9                                 cloth quality good👍\n",
       "10                                      look expected\n",
       "11                                      i like color."
      ]
     },
     "execution_count": 47,
     "metadata": {},
     "output_type": "execute_result"
    }
   ],
   "source": [
    "data"
   ]
  },
  {
   "cell_type": "code",
   "execution_count": 50,
   "id": "79d2204b",
   "metadata": {
    "ExecuteTime": {
     "end_time": "2023-04-28T07:21:19.210050Z",
     "start_time": "2023-04-28T07:21:14.364362Z"
    }
   },
   "outputs": [
    {
     "data": {
      "application/vnd.jupyter.widget-view+json": {
       "model_id": "8c07ee5117924c4ca0114240907cad30",
       "version_major": 2,
       "version_minor": 0
      },
      "text/plain": [
       "  0%|          | 0/12 [00:00<?, ?it/s]"
      ]
     },
     "metadata": {},
     "output_type": "display_data"
    }
   ],
   "source": [
    "from nltk.stem import WordNetLemmatizer\n",
    "from tqdm.notebook import tqdm_notebook\n",
    "\n",
    "lemmatizer = WordNetLemmatizer()\n",
    "# Removing punctuation, making str to lower, applying Lemmatizer, Removing Stop words\n",
    "corpus=[]\n",
    "for i in tqdm_notebook(range(0, len(data))):\n",
    "    cleaned= re.sub('[^a-zA-Z]', \" \", data[\"Review_comment\"][i])\n",
    "    cleaned= cleaned.lower()\n",
    "    cleaned = cleaned.split()\n",
    "    cleaned= [lemmatizer.lemmatize(word) for word in cleaned if word not in stopwords.words(\"english\")]\n",
    "    cleaned= ' '.join(cleaned)\n",
    "    corpus.append(cleaned)"
   ]
  },
  {
   "cell_type": "code",
   "execution_count": 51,
   "id": "f7c711f0",
   "metadata": {
    "ExecuteTime": {
     "end_time": "2023-04-28T07:21:58.193482Z",
     "start_time": "2023-04-28T07:21:58.165634Z"
    }
   },
   "outputs": [
    {
     "data": {
      "text/html": [
       "<div>\n",
       "<style scoped>\n",
       "    .dataframe tbody tr th:only-of-type {\n",
       "        vertical-align: middle;\n",
       "    }\n",
       "\n",
       "    .dataframe tbody tr th {\n",
       "        vertical-align: top;\n",
       "    }\n",
       "\n",
       "    .dataframe thead th {\n",
       "        text-align: right;\n",
       "    }\n",
       "</style>\n",
       "<table border=\"1\" class=\"dataframe\">\n",
       "  <thead>\n",
       "    <tr style=\"text-align: right;\">\n",
       "      <th></th>\n",
       "      <th>Clean_Reviews</th>\n",
       "      <th>Uncleaned_Reviews</th>\n",
       "    </tr>\n",
       "  </thead>\n",
       "  <tbody>\n",
       "    <tr>\n",
       "      <th>0</th>\n",
       "      <td>quality good dupatta also good</td>\n",
       "      <td>Quality is good &amp; dupatta also good</td>\n",
       "    </tr>\n",
       "    <tr>\n",
       "      <th>1</th>\n",
       "      <td>nice kurta set ordered mother</td>\n",
       "      <td>Very nice kurta set I ordered for my mother</td>\n",
       "    </tr>\n",
       "    <tr>\n",
       "      <th>2</th>\n",
       "      <td>kurta trouser quality good dupatta bad wear du...</td>\n",
       "      <td>Kurta and trouser's quality is too good but du...</td>\n",
       "    </tr>\n",
       "    <tr>\n",
       "      <th>3</th>\n",
       "      <td>liked</td>\n",
       "      <td>Liked it</td>\n",
       "    </tr>\n",
       "    <tr>\n",
       "      <th>4</th>\n",
       "      <td>material cheap quality</td>\n",
       "      <td>Material is of cheap quality</td>\n",
       "    </tr>\n",
       "  </tbody>\n",
       "</table>\n",
       "</div>"
      ],
      "text/plain": [
       "                                       Clean_Reviews  \\\n",
       "0                     quality good dupatta also good   \n",
       "1                      nice kurta set ordered mother   \n",
       "2  kurta trouser quality good dupatta bad wear du...   \n",
       "3                                              liked   \n",
       "4                             material cheap quality   \n",
       "\n",
       "                                   Uncleaned_Reviews  \n",
       "0                Quality is good & dupatta also good  \n",
       "1        Very nice kurta set I ordered for my mother  \n",
       "2  Kurta and trouser's quality is too good but du...  \n",
       "3                                           Liked it  \n",
       "4                       Material is of cheap quality  "
      ]
     },
     "execution_count": 51,
     "metadata": {},
     "output_type": "execute_result"
    }
   ],
   "source": [
    "#Saving cleaned data to compare with original data, to ckeck amount of information lost\n",
    "dataframe = pd.DataFrame({\"Clean_Reviews\": corpus,\"Uncleaned_Reviews\": df.Review_comment})\n",
    "dataframe.head()"
   ]
  },
  {
   "cell_type": "markdown",
   "id": "13e62a0b",
   "metadata": {
    "ExecuteTime": {
     "end_time": "2023-04-28T07:26:02.040002Z",
     "start_time": "2023-04-28T07:26:02.024811Z"
    }
   },
   "source": [
    "#  Text Pre-processing Techniques\n",
    "## Pre-processing 'Key Words'"
   ]
  },
  {
   "cell_type": "markdown",
   "id": "6c697aba",
   "metadata": {},
   "source": [
    "#### Removing '@names'"
   ]
  },
  {
   "cell_type": "code",
   "execution_count": 53,
   "id": "168c9514",
   "metadata": {
    "ExecuteTime": {
     "end_time": "2023-04-28T07:26:39.710729Z",
     "start_time": "2023-04-28T07:26:39.690039Z"
    }
   },
   "outputs": [],
   "source": [
    "def remove_pattern(text, pattern_regex):\n",
    "    r = re.findall(pattern_regex, text)\n",
    "    for i in r:\n",
    "        text = re.sub(i, '', text)\n",
    "    \n",
    "    return text "
   ]
  },
  {
   "cell_type": "code",
   "execution_count": 54,
   "id": "24ef53c2",
   "metadata": {
    "ExecuteTime": {
     "end_time": "2023-04-28T07:26:47.959952Z",
     "start_time": "2023-04-28T07:26:47.936624Z"
    }
   },
   "outputs": [
    {
     "data": {
      "text/html": [
       "<div>\n",
       "<style scoped>\n",
       "    .dataframe tbody tr th:only-of-type {\n",
       "        vertical-align: middle;\n",
       "    }\n",
       "\n",
       "    .dataframe tbody tr th {\n",
       "        vertical-align: top;\n",
       "    }\n",
       "\n",
       "    .dataframe thead th {\n",
       "        text-align: right;\n",
       "    }\n",
       "</style>\n",
       "<table border=\"1\" class=\"dataframe\">\n",
       "  <thead>\n",
       "    <tr style=\"text-align: right;\">\n",
       "      <th></th>\n",
       "      <th>Clean_Reviews</th>\n",
       "      <th>Uncleaned_Reviews</th>\n",
       "    </tr>\n",
       "  </thead>\n",
       "  <tbody>\n",
       "    <tr>\n",
       "      <th>0</th>\n",
       "      <td>quality good dupatta also good</td>\n",
       "      <td>Quality is good &amp; dupatta also good</td>\n",
       "    </tr>\n",
       "    <tr>\n",
       "      <th>1</th>\n",
       "      <td>nice kurta set ordered mother</td>\n",
       "      <td>Very nice kurta set I ordered for my mother</td>\n",
       "    </tr>\n",
       "    <tr>\n",
       "      <th>2</th>\n",
       "      <td>kurta trouser quality good dupatta bad wear du...</td>\n",
       "      <td>Kurta and trouser's quality is too good but du...</td>\n",
       "    </tr>\n",
       "    <tr>\n",
       "      <th>3</th>\n",
       "      <td>liked</td>\n",
       "      <td>Liked it</td>\n",
       "    </tr>\n",
       "    <tr>\n",
       "      <th>4</th>\n",
       "      <td>material cheap quality</td>\n",
       "      <td>Material is of cheap quality</td>\n",
       "    </tr>\n",
       "    <tr>\n",
       "      <th>5</th>\n",
       "      <td>cloth fabric good look like winter stuff</td>\n",
       "      <td>Cloth fabric was not good... Looks like winter...</td>\n",
       "    </tr>\n",
       "    <tr>\n",
       "      <th>6</th>\n",
       "      <td>much happy fabric okayish product</td>\n",
       "      <td>Not much happy with the fabric. Okayish product</td>\n",
       "    </tr>\n",
       "    <tr>\n",
       "      <th>7</th>\n",
       "      <td>product material good</td>\n",
       "      <td>Product material is not good.</td>\n",
       "    </tr>\n",
       "    <tr>\n",
       "      <th>8</th>\n",
       "      <td>low quality product worth</td>\n",
       "      <td>Very low quality product not worth it</td>\n",
       "    </tr>\n",
       "    <tr>\n",
       "      <th>9</th>\n",
       "      <td>cloth quality good</td>\n",
       "      <td>Cloth quality is good👍</td>\n",
       "    </tr>\n",
       "  </tbody>\n",
       "</table>\n",
       "</div>"
      ],
      "text/plain": [
       "                                       Clean_Reviews  \\\n",
       "0                     quality good dupatta also good   \n",
       "1                      nice kurta set ordered mother   \n",
       "2  kurta trouser quality good dupatta bad wear du...   \n",
       "3                                              liked   \n",
       "4                             material cheap quality   \n",
       "5           cloth fabric good look like winter stuff   \n",
       "6                  much happy fabric okayish product   \n",
       "7                              product material good   \n",
       "8                          low quality product worth   \n",
       "9                                 cloth quality good   \n",
       "\n",
       "                                   Uncleaned_Reviews  \n",
       "0                Quality is good & dupatta also good  \n",
       "1        Very nice kurta set I ordered for my mother  \n",
       "2  Kurta and trouser's quality is too good but du...  \n",
       "3                                           Liked it  \n",
       "4                       Material is of cheap quality  \n",
       "5  Cloth fabric was not good... Looks like winter...  \n",
       "6    Not much happy with the fabric. Okayish product  \n",
       "7                      Product material is not good.  \n",
       "8              Very low quality product not worth it  \n",
       "9                             Cloth quality is good👍  "
      ]
     },
     "execution_count": 54,
     "metadata": {},
     "output_type": "execute_result"
    }
   ],
   "source": [
    "# We are keeping cleaned tweets in a new column called 'tidy_tweets'\n",
    "dataframe['Clean_Reviews'] = np.vectorize(remove_pattern)(dataframe['Clean_Reviews'], \"@[\\w]*\")\n",
    "dataframe.head(10)"
   ]
  },
  {
   "cell_type": "markdown",
   "id": "ca43b770",
   "metadata": {},
   "source": [
    "#### Removing links (http | https)"
   ]
  },
  {
   "cell_type": "code",
   "execution_count": 55,
   "id": "449876eb",
   "metadata": {
    "ExecuteTime": {
     "end_time": "2023-04-28T07:27:24.067684Z",
     "start_time": "2023-04-28T07:27:24.036017Z"
    }
   },
   "outputs": [
    {
     "data": {
      "text/html": [
       "<div>\n",
       "<style scoped>\n",
       "    .dataframe tbody tr th:only-of-type {\n",
       "        vertical-align: middle;\n",
       "    }\n",
       "\n",
       "    .dataframe tbody tr th {\n",
       "        vertical-align: top;\n",
       "    }\n",
       "\n",
       "    .dataframe thead th {\n",
       "        text-align: right;\n",
       "    }\n",
       "</style>\n",
       "<table border=\"1\" class=\"dataframe\">\n",
       "  <thead>\n",
       "    <tr style=\"text-align: right;\">\n",
       "      <th></th>\n",
       "      <th>Clean_Reviews</th>\n",
       "      <th>Uncleaned_Reviews</th>\n",
       "    </tr>\n",
       "  </thead>\n",
       "  <tbody>\n",
       "    <tr>\n",
       "      <th>0</th>\n",
       "      <td>quality good dupatta also good</td>\n",
       "      <td>Quality is good &amp; dupatta also good</td>\n",
       "    </tr>\n",
       "    <tr>\n",
       "      <th>1</th>\n",
       "      <td>nice kurta set ordered mother</td>\n",
       "      <td>Very nice kurta set I ordered for my mother</td>\n",
       "    </tr>\n",
       "    <tr>\n",
       "      <th>2</th>\n",
       "      <td>kurta trouser quality good dupatta bad wear du...</td>\n",
       "      <td>Kurta and trouser's quality is too good but du...</td>\n",
       "    </tr>\n",
       "    <tr>\n",
       "      <th>3</th>\n",
       "      <td>liked</td>\n",
       "      <td>Liked it</td>\n",
       "    </tr>\n",
       "    <tr>\n",
       "      <th>4</th>\n",
       "      <td>material cheap quality</td>\n",
       "      <td>Material is of cheap quality</td>\n",
       "    </tr>\n",
       "    <tr>\n",
       "      <th>5</th>\n",
       "      <td>cloth fabric good look like winter stuff</td>\n",
       "      <td>Cloth fabric was not good... Looks like winter...</td>\n",
       "    </tr>\n",
       "    <tr>\n",
       "      <th>6</th>\n",
       "      <td>much happy fabric okayish product</td>\n",
       "      <td>Not much happy with the fabric. Okayish product</td>\n",
       "    </tr>\n",
       "    <tr>\n",
       "      <th>7</th>\n",
       "      <td>product material good</td>\n",
       "      <td>Product material is not good.</td>\n",
       "    </tr>\n",
       "    <tr>\n",
       "      <th>8</th>\n",
       "      <td>low quality product worth</td>\n",
       "      <td>Very low quality product not worth it</td>\n",
       "    </tr>\n",
       "    <tr>\n",
       "      <th>9</th>\n",
       "      <td>cloth quality good</td>\n",
       "      <td>Cloth quality is good👍</td>\n",
       "    </tr>\n",
       "  </tbody>\n",
       "</table>\n",
       "</div>"
      ],
      "text/plain": [
       "                                       Clean_Reviews  \\\n",
       "0                     quality good dupatta also good   \n",
       "1                      nice kurta set ordered mother   \n",
       "2  kurta trouser quality good dupatta bad wear du...   \n",
       "3                                              liked   \n",
       "4                             material cheap quality   \n",
       "5           cloth fabric good look like winter stuff   \n",
       "6                  much happy fabric okayish product   \n",
       "7                              product material good   \n",
       "8                          low quality product worth   \n",
       "9                                 cloth quality good   \n",
       "\n",
       "                                   Uncleaned_Reviews  \n",
       "0                Quality is good & dupatta also good  \n",
       "1        Very nice kurta set I ordered for my mother  \n",
       "2  Kurta and trouser's quality is too good but du...  \n",
       "3                                           Liked it  \n",
       "4                       Material is of cheap quality  \n",
       "5  Cloth fabric was not good... Looks like winter...  \n",
       "6    Not much happy with the fabric. Okayish product  \n",
       "7                      Product material is not good.  \n",
       "8              Very low quality product not worth it  \n",
       "9                             Cloth quality is good👍  "
      ]
     },
     "execution_count": 55,
     "metadata": {},
     "output_type": "execute_result"
    }
   ],
   "source": [
    "cleaned_reviews = []\n",
    "\n",
    "for index, row in dataframe.iterrows():\n",
    "    # Here we are filtering out all the words that contains link\n",
    "    words_without_links = [word for word in row.Clean_Reviews.split() if 'http' not in word]\n",
    "    cleaned_reviews.append(' '.join(words_without_links))\n",
    "\n",
    "dataframe['Clean_Reviews'] = cleaned_reviews\n",
    "dataframe.head(10)"
   ]
  },
  {
   "cell_type": "markdown",
   "id": "6d0984cb",
   "metadata": {},
   "source": [
    "#### Removing Review with empty text"
   ]
  },
  {
   "cell_type": "code",
   "execution_count": 56,
   "id": "fa4e1354",
   "metadata": {
    "ExecuteTime": {
     "end_time": "2023-04-28T07:27:51.726947Z",
     "start_time": "2023-04-28T07:27:51.685836Z"
    }
   },
   "outputs": [
    {
     "data": {
      "text/html": [
       "<div>\n",
       "<style scoped>\n",
       "    .dataframe tbody tr th:only-of-type {\n",
       "        vertical-align: middle;\n",
       "    }\n",
       "\n",
       "    .dataframe tbody tr th {\n",
       "        vertical-align: top;\n",
       "    }\n",
       "\n",
       "    .dataframe thead th {\n",
       "        text-align: right;\n",
       "    }\n",
       "</style>\n",
       "<table border=\"1\" class=\"dataframe\">\n",
       "  <thead>\n",
       "    <tr style=\"text-align: right;\">\n",
       "      <th></th>\n",
       "      <th>Clean_Reviews</th>\n",
       "      <th>Uncleaned_Reviews</th>\n",
       "    </tr>\n",
       "  </thead>\n",
       "  <tbody>\n",
       "    <tr>\n",
       "      <th>0</th>\n",
       "      <td>quality good dupatta also good</td>\n",
       "      <td>Quality is good &amp; dupatta also good</td>\n",
       "    </tr>\n",
       "    <tr>\n",
       "      <th>1</th>\n",
       "      <td>nice kurta set ordered mother</td>\n",
       "      <td>Very nice kurta set I ordered for my mother</td>\n",
       "    </tr>\n",
       "    <tr>\n",
       "      <th>2</th>\n",
       "      <td>kurta trouser quality good dupatta bad wear du...</td>\n",
       "      <td>Kurta and trouser's quality is too good but du...</td>\n",
       "    </tr>\n",
       "    <tr>\n",
       "      <th>3</th>\n",
       "      <td>liked</td>\n",
       "      <td>Liked it</td>\n",
       "    </tr>\n",
       "    <tr>\n",
       "      <th>4</th>\n",
       "      <td>material cheap quality</td>\n",
       "      <td>Material is of cheap quality</td>\n",
       "    </tr>\n",
       "    <tr>\n",
       "      <th>5</th>\n",
       "      <td>cloth fabric good look like winter stuff</td>\n",
       "      <td>Cloth fabric was not good... Looks like winter...</td>\n",
       "    </tr>\n",
       "    <tr>\n",
       "      <th>6</th>\n",
       "      <td>much happy fabric okayish product</td>\n",
       "      <td>Not much happy with the fabric. Okayish product</td>\n",
       "    </tr>\n",
       "    <tr>\n",
       "      <th>7</th>\n",
       "      <td>product material good</td>\n",
       "      <td>Product material is not good.</td>\n",
       "    </tr>\n",
       "    <tr>\n",
       "      <th>8</th>\n",
       "      <td>low quality product worth</td>\n",
       "      <td>Very low quality product not worth it</td>\n",
       "    </tr>\n",
       "    <tr>\n",
       "      <th>9</th>\n",
       "      <td>cloth quality good</td>\n",
       "      <td>Cloth quality is good👍</td>\n",
       "    </tr>\n",
       "  </tbody>\n",
       "</table>\n",
       "</div>"
      ],
      "text/plain": [
       "                                       Clean_Reviews  \\\n",
       "0                     quality good dupatta also good   \n",
       "1                      nice kurta set ordered mother   \n",
       "2  kurta trouser quality good dupatta bad wear du...   \n",
       "3                                              liked   \n",
       "4                             material cheap quality   \n",
       "5           cloth fabric good look like winter stuff   \n",
       "6                  much happy fabric okayish product   \n",
       "7                              product material good   \n",
       "8                          low quality product worth   \n",
       "9                                 cloth quality good   \n",
       "\n",
       "                                   Uncleaned_Reviews  \n",
       "0                Quality is good & dupatta also good  \n",
       "1        Very nice kurta set I ordered for my mother  \n",
       "2  Kurta and trouser's quality is too good but du...  \n",
       "3                                           Liked it  \n",
       "4                       Material is of cheap quality  \n",
       "5  Cloth fabric was not good... Looks like winter...  \n",
       "6    Not much happy with the fabric. Okayish product  \n",
       "7                      Product material is not good.  \n",
       "8              Very low quality product not worth it  \n",
       "9                             Cloth quality is good👍  "
      ]
     },
     "execution_count": 56,
     "metadata": {},
     "output_type": "execute_result"
    }
   ],
   "source": [
    "dataframe = dataframe[dataframe['Clean_Reviews']!='']\n",
    "dataframe.head(10)"
   ]
  },
  {
   "cell_type": "markdown",
   "id": "3a11ca37",
   "metadata": {},
   "source": [
    "#### Dropping duplicate rows"
   ]
  },
  {
   "cell_type": "code",
   "execution_count": 57,
   "id": "44d03fa7",
   "metadata": {
    "ExecuteTime": {
     "end_time": "2023-04-28T07:28:16.147888Z",
     "start_time": "2023-04-28T07:28:16.111076Z"
    }
   },
   "outputs": [
    {
     "data": {
      "text/html": [
       "<div>\n",
       "<style scoped>\n",
       "    .dataframe tbody tr th:only-of-type {\n",
       "        vertical-align: middle;\n",
       "    }\n",
       "\n",
       "    .dataframe tbody tr th {\n",
       "        vertical-align: top;\n",
       "    }\n",
       "\n",
       "    .dataframe thead th {\n",
       "        text-align: right;\n",
       "    }\n",
       "</style>\n",
       "<table border=\"1\" class=\"dataframe\">\n",
       "  <thead>\n",
       "    <tr style=\"text-align: right;\">\n",
       "      <th></th>\n",
       "      <th>Clean_Reviews</th>\n",
       "      <th>Uncleaned_Reviews</th>\n",
       "    </tr>\n",
       "  </thead>\n",
       "  <tbody>\n",
       "    <tr>\n",
       "      <th>0</th>\n",
       "      <td>quality good dupatta also good</td>\n",
       "      <td>Quality is good &amp; dupatta also good</td>\n",
       "    </tr>\n",
       "    <tr>\n",
       "      <th>1</th>\n",
       "      <td>nice kurta set ordered mother</td>\n",
       "      <td>Very nice kurta set I ordered for my mother</td>\n",
       "    </tr>\n",
       "    <tr>\n",
       "      <th>2</th>\n",
       "      <td>kurta trouser quality good dupatta bad wear du...</td>\n",
       "      <td>Kurta and trouser's quality is too good but du...</td>\n",
       "    </tr>\n",
       "    <tr>\n",
       "      <th>3</th>\n",
       "      <td>liked</td>\n",
       "      <td>Liked it</td>\n",
       "    </tr>\n",
       "    <tr>\n",
       "      <th>4</th>\n",
       "      <td>material cheap quality</td>\n",
       "      <td>Material is of cheap quality</td>\n",
       "    </tr>\n",
       "    <tr>\n",
       "      <th>5</th>\n",
       "      <td>cloth fabric good look like winter stuff</td>\n",
       "      <td>Cloth fabric was not good... Looks like winter...</td>\n",
       "    </tr>\n",
       "    <tr>\n",
       "      <th>6</th>\n",
       "      <td>much happy fabric okayish product</td>\n",
       "      <td>Not much happy with the fabric. Okayish product</td>\n",
       "    </tr>\n",
       "    <tr>\n",
       "      <th>7</th>\n",
       "      <td>product material good</td>\n",
       "      <td>Product material is not good.</td>\n",
       "    </tr>\n",
       "    <tr>\n",
       "      <th>8</th>\n",
       "      <td>low quality product worth</td>\n",
       "      <td>Very low quality product not worth it</td>\n",
       "    </tr>\n",
       "    <tr>\n",
       "      <th>9</th>\n",
       "      <td>cloth quality good</td>\n",
       "      <td>Cloth quality is good👍</td>\n",
       "    </tr>\n",
       "  </tbody>\n",
       "</table>\n",
       "</div>"
      ],
      "text/plain": [
       "                                       Clean_Reviews  \\\n",
       "0                     quality good dupatta also good   \n",
       "1                      nice kurta set ordered mother   \n",
       "2  kurta trouser quality good dupatta bad wear du...   \n",
       "3                                              liked   \n",
       "4                             material cheap quality   \n",
       "5           cloth fabric good look like winter stuff   \n",
       "6                  much happy fabric okayish product   \n",
       "7                              product material good   \n",
       "8                          low quality product worth   \n",
       "9                                 cloth quality good   \n",
       "\n",
       "                                   Uncleaned_Reviews  \n",
       "0                Quality is good & dupatta also good  \n",
       "1        Very nice kurta set I ordered for my mother  \n",
       "2  Kurta and trouser's quality is too good but du...  \n",
       "3                                           Liked it  \n",
       "4                       Material is of cheap quality  \n",
       "5  Cloth fabric was not good... Looks like winter...  \n",
       "6    Not much happy with the fabric. Okayish product  \n",
       "7                      Product material is not good.  \n",
       "8              Very low quality product not worth it  \n",
       "9                             Cloth quality is good👍  "
      ]
     },
     "execution_count": 57,
     "metadata": {},
     "output_type": "execute_result"
    }
   ],
   "source": [
    "dataframe.drop_duplicates(subset=['Clean_Reviews'], keep=False)\n",
    "dataframe.head(10)"
   ]
  },
  {
   "cell_type": "markdown",
   "id": "0ea1fe34",
   "metadata": {},
   "source": [
    "#### Removing Punctuations, Numbers and Special characters"
   ]
  },
  {
   "cell_type": "code",
   "execution_count": 58,
   "id": "09b4087a",
   "metadata": {
    "ExecuteTime": {
     "end_time": "2023-04-28T07:29:20.797974Z",
     "start_time": "2023-04-28T07:29:20.774287Z"
    }
   },
   "outputs": [],
   "source": [
    "def clean_text(text):\n",
    "    '''Make text lowercase, remove text in square brackets,remove links,remove punctuation\n",
    "    and remove words containing numbers.'''\n",
    "    text = text.lower()\n",
    "    text = re.sub('\\[.*?\\]', '', text)\n",
    "    text = re.sub('https?://\\S+|www\\.\\S+', '', text)\n",
    "    text = re.sub('<.*?>+', '', text)\n",
    "    text = re.sub('[%s]' % re.escape(string.punctuation), '', text)\n",
    "    text = re.sub('\\n', '', text)\n",
    "    text = re.sub('\\w*\\d\\w*', '', text)\n",
    "    return text"
   ]
  },
  {
   "cell_type": "code",
   "execution_count": 59,
   "id": "e8111d87",
   "metadata": {
    "ExecuteTime": {
     "end_time": "2023-04-28T07:29:27.516106Z",
     "start_time": "2023-04-28T07:29:27.489106Z"
    }
   },
   "outputs": [
    {
     "data": {
      "text/html": [
       "<div>\n",
       "<style scoped>\n",
       "    .dataframe tbody tr th:only-of-type {\n",
       "        vertical-align: middle;\n",
       "    }\n",
       "\n",
       "    .dataframe tbody tr th {\n",
       "        vertical-align: top;\n",
       "    }\n",
       "\n",
       "    .dataframe thead th {\n",
       "        text-align: right;\n",
       "    }\n",
       "</style>\n",
       "<table border=\"1\" class=\"dataframe\">\n",
       "  <thead>\n",
       "    <tr style=\"text-align: right;\">\n",
       "      <th></th>\n",
       "      <th>Clean_Reviews</th>\n",
       "      <th>Uncleaned_Reviews</th>\n",
       "    </tr>\n",
       "  </thead>\n",
       "  <tbody>\n",
       "    <tr>\n",
       "      <th>0</th>\n",
       "      <td>quality good dupatta also good</td>\n",
       "      <td>Quality is good &amp; dupatta also good</td>\n",
       "    </tr>\n",
       "    <tr>\n",
       "      <th>1</th>\n",
       "      <td>nice kurta set ordered mother</td>\n",
       "      <td>Very nice kurta set I ordered for my mother</td>\n",
       "    </tr>\n",
       "    <tr>\n",
       "      <th>2</th>\n",
       "      <td>kurta trouser quality good dupatta bad wear du...</td>\n",
       "      <td>Kurta and trouser's quality is too good but du...</td>\n",
       "    </tr>\n",
       "    <tr>\n",
       "      <th>3</th>\n",
       "      <td>liked</td>\n",
       "      <td>Liked it</td>\n",
       "    </tr>\n",
       "    <tr>\n",
       "      <th>4</th>\n",
       "      <td>material cheap quality</td>\n",
       "      <td>Material is of cheap quality</td>\n",
       "    </tr>\n",
       "    <tr>\n",
       "      <th>5</th>\n",
       "      <td>cloth fabric good look like winter stuff</td>\n",
       "      <td>Cloth fabric was not good... Looks like winter...</td>\n",
       "    </tr>\n",
       "    <tr>\n",
       "      <th>6</th>\n",
       "      <td>much happy fabric okayish product</td>\n",
       "      <td>Not much happy with the fabric. Okayish product</td>\n",
       "    </tr>\n",
       "    <tr>\n",
       "      <th>7</th>\n",
       "      <td>product material good</td>\n",
       "      <td>Product material is not good.</td>\n",
       "    </tr>\n",
       "    <tr>\n",
       "      <th>8</th>\n",
       "      <td>low quality product worth</td>\n",
       "      <td>Very low quality product not worth it</td>\n",
       "    </tr>\n",
       "    <tr>\n",
       "      <th>9</th>\n",
       "      <td>cloth quality good</td>\n",
       "      <td>Cloth quality is good👍</td>\n",
       "    </tr>\n",
       "  </tbody>\n",
       "</table>\n",
       "</div>"
      ],
      "text/plain": [
       "                                       Clean_Reviews  \\\n",
       "0                     quality good dupatta also good   \n",
       "1                      nice kurta set ordered mother   \n",
       "2  kurta trouser quality good dupatta bad wear du...   \n",
       "3                                              liked   \n",
       "4                             material cheap quality   \n",
       "5           cloth fabric good look like winter stuff   \n",
       "6                  much happy fabric okayish product   \n",
       "7                              product material good   \n",
       "8                          low quality product worth   \n",
       "9                                 cloth quality good   \n",
       "\n",
       "                                   Uncleaned_Reviews  \n",
       "0                Quality is good & dupatta also good  \n",
       "1        Very nice kurta set I ordered for my mother  \n",
       "2  Kurta and trouser's quality is too good but du...  \n",
       "3                                           Liked it  \n",
       "4                       Material is of cheap quality  \n",
       "5  Cloth fabric was not good... Looks like winter...  \n",
       "6    Not much happy with the fabric. Okayish product  \n",
       "7                      Product material is not good.  \n",
       "8              Very low quality product not worth it  \n",
       "9                             Cloth quality is good👍  "
      ]
     },
     "execution_count": 59,
     "metadata": {},
     "output_type": "execute_result"
    }
   ],
   "source": [
    "dataframe['Clean_Reviews'] = dataframe['Clean_Reviews'].apply(lambda x: clean_text(x))\n",
    "dataframe.head(10)"
   ]
  },
  {
   "cell_type": "markdown",
   "id": "47953c6c",
   "metadata": {},
   "source": [
    "#### Function to remove emoji"
   ]
  },
  {
   "cell_type": "code",
   "execution_count": 60,
   "id": "6f8af746",
   "metadata": {
    "ExecuteTime": {
     "end_time": "2023-04-28T07:29:58.020155Z",
     "start_time": "2023-04-28T07:29:58.009380Z"
    }
   },
   "outputs": [],
   "source": [
    "def remove_emoji(text):\n",
    "    emoji_pattern = re.compile(\"[\"\n",
    "                           u\"\\U0001F600-\\U0001F64F\"  # emoticons\n",
    "                           u\"\\U0001F300-\\U0001F5FF\"  # symbols & pictographs\n",
    "                           u\"\\U0001F680-\\U0001F6FF\"  # transport & map symbols\n",
    "                           u\"\\U0001F1E0-\\U0001F1FF\"  # flags (iOS)\n",
    "                           u\"\\U00002702-\\U000027B0\"\n",
    "                           u\"\\U000024C2-\\U0001F251\"\n",
    "                           \"]+\", flags=re.UNICODE)\n",
    "    return emoji_pattern.sub(r'', text)"
   ]
  },
  {
   "cell_type": "code",
   "execution_count": 61,
   "id": "b00476d7",
   "metadata": {
    "ExecuteTime": {
     "end_time": "2023-04-28T07:30:24.415551Z",
     "start_time": "2023-04-28T07:30:24.385456Z"
    }
   },
   "outputs": [
    {
     "data": {
      "text/html": [
       "<div>\n",
       "<style scoped>\n",
       "    .dataframe tbody tr th:only-of-type {\n",
       "        vertical-align: middle;\n",
       "    }\n",
       "\n",
       "    .dataframe tbody tr th {\n",
       "        vertical-align: top;\n",
       "    }\n",
       "\n",
       "    .dataframe thead th {\n",
       "        text-align: right;\n",
       "    }\n",
       "</style>\n",
       "<table border=\"1\" class=\"dataframe\">\n",
       "  <thead>\n",
       "    <tr style=\"text-align: right;\">\n",
       "      <th></th>\n",
       "      <th>Clean_Reviews</th>\n",
       "      <th>Uncleaned_Reviews</th>\n",
       "    </tr>\n",
       "  </thead>\n",
       "  <tbody>\n",
       "    <tr>\n",
       "      <th>0</th>\n",
       "      <td>quality good dupatta also good</td>\n",
       "      <td>Quality is good &amp; dupatta also good</td>\n",
       "    </tr>\n",
       "    <tr>\n",
       "      <th>1</th>\n",
       "      <td>nice kurta set ordered mother</td>\n",
       "      <td>Very nice kurta set I ordered for my mother</td>\n",
       "    </tr>\n",
       "    <tr>\n",
       "      <th>2</th>\n",
       "      <td>kurta trouser quality good dupatta bad wear du...</td>\n",
       "      <td>Kurta and trouser's quality is too good but du...</td>\n",
       "    </tr>\n",
       "    <tr>\n",
       "      <th>3</th>\n",
       "      <td>liked</td>\n",
       "      <td>Liked it</td>\n",
       "    </tr>\n",
       "    <tr>\n",
       "      <th>4</th>\n",
       "      <td>material cheap quality</td>\n",
       "      <td>Material is of cheap quality</td>\n",
       "    </tr>\n",
       "    <tr>\n",
       "      <th>5</th>\n",
       "      <td>cloth fabric good look like winter stuff</td>\n",
       "      <td>Cloth fabric was not good... Looks like winter...</td>\n",
       "    </tr>\n",
       "    <tr>\n",
       "      <th>6</th>\n",
       "      <td>much happy fabric okayish product</td>\n",
       "      <td>Not much happy with the fabric. Okayish product</td>\n",
       "    </tr>\n",
       "    <tr>\n",
       "      <th>7</th>\n",
       "      <td>product material good</td>\n",
       "      <td>Product material is not good.</td>\n",
       "    </tr>\n",
       "    <tr>\n",
       "      <th>8</th>\n",
       "      <td>low quality product worth</td>\n",
       "      <td>Very low quality product not worth it</td>\n",
       "    </tr>\n",
       "    <tr>\n",
       "      <th>9</th>\n",
       "      <td>cloth quality good</td>\n",
       "      <td>Cloth quality is good👍</td>\n",
       "    </tr>\n",
       "  </tbody>\n",
       "</table>\n",
       "</div>"
      ],
      "text/plain": [
       "                                       Clean_Reviews  \\\n",
       "0                     quality good dupatta also good   \n",
       "1                      nice kurta set ordered mother   \n",
       "2  kurta trouser quality good dupatta bad wear du...   \n",
       "3                                              liked   \n",
       "4                             material cheap quality   \n",
       "5           cloth fabric good look like winter stuff   \n",
       "6                  much happy fabric okayish product   \n",
       "7                              product material good   \n",
       "8                          low quality product worth   \n",
       "9                                 cloth quality good   \n",
       "\n",
       "                                   Uncleaned_Reviews  \n",
       "0                Quality is good & dupatta also good  \n",
       "1        Very nice kurta set I ordered for my mother  \n",
       "2  Kurta and trouser's quality is too good but du...  \n",
       "3                                           Liked it  \n",
       "4                       Material is of cheap quality  \n",
       "5  Cloth fabric was not good... Looks like winter...  \n",
       "6    Not much happy with the fabric. Okayish product  \n",
       "7                      Product material is not good.  \n",
       "8              Very low quality product not worth it  \n",
       "9                             Cloth quality is good👍  "
      ]
     },
     "execution_count": 61,
     "metadata": {},
     "output_type": "execute_result"
    }
   ],
   "source": [
    "dataframe['Clean_Reviews']=dataframe['Clean_Reviews'].apply(lambda x: remove_emoji(x))\n",
    "dataframe.head(10)"
   ]
  },
  {
   "cell_type": "code",
   "execution_count": 62,
   "id": "40ee1330",
   "metadata": {
    "ExecuteTime": {
     "end_time": "2023-04-28T07:30:32.191519Z",
     "start_time": "2023-04-28T07:30:32.121790Z"
    }
   },
   "outputs": [
    {
     "data": {
      "text/html": [
       "<div>\n",
       "<style scoped>\n",
       "    .dataframe tbody tr th:only-of-type {\n",
       "        vertical-align: middle;\n",
       "    }\n",
       "\n",
       "    .dataframe tbody tr th {\n",
       "        vertical-align: top;\n",
       "    }\n",
       "\n",
       "    .dataframe thead th {\n",
       "        text-align: right;\n",
       "    }\n",
       "</style>\n",
       "<table border=\"1\" class=\"dataframe\">\n",
       "  <thead>\n",
       "    <tr style=\"text-align: right;\">\n",
       "      <th></th>\n",
       "      <th>Clean_Reviews</th>\n",
       "      <th>Uncleaned_Reviews</th>\n",
       "      <th>tokenized_tweets</th>\n",
       "    </tr>\n",
       "  </thead>\n",
       "  <tbody>\n",
       "    <tr>\n",
       "      <th>0</th>\n",
       "      <td>quality good dupatta also good</td>\n",
       "      <td>Quality is good &amp; dupatta also good</td>\n",
       "      <td>[quality, good, dupatta, also, good]</td>\n",
       "    </tr>\n",
       "    <tr>\n",
       "      <th>1</th>\n",
       "      <td>nice kurta set ordered mother</td>\n",
       "      <td>Very nice kurta set I ordered for my mother</td>\n",
       "      <td>[nice, kurta, set, ordered, mother]</td>\n",
       "    </tr>\n",
       "    <tr>\n",
       "      <th>2</th>\n",
       "      <td>kurta trouser quality good dupatta bad wear du...</td>\n",
       "      <td>Kurta and trouser's quality is too good but du...</td>\n",
       "      <td>[kurta, trouser, quality, good, dupatta, bad, ...</td>\n",
       "    </tr>\n",
       "    <tr>\n",
       "      <th>3</th>\n",
       "      <td>liked</td>\n",
       "      <td>Liked it</td>\n",
       "      <td>[liked]</td>\n",
       "    </tr>\n",
       "    <tr>\n",
       "      <th>4</th>\n",
       "      <td>material cheap quality</td>\n",
       "      <td>Material is of cheap quality</td>\n",
       "      <td>[material, cheap, quality]</td>\n",
       "    </tr>\n",
       "    <tr>\n",
       "      <th>5</th>\n",
       "      <td>cloth fabric good look like winter stuff</td>\n",
       "      <td>Cloth fabric was not good... Looks like winter...</td>\n",
       "      <td>[cloth, fabric, good, look, like, winter, stuff]</td>\n",
       "    </tr>\n",
       "    <tr>\n",
       "      <th>6</th>\n",
       "      <td>much happy fabric okayish product</td>\n",
       "      <td>Not much happy with the fabric. Okayish product</td>\n",
       "      <td>[much, happy, fabric, okayish, product]</td>\n",
       "    </tr>\n",
       "    <tr>\n",
       "      <th>7</th>\n",
       "      <td>product material good</td>\n",
       "      <td>Product material is not good.</td>\n",
       "      <td>[product, material, good]</td>\n",
       "    </tr>\n",
       "    <tr>\n",
       "      <th>8</th>\n",
       "      <td>low quality product worth</td>\n",
       "      <td>Very low quality product not worth it</td>\n",
       "      <td>[low, quality, product, worth]</td>\n",
       "    </tr>\n",
       "    <tr>\n",
       "      <th>9</th>\n",
       "      <td>cloth quality good</td>\n",
       "      <td>Cloth quality is good👍</td>\n",
       "      <td>[cloth, quality, good]</td>\n",
       "    </tr>\n",
       "  </tbody>\n",
       "</table>\n",
       "</div>"
      ],
      "text/plain": [
       "                                       Clean_Reviews  \\\n",
       "0                     quality good dupatta also good   \n",
       "1                      nice kurta set ordered mother   \n",
       "2  kurta trouser quality good dupatta bad wear du...   \n",
       "3                                              liked   \n",
       "4                             material cheap quality   \n",
       "5           cloth fabric good look like winter stuff   \n",
       "6                  much happy fabric okayish product   \n",
       "7                              product material good   \n",
       "8                          low quality product worth   \n",
       "9                                 cloth quality good   \n",
       "\n",
       "                                   Uncleaned_Reviews  \\\n",
       "0                Quality is good & dupatta also good   \n",
       "1        Very nice kurta set I ordered for my mother   \n",
       "2  Kurta and trouser's quality is too good but du...   \n",
       "3                                           Liked it   \n",
       "4                       Material is of cheap quality   \n",
       "5  Cloth fabric was not good... Looks like winter...   \n",
       "6    Not much happy with the fabric. Okayish product   \n",
       "7                      Product material is not good.   \n",
       "8              Very low quality product not worth it   \n",
       "9                             Cloth quality is good👍   \n",
       "\n",
       "                                    tokenized_tweets  \n",
       "0               [quality, good, dupatta, also, good]  \n",
       "1                [nice, kurta, set, ordered, mother]  \n",
       "2  [kurta, trouser, quality, good, dupatta, bad, ...  \n",
       "3                                            [liked]  \n",
       "4                         [material, cheap, quality]  \n",
       "5   [cloth, fabric, good, look, like, winter, stuff]  \n",
       "6            [much, happy, fabric, okayish, product]  \n",
       "7                          [product, material, good]  \n",
       "8                     [low, quality, product, worth]  \n",
       "9                             [cloth, quality, good]  "
      ]
     },
     "execution_count": 62,
     "metadata": {},
     "output_type": "execute_result"
    }
   ],
   "source": [
    "dataframe['tokenized_tweets'] = dataframe['Clean_Reviews'].apply(lambda x: nltk.word_tokenize(x))\n",
    "dataframe.head(10)"
   ]
  },
  {
   "cell_type": "code",
   "execution_count": 63,
   "id": "57eb1b75",
   "metadata": {
    "ExecuteTime": {
     "end_time": "2023-04-28T07:30:43.999845Z",
     "start_time": "2023-04-28T07:30:43.975774Z"
    }
   },
   "outputs": [],
   "source": [
    "dataframe.drop(['tokenized_tweets'],axis=1,inplace=True)"
   ]
  },
  {
   "cell_type": "markdown",
   "id": "f7bef2de",
   "metadata": {},
   "source": [
    "#### Removing Stop words"
   ]
  },
  {
   "cell_type": "code",
   "execution_count": 65,
   "id": "ebcba8ae",
   "metadata": {
    "ExecuteTime": {
     "end_time": "2023-04-28T07:33:42.759906Z",
     "start_time": "2023-04-28T07:33:42.741895Z"
    }
   },
   "outputs": [
    {
     "name": "stdout",
     "output_type": "stream",
     "text": [
      "a\r\n",
      "a's\r\n",
      "able\r\n",
      "about\r\n",
      "above\r\n",
      "according\r\n",
      "accordingly\r\n",
      "across\r\n",
      "actually\r\n",
      "after\r\n",
      "afterwards\r\n",
      "again\r\n",
      "again\n"
     ]
    }
   ],
   "source": [
    "import codecs\n",
    "with codecs.open(\"C:/Users/ARPITA/Desktop/DS/NLP-text mining/stop.txt\", \"r\", encoding=\"ISO-8859-1\") as s:\n",
    "    stop = s.read()\n",
    "    print(stop[:101])"
   ]
  },
  {
   "cell_type": "code",
   "execution_count": 66,
   "id": "fb55f867",
   "metadata": {
    "ExecuteTime": {
     "end_time": "2023-04-28T07:33:54.197362Z",
     "start_time": "2023-04-28T07:33:54.180503Z"
    }
   },
   "outputs": [
    {
     "data": {
      "text/plain": [
       "[\"a\\r\\na's\\r\\nable\\r\\nabout\\r\\nabove\\r\\naccording\\r\\naccordingly\\r\\nacross\\r\\nactually\\r\\nafter\\r\\nafterwards\\r\\nagain\\r\\nagainst\\r\\nain't\\r\\nall\\r\\nallow\\r\\nallows\\r\\nalmost\\r\\nalone\\r\\nalong\\r\\nalready\\r\\nalso\\r\\nalthough\\r\\nalways\\r\\nam\\r\\namong\\r\\namongst\\r\\nan\\r\\nand\\r\\nanother\\r\\nany\\r\\nanybody\\r\\nanyhow\\r\\nanyone\\r\\nanything\\r\\nanyway\\r\\nanyways\\r\\nanywhere\\r\\napart\\r\\nappear\\r\\nappreciate\\r\\nappropriate\\r\\nare\\r\\naren't\\r\\naround\\r\\nas\\r\\naside\\r\\nask\\r\\nasking\\r\\nassociated\\r\\nat\\r\\navailable\\r\\naway\\r\\nawfully\\r\\nb\\r\\nbe\\r\\nbecame\\r\\nbecause\\r\\nbecome\\r\\nbecomes\\r\\nbecoming\\r\\nbeen\\r\\nbefore\\r\\nbeforehand\\r\\nbehind\\r\\nbeing\\r\\nbelieve\\r\\nbelow\\r\\nbeside\\r\\nbesides\\r\\nbest\\r\\nbetter\\r\\nbetween\\r\\nbeyond\\r\\nboth\\r\\nbrief\\r\\nbut\\r\\nby\\r\\nc\\r\\nc'mon\\r\\nc's\\r\\ncame\\r\\ncan\\r\\ncan't\\r\\ncannot\\r\\ncant\\r\\ncause\\r\\ncauses\\r\\ncertain\\r\\ncertainly\\r\\nchanges\\r\\nclearly\\r\\nco\\r\\ncom\\r\\ncome\\r\\ncomes\\r\\nconcerning\\r\\nconsequently\\r\\nconsider\\r\\nconsidering\\r\\ncontain\\r\\ncontaining\\r\\ncontains\\r\\ncorresponding\\r\\ncould\\r\\ncouldn't\\r\\ncourse\\r\\ncurrently\\r\\nd\\r\\ndefinitely\\r\\ndescribed\\r\\ndespite\\r\\ndid\\r\\ndidn't\\r\\ndifferent\\r\\ndo\\r\\ndoes\\r\\ndoesn't\\r\\ndoing\\r\\ndon't\\r\\ndone\\r\\ndown\\r\\ndownwards\\r\\nduring\\r\\ne\\r\\neach\\r\\nedu\\r\\neg\\r\\neight\\r\\neither\\r\\nelse\\r\\nelsewhere\\r\\nenough\\r\\nentirely\\r\\nespecially\\r\\net\\r\\netc\\r\\neven\\r\\never\\r\\nevery\\r\\neverybody\\r\\neveryone\\r\\neverything\\r\\neverywhere\\r\\nex\\r\\nexactly\\r\\nexample\\r\\nexcept\\r\\nf\\r\\nfar\\r\\nfew\\r\\nfifth\\r\\nfirst\\r\\nfive\\r\\nfollowed\\r\\nfollowing\\r\\nfollows\\r\\nfor\\r\\nformer\\r\\nformerly\\r\\nforth\\r\\nfour\\r\\nfrom\\r\\nfurther\\r\\nfurthermore\\r\\ng\\r\\nget\\r\\ngets\\r\\ngetting\\r\\ngiven\\r\\ngives\\r\\ngo\\r\\ngoes\\r\\ngoing\\r\\ngone\\r\\ngot\\r\\ngotten\\r\\ngreetings\\r\\nh\\r\\nhad\\r\\nhadn't\\r\\nhappens\\r\\nhardly\\r\\nhas\\r\\nhasn't\\r\\nhave\\r\\nhaven't\\r\\nhaving\\r\\nhe\\r\\nhe's\\r\\nhello\\r\\nhelp\\r\\nhence\\r\\nher\\r\\nhere\\r\\nhere's\\r\\nhereafter\\r\\nhereby\\r\\nherein\\r\\nhereupon\\r\\nhers\\r\\nherself\\r\\nhi\\r\\nhim\\r\\nhimself\\r\\nhis\\r\\nhither\\r\\nhopefully\\r\\nhow\\r\\nhowbeit\\r\\nhowever\\r\\ni\\r\\ni'd\\r\\ni'll\\r\\ni'm\\r\\ni've\\r\\nie\\r\\nif\\r\\nignored\\r\\nimmediate\\r\\nin\\r\\ninasmuch\\r\\ninc\\r\\nindeed\\r\\nindicate\\r\\nindicated\\r\\nindicates\\r\\ninner\\r\\ninsofar\\r\\ninstead\\r\\ninto\\r\\ninward\\r\\nis\\r\\nisn't\\r\\nit\\r\\nit'd\\r\\nit'll\\r\\nit's\\r\\nits\\r\\nitself\\r\\nj\\r\\njust\\r\\nk\\r\\nkeep\\r\\nkeeps\\r\\nkept\\r\\nknow\\r\\nknows\\r\\nknown\\r\\nl\\r\\nlast\\r\\nlately\\r\\nlater\\r\\nlatter\\r\\nlatterly\\r\\nleast\\r\\nless\\r\\nlest\\r\\nlet\\r\\nlet's\\r\\nlike\\r\\nliked\\r\\nlikely\\r\\nlittle\\r\\nlook\\r\\nlooking\\r\\nlooks\\r\\nltd\\r\\nm\\r\\nmainly\\r\\nmany\\r\\nmay\\r\\nmaybe\\r\\nme\\r\\nmean\\r\\nmeanwhile\\r\\nmerely\\r\\nmight\\r\\nmore\\r\\nmoreover\\r\\nmost\\r\\nmostly\\r\\nmuch\\r\\nmust\\r\\nmy\\r\\nmyself\\r\\nn\\r\\nname\\r\\nnamely\\r\\nnd\\r\\nnear\\r\\nnearly\\r\\nnecessary\\r\\nneed\\r\\nneeds\\r\\nneither\\r\\nnever\\r\\nnevertheless\\r\\nnew\\r\\nnext\\r\\nnine\\r\\nno\\r\\nnobody\\r\\nnon\\r\\nnone\\r\\nnoone\\r\\nnor\\r\\nnormally\\r\\nnot\\r\\nnothing\\r\\nnovel\\r\\nnow\\r\\nnowhere\\r\\no\\r\\nobviously\\r\\nof\\r\\noff\\r\\noften\\r\\noh\\r\\nok\\r\\nokay\\r\\nold\\r\\non\\r\\nonce\\r\\none\\r\\nones\\r\\nonly\\r\\nonto\\r\\nor\\r\\nother\\r\\nothers\\r\\notherwise\\r\\nought\\r\\nour\\r\\nours\\r\\nourselves\\r\\nout\\r\\noutside\\r\\nover\\r\\noverall\\r\\nown\\r\\np\\r\\nparticular\\r\\nparticularly\\r\\nper\\r\\nperhaps\\r\\nplaced\\r\\nplease\\r\\nplus\\r\\npossible\\r\\npresumably\\r\\nprobably\\r\\nprovides\\r\\nq\\r\\nque\\r\\nquite\\r\\nqv\\r\\nr\\r\\nrather\\r\\nrd\\r\\nre\\r\\nreally\\r\\nreasonably\\r\\nregarding\\r\\nregardless\\r\\nregards\\r\\nrelatively\\r\\nrespectively\\r\\nright\\r\\ns\\r\\nsaid\\r\\nsame\\r\\nsaw\\r\\nsay\\r\\nsaying\\r\\nsays\\r\\nsecond\\r\\nsecondly\\r\\nsee\\r\\nseeing\\r\\nseem\\r\\nseemed\\r\\nseeming\\r\\nseems\\r\\nseen\\r\\nself\\r\\nselves\\r\\nsensible\\r\\nsent\\r\\nserious\\r\\nseriously\\r\\nseven\\r\\nseveral\\r\\nshall\\r\\nshe\\r\\nshould\\r\\nshouldn't\\r\\nsince\\r\\nsix\\r\\nso\\r\\nsome\\r\\nsomebody\\r\\nsomehow\\r\\nsomeone\\r\\nsomething\\r\\nsometime\\r\\nsometimes\\r\\nsomewhat\\r\\nsomewhere\\r\\nsoon\\r\\nsorry\\r\\nspecified\\r\\nspecify\\r\\nspecifying\\r\\nstill\\r\\nsub\\r\\nsuch\\r\\nsup\\r\\nsure\\r\\nt\\r\\nt's\\r\\ntake\\r\\ntaken\\r\\ntell\\r\\ntends\\r\\nth\\r\\nthan\\r\\nthank\\r\\nthanks\\r\\nthanx\\r\\nthat\\r\\nthat's\\r\\nthats\\r\\nthe\\r\\ntheir\\r\\ntheirs\\r\\nthem\\r\\nthemselves\\r\\nthen\\r\\nthence\\r\\nthere\\r\\nthere's\\r\\nthereafter\\r\\nthereby\\r\\ntherefore\\r\\ntherein\\r\\ntheres\\r\\nthereupon\\r\\nthese\\r\\nthey\\r\\nthey'd\\r\\nthey'll\\r\\nthey're\\r\\nthey've\\r\\nthink\\r\\nthird\\r\\nthis\\r\\nthorough\\r\\nthoroughly\\r\\nthose\\r\\nthough\\r\\nthree\\r\\nthrough\\r\\nthroughout\\r\\nthru\\r\\nthus\\r\\nto\\r\\ntogether\\r\\ntoo\\r\\ntook\\r\\ntoward\\r\\ntowards\\r\\ntried\\r\\ntries\\r\\ntruly\\r\\ntry\\r\\ntrying\\r\\ntwice\\r\\ntwo\\r\\nu\\r\\nun\\r\\nunder\\r\\nunfortunately\\r\\nunless\\r\\nunlikely\\r\\nuntil\\r\\nunto\\r\\nup\\r\\nupon\\r\\nus\\r\\nuse\\r\\nused\\r\\nuseful\\r\\nuses\\r\\nusing\\r\\nusually\\r\\nuucp\\r\\nv\\r\\nvalue\\r\\nvarious\\r\\nvery\\r\\nvia\\r\\nviz\\r\\nvs\\r\\nw\\r\\nwant\\r\\nwants\\r\\nwas\\r\\nwasn't\\r\\nway\\r\\nwe\\r\\nwe'd\\r\\nwe'll\\r\\nwe're\\r\\nwe've\\r\\nwelcome\\r\\nwell\\r\\nwent\\r\\nwere\\r\\nweren't\\r\\nwhat\\r\\nwhat's\\r\\nwhatever\\r\\nwhen\\r\\nwhence\\r\\nwhenever\\r\\nwhere\\r\\nwhere's\\r\\nwhereafter\\r\\nwhereas\\r\\nwhereby\\r\\nwherein\\r\\nwhereupon\\r\\nwherever\\r\\nwhether\\r\\nwhich\\r\\nwhile\\r\\nwhither\\r\\nwho\\r\\nwho's\\r\\nwhoever\\r\\nwhole\\r\\nwhom\\r\\nwhose\\r\\nwhy\\r\\nwill\\r\\nwilling\\r\\nwish\\r\\nwith\\r\\nwithin\\r\\nwithout\\r\\nwon't\\r\\nwonder\\r\\nwould\\r\\nwould\\r\\nwouldn't\\r\\nx\\r\\ny\\r\\nyes\\r\\nyet\\r\\nyou\\r\\nyou'd\\r\\nyou'll\\r\\nyou're\\r\\nyou've\\r\\nyour\\r\\nyours\\r\\nyourself\\r\\nyourselves\\r\\nz\\r\\nzero\"]"
      ]
     },
     "execution_count": 66,
     "metadata": {},
     "output_type": "execute_result"
    }
   ],
   "source": [
    "stop.split(\" \")"
   ]
  },
  {
   "cell_type": "code",
   "execution_count": 67,
   "id": "22f2b8df",
   "metadata": {
    "ExecuteTime": {
     "end_time": "2023-04-28T07:34:05.693510Z",
     "start_time": "2023-04-28T07:34:05.661981Z"
    }
   },
   "outputs": [
    {
     "data": {
      "text/html": [
       "<div>\n",
       "<style scoped>\n",
       "    .dataframe tbody tr th:only-of-type {\n",
       "        vertical-align: middle;\n",
       "    }\n",
       "\n",
       "    .dataframe tbody tr th {\n",
       "        vertical-align: top;\n",
       "    }\n",
       "\n",
       "    .dataframe thead th {\n",
       "        text-align: right;\n",
       "    }\n",
       "</style>\n",
       "<table border=\"1\" class=\"dataframe\">\n",
       "  <thead>\n",
       "    <tr style=\"text-align: right;\">\n",
       "      <th></th>\n",
       "      <th>Clean_Reviews</th>\n",
       "      <th>Uncleaned_Reviews</th>\n",
       "    </tr>\n",
       "  </thead>\n",
       "  <tbody>\n",
       "    <tr>\n",
       "      <th>0</th>\n",
       "      <td>quality good dupatta also good</td>\n",
       "      <td>Quality is good &amp; dupatta also good</td>\n",
       "    </tr>\n",
       "    <tr>\n",
       "      <th>1</th>\n",
       "      <td>nice kurta set ordered mother</td>\n",
       "      <td>Very nice kurta set I ordered for my mother</td>\n",
       "    </tr>\n",
       "    <tr>\n",
       "      <th>2</th>\n",
       "      <td>kurta trouser quality good dupatta bad wear du...</td>\n",
       "      <td>Kurta and trouser's quality is too good but du...</td>\n",
       "    </tr>\n",
       "    <tr>\n",
       "      <th>3</th>\n",
       "      <td>liked</td>\n",
       "      <td>Liked it</td>\n",
       "    </tr>\n",
       "    <tr>\n",
       "      <th>4</th>\n",
       "      <td>material cheap quality</td>\n",
       "      <td>Material is of cheap quality</td>\n",
       "    </tr>\n",
       "    <tr>\n",
       "      <th>5</th>\n",
       "      <td>cloth fabric good look like winter stuff</td>\n",
       "      <td>Cloth fabric was not good... Looks like winter...</td>\n",
       "    </tr>\n",
       "    <tr>\n",
       "      <th>6</th>\n",
       "      <td>much happy fabric okayish product</td>\n",
       "      <td>Not much happy with the fabric. Okayish product</td>\n",
       "    </tr>\n",
       "    <tr>\n",
       "      <th>7</th>\n",
       "      <td>product material good</td>\n",
       "      <td>Product material is not good.</td>\n",
       "    </tr>\n",
       "    <tr>\n",
       "      <th>8</th>\n",
       "      <td>low quality product worth</td>\n",
       "      <td>Very low quality product not worth it</td>\n",
       "    </tr>\n",
       "    <tr>\n",
       "      <th>9</th>\n",
       "      <td>cloth quality good</td>\n",
       "      <td>Cloth quality is good👍</td>\n",
       "    </tr>\n",
       "  </tbody>\n",
       "</table>\n",
       "</div>"
      ],
      "text/plain": [
       "                                       Clean_Reviews  \\\n",
       "0                     quality good dupatta also good   \n",
       "1                      nice kurta set ordered mother   \n",
       "2  kurta trouser quality good dupatta bad wear du...   \n",
       "3                                              liked   \n",
       "4                             material cheap quality   \n",
       "5           cloth fabric good look like winter stuff   \n",
       "6                  much happy fabric okayish product   \n",
       "7                              product material good   \n",
       "8                          low quality product worth   \n",
       "9                                 cloth quality good   \n",
       "\n",
       "                                   Uncleaned_Reviews  \n",
       "0                Quality is good & dupatta also good  \n",
       "1        Very nice kurta set I ordered for my mother  \n",
       "2  Kurta and trouser's quality is too good but du...  \n",
       "3                                           Liked it  \n",
       "4                       Material is of cheap quality  \n",
       "5  Cloth fabric was not good... Looks like winter...  \n",
       "6    Not much happy with the fabric. Okayish product  \n",
       "7                      Product material is not good.  \n",
       "8              Very low quality product not worth it  \n",
       "9                             Cloth quality is good👍  "
      ]
     },
     "execution_count": 67,
     "metadata": {},
     "output_type": "execute_result"
    }
   ],
   "source": [
    "from nltk.corpus import stopwords\n",
    "my_stop_words=stopwords.words('english')\n",
    "sw_list = [stop]\n",
    "my_stop_words.extend(sw_list)\n",
    "stopwords_set = set(my_stop_words)\n",
    "cleaned_tweets = []\n",
    "\n",
    "for index, row in dataframe.iterrows():\n",
    "    \n",
    "    # filerting out all the stopwords \n",
    "    words_without_stopwords = [word for word in row.Clean_Reviews.split() if not word in stopwords_set and '#' not in word.lower()]\n",
    "    \n",
    "    # finally creating tweets list of tuples containing stopwords(list) and sentimentType \n",
    "    cleaned_tweets.append(' '.join(words_without_stopwords))\n",
    "    \n",
    "dataframe['Clean_Reviews'] = cleaned_tweets\n",
    "dataframe.head(10)"
   ]
  },
  {
   "cell_type": "markdown",
   "id": "6ef0c18a",
   "metadata": {},
   "source": [
    "#### Tokenize 'Clean_Reviews'"
   ]
  },
  {
   "cell_type": "code",
   "execution_count": 68,
   "id": "8c164789",
   "metadata": {
    "ExecuteTime": {
     "end_time": "2023-04-28T07:34:35.735058Z",
     "start_time": "2023-04-28T07:34:35.707172Z"
    }
   },
   "outputs": [
    {
     "data": {
      "text/plain": [
       "WordList(['nice', 'kurta', 'set', 'ordered', 'mother'])"
      ]
     },
     "execution_count": 68,
     "metadata": {},
     "output_type": "execute_result"
    }
   ],
   "source": [
    "TextBlob(dataframe['Clean_Reviews'][1]).words"
   ]
  },
  {
   "cell_type": "code",
   "execution_count": 69,
   "id": "16da5fd0",
   "metadata": {
    "ExecuteTime": {
     "end_time": "2023-04-28T07:35:20.632160Z",
     "start_time": "2023-04-28T07:35:20.607594Z"
    }
   },
   "outputs": [
    {
     "data": {
      "text/plain": [
       "0                 [quality, good, dupatta, also, good]\n",
       "1                  [nice, kurta, set, ordered, mother]\n",
       "2    [kurta, trouser, quality, good, dupatta, bad, ...\n",
       "3                                              [liked]\n",
       "4                           [material, cheap, quality]\n",
       "5     [cloth, fabric, good, look, like, winter, stuff]\n",
       "6              [much, happy, fabric, okayish, product]\n",
       "7                            [product, material, good]\n",
       "8                       [low, quality, product, worth]\n",
       "9                               [cloth, quality, good]\n",
       "Name: Clean_Reviews, dtype: object"
      ]
     },
     "execution_count": 69,
     "metadata": {},
     "output_type": "execute_result"
    }
   ],
   "source": [
    "tokenized_review = dataframe['Clean_Reviews'].apply(lambda x: x.split())\n",
    "tokenized_review.head(10)"
   ]
  },
  {
   "cell_type": "markdown",
   "id": "6ab179d2",
   "metadata": {},
   "source": [
    "#### Converting words to Stemmer"
   ]
  },
  {
   "cell_type": "code",
   "execution_count": 70,
   "id": "0d7e4b60",
   "metadata": {
    "ExecuteTime": {
     "end_time": "2023-04-28T07:35:45.665629Z",
     "start_time": "2023-04-28T07:35:45.640315Z"
    }
   },
   "outputs": [],
   "source": [
    "from nltk.stem.snowball import SnowballStemmer\n",
    "\n",
    "# Use English stemmer.\n",
    "stemmer = SnowballStemmer(\"english\")"
   ]
  },
  {
   "cell_type": "code",
   "execution_count": 71,
   "id": "1bc68659",
   "metadata": {
    "ExecuteTime": {
     "end_time": "2023-04-28T07:35:52.243888Z",
     "start_time": "2023-04-28T07:35:52.223677Z"
    }
   },
   "outputs": [
    {
     "data": {
      "text/html": [
       "<div>\n",
       "<style scoped>\n",
       "    .dataframe tbody tr th:only-of-type {\n",
       "        vertical-align: middle;\n",
       "    }\n",
       "\n",
       "    .dataframe tbody tr th {\n",
       "        vertical-align: top;\n",
       "    }\n",
       "\n",
       "    .dataframe thead th {\n",
       "        text-align: right;\n",
       "    }\n",
       "</style>\n",
       "<table border=\"1\" class=\"dataframe\">\n",
       "  <thead>\n",
       "    <tr style=\"text-align: right;\">\n",
       "      <th></th>\n",
       "      <th>stemmed</th>\n",
       "    </tr>\n",
       "  </thead>\n",
       "  <tbody>\n",
       "    <tr>\n",
       "      <th>0</th>\n",
       "      <td>qualiti good dupatta also good</td>\n",
       "    </tr>\n",
       "    <tr>\n",
       "      <th>1</th>\n",
       "      <td>nice kurta set order mother</td>\n",
       "    </tr>\n",
       "    <tr>\n",
       "      <th>2</th>\n",
       "      <td>kurta trouser qualiti good dupatta bad wear du...</td>\n",
       "    </tr>\n",
       "    <tr>\n",
       "      <th>3</th>\n",
       "      <td>like</td>\n",
       "    </tr>\n",
       "    <tr>\n",
       "      <th>4</th>\n",
       "      <td>materi cheap qualiti</td>\n",
       "    </tr>\n",
       "    <tr>\n",
       "      <th>5</th>\n",
       "      <td>cloth fabric good look like winter stuff</td>\n",
       "    </tr>\n",
       "    <tr>\n",
       "      <th>6</th>\n",
       "      <td>much happi fabric okayish product</td>\n",
       "    </tr>\n",
       "    <tr>\n",
       "      <th>7</th>\n",
       "      <td>product materi good</td>\n",
       "    </tr>\n",
       "    <tr>\n",
       "      <th>8</th>\n",
       "      <td>low qualiti product worth</td>\n",
       "    </tr>\n",
       "    <tr>\n",
       "      <th>9</th>\n",
       "      <td>cloth qualiti good</td>\n",
       "    </tr>\n",
       "    <tr>\n",
       "      <th>10</th>\n",
       "      <td>look expect</td>\n",
       "    </tr>\n",
       "    <tr>\n",
       "      <th>11</th>\n",
       "      <td>like color</td>\n",
       "    </tr>\n",
       "  </tbody>\n",
       "</table>\n",
       "</div>"
      ],
      "text/plain": [
       "                                              stemmed\n",
       "0                      qualiti good dupatta also good\n",
       "1                         nice kurta set order mother\n",
       "2   kurta trouser qualiti good dupatta bad wear du...\n",
       "3                                                like\n",
       "4                                materi cheap qualiti\n",
       "5            cloth fabric good look like winter stuff\n",
       "6                   much happi fabric okayish product\n",
       "7                                 product materi good\n",
       "8                           low qualiti product worth\n",
       "9                                  cloth qualiti good\n",
       "10                                        look expect\n",
       "11                                         like color"
      ]
     },
     "execution_count": 71,
     "metadata": {},
     "output_type": "execute_result"
    }
   ],
   "source": [
    "xx = pd.DataFrame()\n",
    "xx['stemmed'] = dataframe['Clean_Reviews'].apply(lambda x: \" \".join([stemmer.stem(word) for word in x.split()]))\n",
    "xx"
   ]
  },
  {
   "cell_type": "markdown",
   "id": "b8cbbd80",
   "metadata": {},
   "source": [
    "### Converting words to Lemma"
   ]
  },
  {
   "cell_type": "code",
   "execution_count": 72,
   "id": "4d7d9b9a",
   "metadata": {
    "ExecuteTime": {
     "end_time": "2023-04-28T07:36:14.892438Z",
     "start_time": "2023-04-28T07:36:14.670367Z"
    }
   },
   "outputs": [
    {
     "name": "stderr",
     "output_type": "stream",
     "text": [
      "[nltk_data] Downloading package omw-1.4 to\n",
      "[nltk_data]     C:\\Users\\ARPITA\\AppData\\Roaming\\nltk_data...\n",
      "[nltk_data]   Package omw-1.4 is already up-to-date!\n"
     ]
    },
    {
     "data": {
      "text/html": [
       "<div>\n",
       "<style scoped>\n",
       "    .dataframe tbody tr th:only-of-type {\n",
       "        vertical-align: middle;\n",
       "    }\n",
       "\n",
       "    .dataframe tbody tr th {\n",
       "        vertical-align: top;\n",
       "    }\n",
       "\n",
       "    .dataframe thead th {\n",
       "        text-align: right;\n",
       "    }\n",
       "</style>\n",
       "<table border=\"1\" class=\"dataframe\">\n",
       "  <thead>\n",
       "    <tr style=\"text-align: right;\">\n",
       "      <th></th>\n",
       "      <th>stemmed</th>\n",
       "    </tr>\n",
       "  </thead>\n",
       "  <tbody>\n",
       "    <tr>\n",
       "      <th>0</th>\n",
       "      <td>quality good dupatta also good</td>\n",
       "    </tr>\n",
       "    <tr>\n",
       "      <th>1</th>\n",
       "      <td>nice kurta set ordered mother</td>\n",
       "    </tr>\n",
       "    <tr>\n",
       "      <th>2</th>\n",
       "      <td>kurta trouser quality good dupatta bad wear du...</td>\n",
       "    </tr>\n",
       "    <tr>\n",
       "      <th>3</th>\n",
       "      <td>liked</td>\n",
       "    </tr>\n",
       "    <tr>\n",
       "      <th>4</th>\n",
       "      <td>material cheap quality</td>\n",
       "    </tr>\n",
       "    <tr>\n",
       "      <th>5</th>\n",
       "      <td>cloth fabric good look like winter stuff</td>\n",
       "    </tr>\n",
       "    <tr>\n",
       "      <th>6</th>\n",
       "      <td>much happy fabric okayish product</td>\n",
       "    </tr>\n",
       "    <tr>\n",
       "      <th>7</th>\n",
       "      <td>product material good</td>\n",
       "    </tr>\n",
       "    <tr>\n",
       "      <th>8</th>\n",
       "      <td>low quality product worth</td>\n",
       "    </tr>\n",
       "    <tr>\n",
       "      <th>9</th>\n",
       "      <td>cloth quality good</td>\n",
       "    </tr>\n",
       "    <tr>\n",
       "      <th>10</th>\n",
       "      <td>look expected</td>\n",
       "    </tr>\n",
       "    <tr>\n",
       "      <th>11</th>\n",
       "      <td>like color</td>\n",
       "    </tr>\n",
       "  </tbody>\n",
       "</table>\n",
       "</div>"
      ],
      "text/plain": [
       "                                              stemmed\n",
       "0                      quality good dupatta also good\n",
       "1                       nice kurta set ordered mother\n",
       "2   kurta trouser quality good dupatta bad wear du...\n",
       "3                                               liked\n",
       "4                              material cheap quality\n",
       "5            cloth fabric good look like winter stuff\n",
       "6                   much happy fabric okayish product\n",
       "7                               product material good\n",
       "8                           low quality product worth\n",
       "9                                  cloth quality good\n",
       "10                                      look expected\n",
       "11                                         like color"
      ]
     },
     "execution_count": 72,
     "metadata": {},
     "output_type": "execute_result"
    }
   ],
   "source": [
    "word_lemmatizer = WordNetLemmatizer()\n",
    "nltk.download('omw-1.4')\n",
    "yy=pd.DataFrame()\n",
    "yy['stemmed'] = dataframe['Clean_Reviews'].apply(lambda x: \" \".join([word_lemmatizer.lemmatize(i) for i in x.split()]))\n",
    "yy"
   ]
  },
  {
   "cell_type": "markdown",
   "id": "c2857d0c",
   "metadata": {},
   "source": [
    "## Basic Feature Extaction"
   ]
  },
  {
   "cell_type": "markdown",
   "id": "42fa79ec",
   "metadata": {},
   "source": [
    "## Applying bag of Words without N grams"
   ]
  },
  {
   "cell_type": "code",
   "execution_count": 73,
   "id": "2db07769",
   "metadata": {
    "ExecuteTime": {
     "end_time": "2023-04-28T07:37:31.053793Z",
     "start_time": "2023-04-28T07:37:31.025285Z"
    }
   },
   "outputs": [],
   "source": [
    "from sklearn.feature_extraction.text import CountVectorizer\n",
    "cv=CountVectorizer()\n",
    "tweetscv=cv.fit_transform(dataframe.Clean_Reviews)"
   ]
  },
  {
   "cell_type": "code",
   "execution_count": 75,
   "id": "139f53eb",
   "metadata": {
    "ExecuteTime": {
     "end_time": "2023-04-28T07:37:52.671691Z",
     "start_time": "2023-04-28T07:37:52.657363Z"
    }
   },
   "outputs": [
    {
     "name": "stdout",
     "output_type": "stream",
     "text": [
      "['also', 'bad', 'cheap', 'cloth', 'color', 'dupatta', 'expected', 'fabric', 'good', 'happy', 'kurta', 'like', 'liked', 'look', 'low', 'material', 'mother', 'much', 'nice', 'okayish', 'ordered', 'product', 'quality', 'set', 'stuff', 'trouser', 'wear', 'winter', 'worth']\n"
     ]
    }
   ],
   "source": [
    "print(cv.get_feature_names()[:100])"
   ]
  },
  {
   "cell_type": "markdown",
   "id": "5aeda2d3",
   "metadata": {},
   "source": [
    "## CountVectorizer with N-grams (Bigrams & Trigrams)"
   ]
  },
  {
   "cell_type": "code",
   "execution_count": 78,
   "id": "7b10d0a0",
   "metadata": {
    "ExecuteTime": {
     "end_time": "2023-04-28T07:39:23.494399Z",
     "start_time": "2023-04-28T07:39:23.392880Z"
    }
   },
   "outputs": [
    {
     "data": {
      "application/vnd.jupyter.widget-view+json": {
       "model_id": "3ac5ec0c80e64739ab66eebdac0e3d74",
       "version_major": 2,
       "version_minor": 0
      },
      "text/plain": [
       "  0%|          | 0/12 [00:00<?, ?it/s]"
      ]
     },
     "metadata": {},
     "output_type": "display_data"
    }
   ],
   "source": [
    "from nltk.corpus import stopwords\n",
    "from nltk.stem.porter import PorterStemmer\n",
    "ps = PorterStemmer()\n",
    "corpus = []\n",
    "for i in tqdm_notebook(range(0, len(dataframe))):\n",
    "    review = re.sub('[^a-zA-Z]', ' ', dataframe['Clean_Reviews'][i])\n",
    "    review = review.lower()\n",
    "    review = review.split()\n",
    "    \n",
    "    review = [ps.stem(word) for word in review if not word in stopwords.words('english')]\n",
    "    review = ' '.join(review)\n",
    "    corpus.append(review)"
   ]
  },
  {
   "cell_type": "code",
   "execution_count": 79,
   "id": "923f4bbc",
   "metadata": {
    "ExecuteTime": {
     "end_time": "2023-04-28T07:39:37.286657Z",
     "start_time": "2023-04-28T07:39:37.272572Z"
    }
   },
   "outputs": [
    {
     "data": {
      "text/plain": [
       "'like'"
      ]
     },
     "execution_count": 79,
     "metadata": {},
     "output_type": "execute_result"
    }
   ],
   "source": [
    "corpus[3]"
   ]
  },
  {
   "cell_type": "code",
   "execution_count": 80,
   "id": "cc174aaf",
   "metadata": {
    "ExecuteTime": {
     "end_time": "2023-04-28T07:39:45.476213Z",
     "start_time": "2023-04-28T07:39:45.446233Z"
    }
   },
   "outputs": [],
   "source": [
    "## Applying Countvectorizer\n",
    "# Creating the Bag of Words model\n",
    "cv = CountVectorizer(max_features=5000,ngram_range=(1,3))\n",
    "X = cv.fit_transform(corpus).toarray()"
   ]
  },
  {
   "cell_type": "code",
   "execution_count": 81,
   "id": "26adf9b5",
   "metadata": {
    "ExecuteTime": {
     "end_time": "2023-04-28T07:39:58.120886Z",
     "start_time": "2023-04-28T07:39:58.090208Z"
    }
   },
   "outputs": [
    {
     "data": {
      "text/plain": [
       "(12, 85)"
      ]
     },
     "execution_count": 81,
     "metadata": {},
     "output_type": "execute_result"
    }
   ],
   "source": [
    "X.shape"
   ]
  },
  {
   "cell_type": "code",
   "execution_count": 82,
   "id": "116c39dc",
   "metadata": {
    "ExecuteTime": {
     "end_time": "2023-04-28T07:40:06.161033Z",
     "start_time": "2023-04-28T07:40:06.146877Z"
    }
   },
   "outputs": [
    {
     "name": "stderr",
     "output_type": "stream",
     "text": [
      "C:\\Users\\ARPITA\\anaconda3\\lib\\site-packages\\sklearn\\utils\\deprecation.py:87: FutureWarning: Function get_feature_names is deprecated; get_feature_names is deprecated in 1.0 and will be removed in 1.2. Please use get_feature_names_out instead.\n",
      "  warnings.warn(msg, category=FutureWarning)\n"
     ]
    },
    {
     "data": {
      "text/plain": [
       "['also',\n",
       " 'also good',\n",
       " 'bad',\n",
       " 'bad wear',\n",
       " 'bad wear dupatta',\n",
       " 'cheap',\n",
       " 'cheap qualiti',\n",
       " 'cloth',\n",
       " 'cloth fabric',\n",
       " 'cloth fabric good',\n",
       " 'cloth qualiti',\n",
       " 'cloth qualiti good',\n",
       " 'color',\n",
       " 'dupatta',\n",
       " 'dupatta also',\n",
       " 'dupatta also good',\n",
       " 'dupatta bad',\n",
       " 'dupatta bad wear',\n",
       " 'expect',\n",
       " 'fabric']"
      ]
     },
     "execution_count": 82,
     "metadata": {},
     "output_type": "execute_result"
    }
   ],
   "source": [
    "cv.get_feature_names()[:20]"
   ]
  },
  {
   "cell_type": "code",
   "execution_count": 83,
   "id": "0cb7c802",
   "metadata": {
    "ExecuteTime": {
     "end_time": "2023-04-28T07:40:13.459650Z",
     "start_time": "2023-04-28T07:40:13.434553Z"
    }
   },
   "outputs": [
    {
     "data": {
      "text/plain": [
       "{'analyzer': 'word',\n",
       " 'binary': False,\n",
       " 'decode_error': 'strict',\n",
       " 'dtype': numpy.int64,\n",
       " 'encoding': 'utf-8',\n",
       " 'input': 'content',\n",
       " 'lowercase': True,\n",
       " 'max_df': 1.0,\n",
       " 'max_features': 5000,\n",
       " 'min_df': 1,\n",
       " 'ngram_range': (1, 3),\n",
       " 'preprocessor': None,\n",
       " 'stop_words': None,\n",
       " 'strip_accents': None,\n",
       " 'token_pattern': '(?u)\\\\b\\\\w\\\\w+\\\\b',\n",
       " 'tokenizer': None,\n",
       " 'vocabulary': None}"
      ]
     },
     "execution_count": 83,
     "metadata": {},
     "output_type": "execute_result"
    }
   ],
   "source": [
    "cv.get_params()"
   ]
  },
  {
   "cell_type": "code",
   "execution_count": 84,
   "id": "b84aa0e4",
   "metadata": {
    "ExecuteTime": {
     "end_time": "2023-04-28T07:40:24.603766Z",
     "start_time": "2023-04-28T07:40:24.566869Z"
    }
   },
   "outputs": [
    {
     "name": "stderr",
     "output_type": "stream",
     "text": [
      "C:\\Users\\ARPITA\\anaconda3\\lib\\site-packages\\sklearn\\utils\\deprecation.py:87: FutureWarning: Function get_feature_names is deprecated; get_feature_names is deprecated in 1.0 and will be removed in 1.2. Please use get_feature_names_out instead.\n",
      "  warnings.warn(msg, category=FutureWarning)\n"
     ]
    },
    {
     "data": {
      "text/html": [
       "<div>\n",
       "<style scoped>\n",
       "    .dataframe tbody tr th:only-of-type {\n",
       "        vertical-align: middle;\n",
       "    }\n",
       "\n",
       "    .dataframe tbody tr th {\n",
       "        vertical-align: top;\n",
       "    }\n",
       "\n",
       "    .dataframe thead th {\n",
       "        text-align: right;\n",
       "    }\n",
       "</style>\n",
       "<table border=\"1\" class=\"dataframe\">\n",
       "  <thead>\n",
       "    <tr style=\"text-align: right;\">\n",
       "      <th></th>\n",
       "      <th>also</th>\n",
       "      <th>also good</th>\n",
       "      <th>bad</th>\n",
       "      <th>bad wear</th>\n",
       "      <th>bad wear dupatta</th>\n",
       "      <th>cheap</th>\n",
       "      <th>cheap qualiti</th>\n",
       "      <th>cloth</th>\n",
       "      <th>cloth fabric</th>\n",
       "      <th>cloth fabric good</th>\n",
       "      <th>...</th>\n",
       "      <th>set order mother</th>\n",
       "      <th>stuff</th>\n",
       "      <th>trouser</th>\n",
       "      <th>trouser qualiti</th>\n",
       "      <th>trouser qualiti good</th>\n",
       "      <th>wear</th>\n",
       "      <th>wear dupatta</th>\n",
       "      <th>winter</th>\n",
       "      <th>winter stuff</th>\n",
       "      <th>worth</th>\n",
       "    </tr>\n",
       "  </thead>\n",
       "  <tbody>\n",
       "    <tr>\n",
       "      <th>0</th>\n",
       "      <td>1</td>\n",
       "      <td>1</td>\n",
       "      <td>0</td>\n",
       "      <td>0</td>\n",
       "      <td>0</td>\n",
       "      <td>0</td>\n",
       "      <td>0</td>\n",
       "      <td>0</td>\n",
       "      <td>0</td>\n",
       "      <td>0</td>\n",
       "      <td>...</td>\n",
       "      <td>0</td>\n",
       "      <td>0</td>\n",
       "      <td>0</td>\n",
       "      <td>0</td>\n",
       "      <td>0</td>\n",
       "      <td>0</td>\n",
       "      <td>0</td>\n",
       "      <td>0</td>\n",
       "      <td>0</td>\n",
       "      <td>0</td>\n",
       "    </tr>\n",
       "    <tr>\n",
       "      <th>1</th>\n",
       "      <td>0</td>\n",
       "      <td>0</td>\n",
       "      <td>0</td>\n",
       "      <td>0</td>\n",
       "      <td>0</td>\n",
       "      <td>0</td>\n",
       "      <td>0</td>\n",
       "      <td>0</td>\n",
       "      <td>0</td>\n",
       "      <td>0</td>\n",
       "      <td>...</td>\n",
       "      <td>1</td>\n",
       "      <td>0</td>\n",
       "      <td>0</td>\n",
       "      <td>0</td>\n",
       "      <td>0</td>\n",
       "      <td>0</td>\n",
       "      <td>0</td>\n",
       "      <td>0</td>\n",
       "      <td>0</td>\n",
       "      <td>0</td>\n",
       "    </tr>\n",
       "    <tr>\n",
       "      <th>2</th>\n",
       "      <td>0</td>\n",
       "      <td>0</td>\n",
       "      <td>1</td>\n",
       "      <td>1</td>\n",
       "      <td>1</td>\n",
       "      <td>0</td>\n",
       "      <td>0</td>\n",
       "      <td>0</td>\n",
       "      <td>0</td>\n",
       "      <td>0</td>\n",
       "      <td>...</td>\n",
       "      <td>0</td>\n",
       "      <td>0</td>\n",
       "      <td>1</td>\n",
       "      <td>1</td>\n",
       "      <td>1</td>\n",
       "      <td>1</td>\n",
       "      <td>1</td>\n",
       "      <td>0</td>\n",
       "      <td>0</td>\n",
       "      <td>0</td>\n",
       "    </tr>\n",
       "    <tr>\n",
       "      <th>3</th>\n",
       "      <td>0</td>\n",
       "      <td>0</td>\n",
       "      <td>0</td>\n",
       "      <td>0</td>\n",
       "      <td>0</td>\n",
       "      <td>0</td>\n",
       "      <td>0</td>\n",
       "      <td>0</td>\n",
       "      <td>0</td>\n",
       "      <td>0</td>\n",
       "      <td>...</td>\n",
       "      <td>0</td>\n",
       "      <td>0</td>\n",
       "      <td>0</td>\n",
       "      <td>0</td>\n",
       "      <td>0</td>\n",
       "      <td>0</td>\n",
       "      <td>0</td>\n",
       "      <td>0</td>\n",
       "      <td>0</td>\n",
       "      <td>0</td>\n",
       "    </tr>\n",
       "    <tr>\n",
       "      <th>4</th>\n",
       "      <td>0</td>\n",
       "      <td>0</td>\n",
       "      <td>0</td>\n",
       "      <td>0</td>\n",
       "      <td>0</td>\n",
       "      <td>1</td>\n",
       "      <td>1</td>\n",
       "      <td>0</td>\n",
       "      <td>0</td>\n",
       "      <td>0</td>\n",
       "      <td>...</td>\n",
       "      <td>0</td>\n",
       "      <td>0</td>\n",
       "      <td>0</td>\n",
       "      <td>0</td>\n",
       "      <td>0</td>\n",
       "      <td>0</td>\n",
       "      <td>0</td>\n",
       "      <td>0</td>\n",
       "      <td>0</td>\n",
       "      <td>0</td>\n",
       "    </tr>\n",
       "    <tr>\n",
       "      <th>5</th>\n",
       "      <td>0</td>\n",
       "      <td>0</td>\n",
       "      <td>0</td>\n",
       "      <td>0</td>\n",
       "      <td>0</td>\n",
       "      <td>0</td>\n",
       "      <td>0</td>\n",
       "      <td>1</td>\n",
       "      <td>1</td>\n",
       "      <td>1</td>\n",
       "      <td>...</td>\n",
       "      <td>0</td>\n",
       "      <td>1</td>\n",
       "      <td>0</td>\n",
       "      <td>0</td>\n",
       "      <td>0</td>\n",
       "      <td>0</td>\n",
       "      <td>0</td>\n",
       "      <td>1</td>\n",
       "      <td>1</td>\n",
       "      <td>0</td>\n",
       "    </tr>\n",
       "    <tr>\n",
       "      <th>6</th>\n",
       "      <td>0</td>\n",
       "      <td>0</td>\n",
       "      <td>0</td>\n",
       "      <td>0</td>\n",
       "      <td>0</td>\n",
       "      <td>0</td>\n",
       "      <td>0</td>\n",
       "      <td>0</td>\n",
       "      <td>0</td>\n",
       "      <td>0</td>\n",
       "      <td>...</td>\n",
       "      <td>0</td>\n",
       "      <td>0</td>\n",
       "      <td>0</td>\n",
       "      <td>0</td>\n",
       "      <td>0</td>\n",
       "      <td>0</td>\n",
       "      <td>0</td>\n",
       "      <td>0</td>\n",
       "      <td>0</td>\n",
       "      <td>0</td>\n",
       "    </tr>\n",
       "    <tr>\n",
       "      <th>7</th>\n",
       "      <td>0</td>\n",
       "      <td>0</td>\n",
       "      <td>0</td>\n",
       "      <td>0</td>\n",
       "      <td>0</td>\n",
       "      <td>0</td>\n",
       "      <td>0</td>\n",
       "      <td>0</td>\n",
       "      <td>0</td>\n",
       "      <td>0</td>\n",
       "      <td>...</td>\n",
       "      <td>0</td>\n",
       "      <td>0</td>\n",
       "      <td>0</td>\n",
       "      <td>0</td>\n",
       "      <td>0</td>\n",
       "      <td>0</td>\n",
       "      <td>0</td>\n",
       "      <td>0</td>\n",
       "      <td>0</td>\n",
       "      <td>0</td>\n",
       "    </tr>\n",
       "    <tr>\n",
       "      <th>8</th>\n",
       "      <td>0</td>\n",
       "      <td>0</td>\n",
       "      <td>0</td>\n",
       "      <td>0</td>\n",
       "      <td>0</td>\n",
       "      <td>0</td>\n",
       "      <td>0</td>\n",
       "      <td>0</td>\n",
       "      <td>0</td>\n",
       "      <td>0</td>\n",
       "      <td>...</td>\n",
       "      <td>0</td>\n",
       "      <td>0</td>\n",
       "      <td>0</td>\n",
       "      <td>0</td>\n",
       "      <td>0</td>\n",
       "      <td>0</td>\n",
       "      <td>0</td>\n",
       "      <td>0</td>\n",
       "      <td>0</td>\n",
       "      <td>1</td>\n",
       "    </tr>\n",
       "    <tr>\n",
       "      <th>9</th>\n",
       "      <td>0</td>\n",
       "      <td>0</td>\n",
       "      <td>0</td>\n",
       "      <td>0</td>\n",
       "      <td>0</td>\n",
       "      <td>0</td>\n",
       "      <td>0</td>\n",
       "      <td>1</td>\n",
       "      <td>0</td>\n",
       "      <td>0</td>\n",
       "      <td>...</td>\n",
       "      <td>0</td>\n",
       "      <td>0</td>\n",
       "      <td>0</td>\n",
       "      <td>0</td>\n",
       "      <td>0</td>\n",
       "      <td>0</td>\n",
       "      <td>0</td>\n",
       "      <td>0</td>\n",
       "      <td>0</td>\n",
       "      <td>0</td>\n",
       "    </tr>\n",
       "    <tr>\n",
       "      <th>10</th>\n",
       "      <td>0</td>\n",
       "      <td>0</td>\n",
       "      <td>0</td>\n",
       "      <td>0</td>\n",
       "      <td>0</td>\n",
       "      <td>0</td>\n",
       "      <td>0</td>\n",
       "      <td>0</td>\n",
       "      <td>0</td>\n",
       "      <td>0</td>\n",
       "      <td>...</td>\n",
       "      <td>0</td>\n",
       "      <td>0</td>\n",
       "      <td>0</td>\n",
       "      <td>0</td>\n",
       "      <td>0</td>\n",
       "      <td>0</td>\n",
       "      <td>0</td>\n",
       "      <td>0</td>\n",
       "      <td>0</td>\n",
       "      <td>0</td>\n",
       "    </tr>\n",
       "    <tr>\n",
       "      <th>11</th>\n",
       "      <td>0</td>\n",
       "      <td>0</td>\n",
       "      <td>0</td>\n",
       "      <td>0</td>\n",
       "      <td>0</td>\n",
       "      <td>0</td>\n",
       "      <td>0</td>\n",
       "      <td>0</td>\n",
       "      <td>0</td>\n",
       "      <td>0</td>\n",
       "      <td>...</td>\n",
       "      <td>0</td>\n",
       "      <td>0</td>\n",
       "      <td>0</td>\n",
       "      <td>0</td>\n",
       "      <td>0</td>\n",
       "      <td>0</td>\n",
       "      <td>0</td>\n",
       "      <td>0</td>\n",
       "      <td>0</td>\n",
       "      <td>0</td>\n",
       "    </tr>\n",
       "  </tbody>\n",
       "</table>\n",
       "<p>12 rows × 85 columns</p>\n",
       "</div>"
      ],
      "text/plain": [
       "    also  also good  bad  bad wear  bad wear dupatta  cheap  cheap qualiti  \\\n",
       "0      1          1    0         0                 0      0              0   \n",
       "1      0          0    0         0                 0      0              0   \n",
       "2      0          0    1         1                 1      0              0   \n",
       "3      0          0    0         0                 0      0              0   \n",
       "4      0          0    0         0                 0      1              1   \n",
       "5      0          0    0         0                 0      0              0   \n",
       "6      0          0    0         0                 0      0              0   \n",
       "7      0          0    0         0                 0      0              0   \n",
       "8      0          0    0         0                 0      0              0   \n",
       "9      0          0    0         0                 0      0              0   \n",
       "10     0          0    0         0                 0      0              0   \n",
       "11     0          0    0         0                 0      0              0   \n",
       "\n",
       "    cloth  cloth fabric  cloth fabric good  ...  set order mother  stuff  \\\n",
       "0       0             0                  0  ...                 0      0   \n",
       "1       0             0                  0  ...                 1      0   \n",
       "2       0             0                  0  ...                 0      0   \n",
       "3       0             0                  0  ...                 0      0   \n",
       "4       0             0                  0  ...                 0      0   \n",
       "5       1             1                  1  ...                 0      1   \n",
       "6       0             0                  0  ...                 0      0   \n",
       "7       0             0                  0  ...                 0      0   \n",
       "8       0             0                  0  ...                 0      0   \n",
       "9       1             0                  0  ...                 0      0   \n",
       "10      0             0                  0  ...                 0      0   \n",
       "11      0             0                  0  ...                 0      0   \n",
       "\n",
       "    trouser  trouser qualiti  trouser qualiti good  wear  wear dupatta  \\\n",
       "0         0                0                     0     0             0   \n",
       "1         0                0                     0     0             0   \n",
       "2         1                1                     1     1             1   \n",
       "3         0                0                     0     0             0   \n",
       "4         0                0                     0     0             0   \n",
       "5         0                0                     0     0             0   \n",
       "6         0                0                     0     0             0   \n",
       "7         0                0                     0     0             0   \n",
       "8         0                0                     0     0             0   \n",
       "9         0                0                     0     0             0   \n",
       "10        0                0                     0     0             0   \n",
       "11        0                0                     0     0             0   \n",
       "\n",
       "    winter  winter stuff  worth  \n",
       "0        0             0      0  \n",
       "1        0             0      0  \n",
       "2        0             0      0  \n",
       "3        0             0      0  \n",
       "4        0             0      0  \n",
       "5        1             1      0  \n",
       "6        0             0      0  \n",
       "7        0             0      0  \n",
       "8        0             0      1  \n",
       "9        0             0      0  \n",
       "10       0             0      0  \n",
       "11       0             0      0  \n",
       "\n",
       "[12 rows x 85 columns]"
      ]
     },
     "execution_count": 84,
     "metadata": {},
     "output_type": "execute_result"
    }
   ],
   "source": [
    "count_df = pd.DataFrame(X, columns=cv.get_feature_names())\n",
    "count_df"
   ]
  },
  {
   "cell_type": "markdown",
   "id": "bc5093fc",
   "metadata": {},
   "source": [
    "##  TF-IDF Vectorizer"
   ]
  },
  {
   "cell_type": "code",
   "execution_count": 85,
   "id": "65a0591d",
   "metadata": {
    "ExecuteTime": {
     "end_time": "2023-04-28T07:40:57.843692Z",
     "start_time": "2023-04-28T07:40:57.740505Z"
    }
   },
   "outputs": [
    {
     "data": {
      "application/vnd.jupyter.widget-view+json": {
       "model_id": "7662a88bb54646d1a2c6100b208f4801",
       "version_major": 2,
       "version_minor": 0
      },
      "text/plain": [
       "  0%|          | 0/12 [00:00<?, ?it/s]"
      ]
     },
     "metadata": {},
     "output_type": "display_data"
    }
   ],
   "source": [
    "from nltk.corpus import stopwords\n",
    "ps = PorterStemmer()\n",
    "corpus = []\n",
    "for i in tqdm_notebook(range(0, len(dataframe))):\n",
    "    review = re.sub('[^a-zA-Z]', ' ', dataframe['Clean_Reviews'][i])\n",
    "    review = review.lower()\n",
    "    review = review.split()\n",
    "    \n",
    "    review = [ps.stem(word) for word in review if not word in stopwords.words('english')]\n",
    "    review = ' '.join(review)\n",
    "    corpus.append(review)"
   ]
  },
  {
   "cell_type": "code",
   "execution_count": 86,
   "id": "15ae6bce",
   "metadata": {
    "ExecuteTime": {
     "end_time": "2023-04-28T07:41:05.259717Z",
     "start_time": "2023-04-28T07:41:05.244931Z"
    }
   },
   "outputs": [
    {
     "data": {
      "text/plain": [
       "'materi cheap qualiti'"
      ]
     },
     "execution_count": 86,
     "metadata": {},
     "output_type": "execute_result"
    }
   ],
   "source": [
    "corpus[4]"
   ]
  },
  {
   "cell_type": "code",
   "execution_count": 88,
   "id": "7f21a127",
   "metadata": {
    "ExecuteTime": {
     "end_time": "2023-04-28T07:41:45.793317Z",
     "start_time": "2023-04-28T07:41:45.761997Z"
    }
   },
   "outputs": [],
   "source": [
    "## TFidf Vectorizer\n",
    "from sklearn.feature_extraction.text import CountVectorizer, TfidfVectorizer\n",
    "tfidf_v=TfidfVectorizer(max_features=5000,ngram_range=(1,3))\n",
    "X=tfidf_v.fit_transform(corpus).toarray()"
   ]
  },
  {
   "cell_type": "code",
   "execution_count": 89,
   "id": "50435887",
   "metadata": {
    "ExecuteTime": {
     "end_time": "2023-04-28T07:41:57.788927Z",
     "start_time": "2023-04-28T07:41:57.761121Z"
    }
   },
   "outputs": [
    {
     "data": {
      "text/plain": [
       "(12, 85)"
      ]
     },
     "execution_count": 89,
     "metadata": {},
     "output_type": "execute_result"
    }
   ],
   "source": [
    "X.shape"
   ]
  },
  {
   "cell_type": "code",
   "execution_count": 90,
   "id": "1c3dc9da",
   "metadata": {
    "ExecuteTime": {
     "end_time": "2023-04-28T07:42:03.637305Z",
     "start_time": "2023-04-28T07:42:03.611005Z"
    }
   },
   "outputs": [
    {
     "name": "stderr",
     "output_type": "stream",
     "text": [
      "C:\\Users\\ARPITA\\anaconda3\\lib\\site-packages\\sklearn\\utils\\deprecation.py:87: FutureWarning: Function get_feature_names is deprecated; get_feature_names is deprecated in 1.0 and will be removed in 1.2. Please use get_feature_names_out instead.\n",
      "  warnings.warn(msg, category=FutureWarning)\n"
     ]
    },
    {
     "data": {
      "text/plain": [
       "['also',\n",
       " 'also good',\n",
       " 'bad',\n",
       " 'bad wear',\n",
       " 'bad wear dupatta',\n",
       " 'cheap',\n",
       " 'cheap qualiti',\n",
       " 'cloth',\n",
       " 'cloth fabric',\n",
       " 'cloth fabric good',\n",
       " 'cloth qualiti',\n",
       " 'cloth qualiti good',\n",
       " 'color',\n",
       " 'dupatta',\n",
       " 'dupatta also',\n",
       " 'dupatta also good',\n",
       " 'dupatta bad',\n",
       " 'dupatta bad wear',\n",
       " 'expect',\n",
       " 'fabric']"
      ]
     },
     "execution_count": 90,
     "metadata": {},
     "output_type": "execute_result"
    }
   ],
   "source": [
    "tfidf_v.get_feature_names()[:20]"
   ]
  },
  {
   "cell_type": "code",
   "execution_count": 91,
   "id": "4e239e66",
   "metadata": {
    "ExecuteTime": {
     "end_time": "2023-04-28T07:42:10.534582Z",
     "start_time": "2023-04-28T07:42:10.516534Z"
    }
   },
   "outputs": [
    {
     "data": {
      "text/plain": [
       "{'analyzer': 'word',\n",
       " 'binary': False,\n",
       " 'decode_error': 'strict',\n",
       " 'dtype': numpy.float64,\n",
       " 'encoding': 'utf-8',\n",
       " 'input': 'content',\n",
       " 'lowercase': True,\n",
       " 'max_df': 1.0,\n",
       " 'max_features': 5000,\n",
       " 'min_df': 1,\n",
       " 'ngram_range': (1, 3),\n",
       " 'norm': 'l2',\n",
       " 'preprocessor': None,\n",
       " 'smooth_idf': True,\n",
       " 'stop_words': None,\n",
       " 'strip_accents': None,\n",
       " 'sublinear_tf': False,\n",
       " 'token_pattern': '(?u)\\\\b\\\\w\\\\w+\\\\b',\n",
       " 'tokenizer': None,\n",
       " 'use_idf': True,\n",
       " 'vocabulary': None}"
      ]
     },
     "execution_count": 91,
     "metadata": {},
     "output_type": "execute_result"
    }
   ],
   "source": [
    "tfidf_v.get_params()"
   ]
  },
  {
   "cell_type": "code",
   "execution_count": 92,
   "id": "fa225e3a",
   "metadata": {
    "ExecuteTime": {
     "end_time": "2023-04-28T07:42:17.696966Z",
     "start_time": "2023-04-28T07:42:17.633053Z"
    }
   },
   "outputs": [
    {
     "name": "stderr",
     "output_type": "stream",
     "text": [
      "C:\\Users\\ARPITA\\anaconda3\\lib\\site-packages\\sklearn\\utils\\deprecation.py:87: FutureWarning: Function get_feature_names is deprecated; get_feature_names is deprecated in 1.0 and will be removed in 1.2. Please use get_feature_names_out instead.\n",
      "  warnings.warn(msg, category=FutureWarning)\n"
     ]
    },
    {
     "data": {
      "text/html": [
       "<div>\n",
       "<style scoped>\n",
       "    .dataframe tbody tr th:only-of-type {\n",
       "        vertical-align: middle;\n",
       "    }\n",
       "\n",
       "    .dataframe tbody tr th {\n",
       "        vertical-align: top;\n",
       "    }\n",
       "\n",
       "    .dataframe thead th {\n",
       "        text-align: right;\n",
       "    }\n",
       "</style>\n",
       "<table border=\"1\" class=\"dataframe\">\n",
       "  <thead>\n",
       "    <tr style=\"text-align: right;\">\n",
       "      <th></th>\n",
       "      <th>also</th>\n",
       "      <th>also good</th>\n",
       "      <th>bad</th>\n",
       "      <th>bad wear</th>\n",
       "      <th>bad wear dupatta</th>\n",
       "      <th>cheap</th>\n",
       "      <th>cheap qualiti</th>\n",
       "      <th>cloth</th>\n",
       "      <th>cloth fabric</th>\n",
       "      <th>cloth fabric good</th>\n",
       "      <th>...</th>\n",
       "      <th>set order mother</th>\n",
       "      <th>stuff</th>\n",
       "      <th>trouser</th>\n",
       "      <th>trouser qualiti</th>\n",
       "      <th>trouser qualiti good</th>\n",
       "      <th>wear</th>\n",
       "      <th>wear dupatta</th>\n",
       "      <th>winter</th>\n",
       "      <th>winter stuff</th>\n",
       "      <th>worth</th>\n",
       "    </tr>\n",
       "  </thead>\n",
       "  <tbody>\n",
       "    <tr>\n",
       "      <th>0</th>\n",
       "      <td>0.321173</td>\n",
       "      <td>0.321173</td>\n",
       "      <td>0.00000</td>\n",
       "      <td>0.00000</td>\n",
       "      <td>0.00000</td>\n",
       "      <td>0.000000</td>\n",
       "      <td>0.000000</td>\n",
       "      <td>0.000000</td>\n",
       "      <td>0.000000</td>\n",
       "      <td>0.000000</td>\n",
       "      <td>...</td>\n",
       "      <td>0.000000</td>\n",
       "      <td>0.000000</td>\n",
       "      <td>0.00000</td>\n",
       "      <td>0.00000</td>\n",
       "      <td>0.00000</td>\n",
       "      <td>0.00000</td>\n",
       "      <td>0.00000</td>\n",
       "      <td>0.000000</td>\n",
       "      <td>0.000000</td>\n",
       "      <td>0.000000</td>\n",
       "    </tr>\n",
       "    <tr>\n",
       "      <th>1</th>\n",
       "      <td>0.000000</td>\n",
       "      <td>0.000000</td>\n",
       "      <td>0.00000</td>\n",
       "      <td>0.00000</td>\n",
       "      <td>0.00000</td>\n",
       "      <td>0.000000</td>\n",
       "      <td>0.000000</td>\n",
       "      <td>0.000000</td>\n",
       "      <td>0.000000</td>\n",
       "      <td>0.000000</td>\n",
       "      <td>...</td>\n",
       "      <td>0.291885</td>\n",
       "      <td>0.000000</td>\n",
       "      <td>0.00000</td>\n",
       "      <td>0.00000</td>\n",
       "      <td>0.00000</td>\n",
       "      <td>0.00000</td>\n",
       "      <td>0.00000</td>\n",
       "      <td>0.000000</td>\n",
       "      <td>0.000000</td>\n",
       "      <td>0.000000</td>\n",
       "    </tr>\n",
       "    <tr>\n",
       "      <th>2</th>\n",
       "      <td>0.000000</td>\n",
       "      <td>0.000000</td>\n",
       "      <td>0.22645</td>\n",
       "      <td>0.22645</td>\n",
       "      <td>0.22645</td>\n",
       "      <td>0.000000</td>\n",
       "      <td>0.000000</td>\n",
       "      <td>0.000000</td>\n",
       "      <td>0.000000</td>\n",
       "      <td>0.000000</td>\n",
       "      <td>...</td>\n",
       "      <td>0.000000</td>\n",
       "      <td>0.000000</td>\n",
       "      <td>0.22645</td>\n",
       "      <td>0.22645</td>\n",
       "      <td>0.22645</td>\n",
       "      <td>0.22645</td>\n",
       "      <td>0.22645</td>\n",
       "      <td>0.000000</td>\n",
       "      <td>0.000000</td>\n",
       "      <td>0.000000</td>\n",
       "    </tr>\n",
       "    <tr>\n",
       "      <th>3</th>\n",
       "      <td>0.000000</td>\n",
       "      <td>0.000000</td>\n",
       "      <td>0.00000</td>\n",
       "      <td>0.00000</td>\n",
       "      <td>0.00000</td>\n",
       "      <td>0.000000</td>\n",
       "      <td>0.000000</td>\n",
       "      <td>0.000000</td>\n",
       "      <td>0.000000</td>\n",
       "      <td>0.000000</td>\n",
       "      <td>...</td>\n",
       "      <td>0.000000</td>\n",
       "      <td>0.000000</td>\n",
       "      <td>0.00000</td>\n",
       "      <td>0.00000</td>\n",
       "      <td>0.00000</td>\n",
       "      <td>0.00000</td>\n",
       "      <td>0.00000</td>\n",
       "      <td>0.000000</td>\n",
       "      <td>0.000000</td>\n",
       "      <td>0.000000</td>\n",
       "    </tr>\n",
       "    <tr>\n",
       "      <th>4</th>\n",
       "      <td>0.000000</td>\n",
       "      <td>0.000000</td>\n",
       "      <td>0.00000</td>\n",
       "      <td>0.00000</td>\n",
       "      <td>0.00000</td>\n",
       "      <td>0.441994</td>\n",
       "      <td>0.441994</td>\n",
       "      <td>0.000000</td>\n",
       "      <td>0.000000</td>\n",
       "      <td>0.000000</td>\n",
       "      <td>...</td>\n",
       "      <td>0.000000</td>\n",
       "      <td>0.000000</td>\n",
       "      <td>0.00000</td>\n",
       "      <td>0.00000</td>\n",
       "      <td>0.00000</td>\n",
       "      <td>0.00000</td>\n",
       "      <td>0.00000</td>\n",
       "      <td>0.000000</td>\n",
       "      <td>0.000000</td>\n",
       "      <td>0.000000</td>\n",
       "    </tr>\n",
       "    <tr>\n",
       "      <th>5</th>\n",
       "      <td>0.000000</td>\n",
       "      <td>0.000000</td>\n",
       "      <td>0.00000</td>\n",
       "      <td>0.00000</td>\n",
       "      <td>0.00000</td>\n",
       "      <td>0.000000</td>\n",
       "      <td>0.000000</td>\n",
       "      <td>0.213575</td>\n",
       "      <td>0.248687</td>\n",
       "      <td>0.248687</td>\n",
       "      <td>...</td>\n",
       "      <td>0.000000</td>\n",
       "      <td>0.248687</td>\n",
       "      <td>0.00000</td>\n",
       "      <td>0.00000</td>\n",
       "      <td>0.00000</td>\n",
       "      <td>0.00000</td>\n",
       "      <td>0.00000</td>\n",
       "      <td>0.248687</td>\n",
       "      <td>0.248687</td>\n",
       "      <td>0.000000</td>\n",
       "    </tr>\n",
       "    <tr>\n",
       "      <th>6</th>\n",
       "      <td>0.000000</td>\n",
       "      <td>0.000000</td>\n",
       "      <td>0.00000</td>\n",
       "      <td>0.00000</td>\n",
       "      <td>0.00000</td>\n",
       "      <td>0.000000</td>\n",
       "      <td>0.000000</td>\n",
       "      <td>0.000000</td>\n",
       "      <td>0.000000</td>\n",
       "      <td>0.000000</td>\n",
       "      <td>...</td>\n",
       "      <td>0.000000</td>\n",
       "      <td>0.000000</td>\n",
       "      <td>0.00000</td>\n",
       "      <td>0.00000</td>\n",
       "      <td>0.00000</td>\n",
       "      <td>0.00000</td>\n",
       "      <td>0.00000</td>\n",
       "      <td>0.000000</td>\n",
       "      <td>0.000000</td>\n",
       "      <td>0.000000</td>\n",
       "    </tr>\n",
       "    <tr>\n",
       "      <th>7</th>\n",
       "      <td>0.000000</td>\n",
       "      <td>0.000000</td>\n",
       "      <td>0.00000</td>\n",
       "      <td>0.00000</td>\n",
       "      <td>0.00000</td>\n",
       "      <td>0.000000</td>\n",
       "      <td>0.000000</td>\n",
       "      <td>0.000000</td>\n",
       "      <td>0.000000</td>\n",
       "      <td>0.000000</td>\n",
       "      <td>...</td>\n",
       "      <td>0.000000</td>\n",
       "      <td>0.000000</td>\n",
       "      <td>0.00000</td>\n",
       "      <td>0.00000</td>\n",
       "      <td>0.00000</td>\n",
       "      <td>0.00000</td>\n",
       "      <td>0.00000</td>\n",
       "      <td>0.000000</td>\n",
       "      <td>0.000000</td>\n",
       "      <td>0.000000</td>\n",
       "    </tr>\n",
       "    <tr>\n",
       "      <th>8</th>\n",
       "      <td>0.000000</td>\n",
       "      <td>0.000000</td>\n",
       "      <td>0.00000</td>\n",
       "      <td>0.00000</td>\n",
       "      <td>0.00000</td>\n",
       "      <td>0.000000</td>\n",
       "      <td>0.000000</td>\n",
       "      <td>0.000000</td>\n",
       "      <td>0.000000</td>\n",
       "      <td>0.000000</td>\n",
       "      <td>...</td>\n",
       "      <td>0.000000</td>\n",
       "      <td>0.000000</td>\n",
       "      <td>0.00000</td>\n",
       "      <td>0.00000</td>\n",
       "      <td>0.00000</td>\n",
       "      <td>0.00000</td>\n",
       "      <td>0.00000</td>\n",
       "      <td>0.000000</td>\n",
       "      <td>0.000000</td>\n",
       "      <td>0.354512</td>\n",
       "    </tr>\n",
       "    <tr>\n",
       "      <th>9</th>\n",
       "      <td>0.000000</td>\n",
       "      <td>0.000000</td>\n",
       "      <td>0.00000</td>\n",
       "      <td>0.00000</td>\n",
       "      <td>0.00000</td>\n",
       "      <td>0.000000</td>\n",
       "      <td>0.000000</td>\n",
       "      <td>0.425406</td>\n",
       "      <td>0.000000</td>\n",
       "      <td>0.000000</td>\n",
       "      <td>...</td>\n",
       "      <td>0.000000</td>\n",
       "      <td>0.000000</td>\n",
       "      <td>0.00000</td>\n",
       "      <td>0.00000</td>\n",
       "      <td>0.00000</td>\n",
       "      <td>0.00000</td>\n",
       "      <td>0.00000</td>\n",
       "      <td>0.000000</td>\n",
       "      <td>0.000000</td>\n",
       "      <td>0.000000</td>\n",
       "    </tr>\n",
       "    <tr>\n",
       "      <th>10</th>\n",
       "      <td>0.000000</td>\n",
       "      <td>0.000000</td>\n",
       "      <td>0.00000</td>\n",
       "      <td>0.00000</td>\n",
       "      <td>0.00000</td>\n",
       "      <td>0.000000</td>\n",
       "      <td>0.000000</td>\n",
       "      <td>0.000000</td>\n",
       "      <td>0.000000</td>\n",
       "      <td>0.000000</td>\n",
       "      <td>...</td>\n",
       "      <td>0.000000</td>\n",
       "      <td>0.000000</td>\n",
       "      <td>0.00000</td>\n",
       "      <td>0.00000</td>\n",
       "      <td>0.00000</td>\n",
       "      <td>0.00000</td>\n",
       "      <td>0.00000</td>\n",
       "      <td>0.000000</td>\n",
       "      <td>0.000000</td>\n",
       "      <td>0.000000</td>\n",
       "    </tr>\n",
       "    <tr>\n",
       "      <th>11</th>\n",
       "      <td>0.000000</td>\n",
       "      <td>0.000000</td>\n",
       "      <td>0.00000</td>\n",
       "      <td>0.00000</td>\n",
       "      <td>0.00000</td>\n",
       "      <td>0.000000</td>\n",
       "      <td>0.000000</td>\n",
       "      <td>0.000000</td>\n",
       "      <td>0.000000</td>\n",
       "      <td>0.000000</td>\n",
       "      <td>...</td>\n",
       "      <td>0.000000</td>\n",
       "      <td>0.000000</td>\n",
       "      <td>0.00000</td>\n",
       "      <td>0.00000</td>\n",
       "      <td>0.00000</td>\n",
       "      <td>0.00000</td>\n",
       "      <td>0.00000</td>\n",
       "      <td>0.000000</td>\n",
       "      <td>0.000000</td>\n",
       "      <td>0.000000</td>\n",
       "    </tr>\n",
       "  </tbody>\n",
       "</table>\n",
       "<p>12 rows × 85 columns</p>\n",
       "</div>"
      ],
      "text/plain": [
       "        also  also good      bad  bad wear  bad wear dupatta     cheap  \\\n",
       "0   0.321173   0.321173  0.00000   0.00000           0.00000  0.000000   \n",
       "1   0.000000   0.000000  0.00000   0.00000           0.00000  0.000000   \n",
       "2   0.000000   0.000000  0.22645   0.22645           0.22645  0.000000   \n",
       "3   0.000000   0.000000  0.00000   0.00000           0.00000  0.000000   \n",
       "4   0.000000   0.000000  0.00000   0.00000           0.00000  0.441994   \n",
       "5   0.000000   0.000000  0.00000   0.00000           0.00000  0.000000   \n",
       "6   0.000000   0.000000  0.00000   0.00000           0.00000  0.000000   \n",
       "7   0.000000   0.000000  0.00000   0.00000           0.00000  0.000000   \n",
       "8   0.000000   0.000000  0.00000   0.00000           0.00000  0.000000   \n",
       "9   0.000000   0.000000  0.00000   0.00000           0.00000  0.000000   \n",
       "10  0.000000   0.000000  0.00000   0.00000           0.00000  0.000000   \n",
       "11  0.000000   0.000000  0.00000   0.00000           0.00000  0.000000   \n",
       "\n",
       "    cheap qualiti     cloth  cloth fabric  cloth fabric good  ...  \\\n",
       "0        0.000000  0.000000      0.000000           0.000000  ...   \n",
       "1        0.000000  0.000000      0.000000           0.000000  ...   \n",
       "2        0.000000  0.000000      0.000000           0.000000  ...   \n",
       "3        0.000000  0.000000      0.000000           0.000000  ...   \n",
       "4        0.441994  0.000000      0.000000           0.000000  ...   \n",
       "5        0.000000  0.213575      0.248687           0.248687  ...   \n",
       "6        0.000000  0.000000      0.000000           0.000000  ...   \n",
       "7        0.000000  0.000000      0.000000           0.000000  ...   \n",
       "8        0.000000  0.000000      0.000000           0.000000  ...   \n",
       "9        0.000000  0.425406      0.000000           0.000000  ...   \n",
       "10       0.000000  0.000000      0.000000           0.000000  ...   \n",
       "11       0.000000  0.000000      0.000000           0.000000  ...   \n",
       "\n",
       "    set order mother     stuff  trouser  trouser qualiti  \\\n",
       "0           0.000000  0.000000  0.00000          0.00000   \n",
       "1           0.291885  0.000000  0.00000          0.00000   \n",
       "2           0.000000  0.000000  0.22645          0.22645   \n",
       "3           0.000000  0.000000  0.00000          0.00000   \n",
       "4           0.000000  0.000000  0.00000          0.00000   \n",
       "5           0.000000  0.248687  0.00000          0.00000   \n",
       "6           0.000000  0.000000  0.00000          0.00000   \n",
       "7           0.000000  0.000000  0.00000          0.00000   \n",
       "8           0.000000  0.000000  0.00000          0.00000   \n",
       "9           0.000000  0.000000  0.00000          0.00000   \n",
       "10          0.000000  0.000000  0.00000          0.00000   \n",
       "11          0.000000  0.000000  0.00000          0.00000   \n",
       "\n",
       "    trouser qualiti good     wear  wear dupatta    winter  winter stuff  \\\n",
       "0                0.00000  0.00000       0.00000  0.000000      0.000000   \n",
       "1                0.00000  0.00000       0.00000  0.000000      0.000000   \n",
       "2                0.22645  0.22645       0.22645  0.000000      0.000000   \n",
       "3                0.00000  0.00000       0.00000  0.000000      0.000000   \n",
       "4                0.00000  0.00000       0.00000  0.000000      0.000000   \n",
       "5                0.00000  0.00000       0.00000  0.248687      0.248687   \n",
       "6                0.00000  0.00000       0.00000  0.000000      0.000000   \n",
       "7                0.00000  0.00000       0.00000  0.000000      0.000000   \n",
       "8                0.00000  0.00000       0.00000  0.000000      0.000000   \n",
       "9                0.00000  0.00000       0.00000  0.000000      0.000000   \n",
       "10               0.00000  0.00000       0.00000  0.000000      0.000000   \n",
       "11               0.00000  0.00000       0.00000  0.000000      0.000000   \n",
       "\n",
       "       worth  \n",
       "0   0.000000  \n",
       "1   0.000000  \n",
       "2   0.000000  \n",
       "3   0.000000  \n",
       "4   0.000000  \n",
       "5   0.000000  \n",
       "6   0.000000  \n",
       "7   0.000000  \n",
       "8   0.354512  \n",
       "9   0.000000  \n",
       "10  0.000000  \n",
       "11  0.000000  \n",
       "\n",
       "[12 rows x 85 columns]"
      ]
     },
     "execution_count": 92,
     "metadata": {},
     "output_type": "execute_result"
    }
   ],
   "source": [
    "count_df = pd.DataFrame(X, columns=tfidf_v.get_feature_names())\n",
    "count_df"
   ]
  },
  {
   "cell_type": "markdown",
   "id": "d5347e82",
   "metadata": {},
   "source": [
    "## Named Entity Recognition (NER)"
   ]
  },
  {
   "cell_type": "code",
   "execution_count": 93,
   "id": "ccabeb42",
   "metadata": {
    "ExecuteTime": {
     "end_time": "2023-04-28T07:42:58.917142Z",
     "start_time": "2023-04-28T07:42:58.896395Z"
    }
   },
   "outputs": [
    {
     "data": {
      "text/plain": [
       "'quality good dupatta also good nice kurta set ordered mother kurta trouser quality good dupatta bad wear dupatta liked material cheap quality cloth fabric good look like winter stuff much happy fabric okayish product product material good low quality product worth cloth quality good look expected like color'"
      ]
     },
     "execution_count": 93,
     "metadata": {},
     "output_type": "execute_result"
    }
   ],
   "source": [
    "reviews=[review.strip() for review in dataframe.Clean_Reviews] # remove both the leading and the trailing characters\n",
    "reviews=[comment for comment in reviews if comment] # removes empty strings, because they are considered in Python as False\n",
    "# Joining the list into one string/text\n",
    "reviews_text=' '.join(reviews)\n",
    "reviews_text[0:1000]"
   ]
  },
  {
   "cell_type": "code",
   "execution_count": 94,
   "id": "60e51ee7",
   "metadata": {
    "ExecuteTime": {
     "end_time": "2023-04-28T07:43:27.211472Z",
     "start_time": "2023-04-28T07:43:25.973456Z"
    }
   },
   "outputs": [
    {
     "data": {
      "text/html": [
       "<span class=\"tex2jax_ignore\"><div class=\"entities\" style=\"line-height: 2.5; direction: ltr\">quality good dupatta also good nice \n",
       "<mark class=\"entity\" style=\"background: #feca74; padding: 0.45em 0.6em; margin: 0 0.25em; line-height: 1; border-radius: 0.35em;\">\n",
       "    kurta\n",
       "    <span style=\"font-size: 0.8em; font-weight: bold; line-height: 1; border-radius: 0.35em; vertical-align: middle; margin-left: 0.5rem\">GPE</span>\n",
       "</mark>\n",
       " set ordered mother \n",
       "<mark class=\"entity\" style=\"background: #aa9cfc; padding: 0.45em 0.6em; margin: 0 0.25em; line-height: 1; border-radius: 0.35em;\">\n",
       "    kurta trouser\n",
       "    <span style=\"font-size: 0.8em; font-weight: bold; line-height: 1; border-radius: 0.35em; vertical-align: middle; margin-left: 0.5rem\">PERSON</span>\n",
       "</mark>\n",
       " quality good dupatta bad wear dupatta liked material cheap quality cloth fabric good look like winter stuff much happy fabric okayish product product material good low quality product worth cloth quality good look expected like color</div></span>"
      ],
      "text/plain": [
       "<IPython.core.display.HTML object>"
      ]
     },
     "metadata": {},
     "output_type": "display_data"
    }
   ],
   "source": [
    "# Parts Of Speech (POS) Tagging\n",
    "nlp=spacy.load('en_core_web_sm')\n",
    "\n",
    "one_block=reviews_text[:1000]\n",
    "doc_block=nlp(one_block)\n",
    "spacy.displacy.render(doc_block,style='ent',jupyter=True)"
   ]
  },
  {
   "cell_type": "code",
   "execution_count": 95,
   "id": "68112f43",
   "metadata": {
    "ExecuteTime": {
     "end_time": "2023-04-28T07:43:36.313217Z",
     "start_time": "2023-04-28T07:43:36.292220Z"
    }
   },
   "outputs": [
    {
     "name": "stdout",
     "output_type": "stream",
     "text": [
      "quality NOUN\n",
      "good ADJ\n",
      "dupatta NOUN\n",
      "also ADV\n",
      "good ADJ\n",
      "nice ADJ\n",
      "kurta PROPN\n",
      "set VERB\n",
      "ordered VERB\n",
      "mother NOUN\n",
      "kurta PROPN\n",
      "trouser PROPN\n",
      "quality NOUN\n",
      "good ADJ\n",
      "dupatta NOUN\n",
      "bad ADJ\n",
      "wear NOUN\n",
      "dupatta NOUN\n",
      "liked VERB\n",
      "material NOUN\n",
      "cheap ADJ\n",
      "quality NOUN\n",
      "cloth NOUN\n",
      "fabric NOUN\n",
      "good ADJ\n",
      "look NOUN\n",
      "like ADP\n",
      "winter NOUN\n",
      "stuff NOUN\n",
      "much ADV\n",
      "happy ADJ\n",
      "fabric NOUN\n",
      "okayish ADJ\n",
      "product NOUN\n",
      "product NOUN\n",
      "material NOUN\n",
      "good ADJ\n",
      "low ADJ\n",
      "quality NOUN\n",
      "product NOUN\n",
      "worth ADJ\n",
      "cloth NOUN\n",
      "quality NOUN\n",
      "good ADJ\n",
      "look NOUN\n",
      "expected VERB\n",
      "like ADP\n",
      "color NOUN\n"
     ]
    }
   ],
   "source": [
    "for token in doc_block[:50]:\n",
    "    print(token,token.pos_)  "
   ]
  },
  {
   "cell_type": "code",
   "execution_count": 96,
   "id": "ff2573c8",
   "metadata": {
    "ExecuteTime": {
     "end_time": "2023-04-28T07:43:45.657485Z",
     "start_time": "2023-04-28T07:43:45.618614Z"
    }
   },
   "outputs": [
    {
     "name": "stdout",
     "output_type": "stream",
     "text": [
      "[]\n"
     ]
    }
   ],
   "source": [
    "# Filtering the nouns and verbs only\n",
    "one_block=reviews_text\n",
    "doc_block=nlp(one_block)\n",
    "nouns_verbs=[token.text for token in doc_block if token.pos_ in ('NOUN','VERB')]\n",
    "print(nouns_verbs[100:200])"
   ]
  },
  {
   "cell_type": "code",
   "execution_count": 97,
   "id": "63971451",
   "metadata": {
    "ExecuteTime": {
     "end_time": "2023-04-28T07:43:54.340884Z",
     "start_time": "2023-04-28T07:43:54.310805Z"
    }
   },
   "outputs": [
    {
     "data": {
      "text/html": [
       "<div>\n",
       "<style scoped>\n",
       "    .dataframe tbody tr th:only-of-type {\n",
       "        vertical-align: middle;\n",
       "    }\n",
       "\n",
       "    .dataframe tbody tr th {\n",
       "        vertical-align: top;\n",
       "    }\n",
       "\n",
       "    .dataframe thead th {\n",
       "        text-align: right;\n",
       "    }\n",
       "</style>\n",
       "<table border=\"1\" class=\"dataframe\">\n",
       "  <thead>\n",
       "    <tr style=\"text-align: right;\">\n",
       "      <th></th>\n",
       "      <th>word</th>\n",
       "      <th>count</th>\n",
       "    </tr>\n",
       "  </thead>\n",
       "  <tbody>\n",
       "    <tr>\n",
       "      <th>0</th>\n",
       "      <td>quality</td>\n",
       "      <td>5</td>\n",
       "    </tr>\n",
       "    <tr>\n",
       "      <th>1</th>\n",
       "      <td>dupatta</td>\n",
       "      <td>3</td>\n",
       "    </tr>\n",
       "    <tr>\n",
       "      <th>2</th>\n",
       "      <td>product</td>\n",
       "      <td>3</td>\n",
       "    </tr>\n",
       "    <tr>\n",
       "      <th>3</th>\n",
       "      <td>material</td>\n",
       "      <td>2</td>\n",
       "    </tr>\n",
       "    <tr>\n",
       "      <th>4</th>\n",
       "      <td>cloth</td>\n",
       "      <td>2</td>\n",
       "    </tr>\n",
       "    <tr>\n",
       "      <th>5</th>\n",
       "      <td>fabric</td>\n",
       "      <td>2</td>\n",
       "    </tr>\n",
       "    <tr>\n",
       "      <th>6</th>\n",
       "      <td>look</td>\n",
       "      <td>2</td>\n",
       "    </tr>\n",
       "    <tr>\n",
       "      <th>7</th>\n",
       "      <td>set</td>\n",
       "      <td>1</td>\n",
       "    </tr>\n",
       "    <tr>\n",
       "      <th>8</th>\n",
       "      <td>ordered</td>\n",
       "      <td>1</td>\n",
       "    </tr>\n",
       "    <tr>\n",
       "      <th>9</th>\n",
       "      <td>mother</td>\n",
       "      <td>1</td>\n",
       "    </tr>\n",
       "  </tbody>\n",
       "</table>\n",
       "</div>"
      ],
      "text/plain": [
       "       word  count\n",
       "0   quality      5\n",
       "1   dupatta      3\n",
       "2   product      3\n",
       "3  material      2\n",
       "4     cloth      2\n",
       "5    fabric      2\n",
       "6      look      2\n",
       "7       set      1\n",
       "8   ordered      1\n",
       "9    mother      1"
      ]
     },
     "execution_count": 97,
     "metadata": {},
     "output_type": "execute_result"
    }
   ],
   "source": [
    "# Counting the noun & verb tokens\n",
    "from sklearn.feature_extraction.text import CountVectorizer\n",
    "cv=CountVectorizer()\n",
    "\n",
    "X=cv.fit_transform(nouns_verbs)\n",
    "sum_words=X.sum(axis=0)\n",
    "\n",
    "words_freq=[(word,sum_words[0,idx]) for word,idx in cv.vocabulary_.items()]\n",
    "words_freq=sorted(words_freq, key=lambda x: x[1], reverse=True)\n",
    "\n",
    "wd_df=pd.DataFrame(words_freq)\n",
    "wd_df.columns=['word','count']\n",
    "wd_df[0:10] # viewing top ten results"
   ]
  },
  {
   "cell_type": "code",
   "execution_count": 98,
   "id": "edfa4556",
   "metadata": {
    "ExecuteTime": {
     "end_time": "2023-04-28T07:44:03.495698Z",
     "start_time": "2023-04-28T07:44:03.181814Z"
    }
   },
   "outputs": [
    {
     "data": {
      "text/plain": [
       "<AxesSubplot:title={'center':'Top 10 nouns and verbs'}, xlabel='word'>"
      ]
     },
     "execution_count": 98,
     "metadata": {},
     "output_type": "execute_result"
    },
    {
     "data": {
      "image/png": "[encoded data removed]",
      "text/plain": [
       "<Figure size 1200x800 with 1 Axes>"
      ]
     },
     "metadata": {},
     "output_type": "display_data"
    }
   ],
   "source": [
    "# Visualizing results (Barchart for top 10 nouns + verbs)\n",
    "wd_df[0:10].plot.bar(x='word',figsize=(12,8),title='Top 10 nouns and verbs')"
   ]
  },
  {
   "cell_type": "markdown",
   "id": "173d1603",
   "metadata": {},
   "source": [
    "## Feature Extraction for 'Key Words'"
   ]
  },
  {
   "cell_type": "code",
   "execution_count": 99,
   "id": "323a28d4",
   "metadata": {
    "ExecuteTime": {
     "end_time": "2023-04-28T07:47:49.482225Z",
     "start_time": "2023-04-28T07:47:49.450158Z"
    }
   },
   "outputs": [],
   "source": [
    "# BOW features\n",
    "bow_word_vectorizer = CountVectorizer(max_df=0.90, min_df=2, stop_words='english')\n",
    "# bag-of-words feature matrix\n",
    "bow_word_feature = bow_word_vectorizer.fit_transform(dataframe['Clean_Reviews'])\n",
    "\n",
    "# TF-IDF features\n",
    "tfidf_word_vectorizer = TfidfVectorizer(max_df=0.90, min_df=2, stop_words='english')\n",
    "# TF-IDF feature matrix\n",
    "tfidf_word_feature = tfidf_word_vectorizer.fit_transform(dataframe['Clean_Reviews'])"
   ]
  },
  {
   "cell_type": "markdown",
   "id": "a1ea7d6a",
   "metadata": {},
   "source": [
    "# Fetch sentiments"
   ]
  },
  {
   "cell_type": "code",
   "execution_count": 100,
   "id": "ca91bdeb",
   "metadata": {
    "ExecuteTime": {
     "end_time": "2023-04-28T07:48:09.123295Z",
     "start_time": "2023-04-28T07:48:09.100988Z"
    }
   },
   "outputs": [],
   "source": [
    "# 1 way\n",
    "def fetch_sentiment_using_SIA(text):\n",
    "    sid = SentimentIntensityAnalyzer()\n",
    "    polarity_scores = sid.polarity_scores(text)\n",
    "    return 'neg' if polarity_scores['neg'] > polarity_scores['pos'] else 'pos'\n",
    "\n",
    "# 2 way\n",
    "def fetch_sentiment_using_textblob(text):\n",
    "    analysis = TextBlob(text)\n",
    "    return 'pos' if analysis.sentiment.polarity >= 0 else 'neg'"
   ]
  },
  {
   "cell_type": "markdown",
   "id": "d053d3e6",
   "metadata": {},
   "source": [
    "# Using NLTK's SentimentIntensityAnalyzer"
   ]
  },
  {
   "cell_type": "code",
   "execution_count": 102,
   "id": "30119f35",
   "metadata": {
    "ExecuteTime": {
     "end_time": "2023-04-28T07:49:12.344481Z",
     "start_time": "2023-04-28T07:49:12.135050Z"
    }
   },
   "outputs": [
    {
     "data": {
      "text/html": [
       "<div>\n",
       "<style scoped>\n",
       "    .dataframe tbody tr th:only-of-type {\n",
       "        vertical-align: middle;\n",
       "    }\n",
       "\n",
       "    .dataframe tbody tr th {\n",
       "        vertical-align: top;\n",
       "    }\n",
       "\n",
       "    .dataframe thead th {\n",
       "        text-align: right;\n",
       "    }\n",
       "</style>\n",
       "<table border=\"1\" class=\"dataframe\">\n",
       "  <thead>\n",
       "    <tr style=\"text-align: right;\">\n",
       "      <th></th>\n",
       "      <th>Clean_Reviews</th>\n",
       "    </tr>\n",
       "  </thead>\n",
       "  <tbody>\n",
       "    <tr>\n",
       "      <th>pos</th>\n",
       "      <td>10</td>\n",
       "    </tr>\n",
       "    <tr>\n",
       "      <th>neg</th>\n",
       "      <td>2</td>\n",
       "    </tr>\n",
       "  </tbody>\n",
       "</table>\n",
       "</div>"
      ],
      "text/plain": [
       "     Clean_Reviews\n",
       "pos             10\n",
       "neg              2"
      ]
     },
     "execution_count": 102,
     "metadata": {},
     "output_type": "execute_result"
    }
   ],
   "source": [
    "from nltk.sentiment.vader import SentimentIntensityAnalyzer\n",
    "sentiments_using_SIA = dataframe.Clean_Reviews.apply(lambda tweet: fetch_sentiment_using_SIA(tweet))\n",
    "pd.DataFrame(sentiments_using_SIA.value_counts())"
   ]
  },
  {
   "cell_type": "code",
   "execution_count": 103,
   "id": "dec519f9",
   "metadata": {
    "ExecuteTime": {
     "end_time": "2023-04-28T07:51:26.841913Z",
     "start_time": "2023-04-28T07:51:26.831462Z"
    }
   },
   "outputs": [
    {
     "data": {
      "text/plain": [
       "'low quality product worth'"
      ]
     },
     "execution_count": 103,
     "metadata": {},
     "output_type": "execute_result"
    }
   ],
   "source": [
    "dataframe.Clean_Reviews[8]"
   ]
  },
  {
   "cell_type": "code",
   "execution_count": 104,
   "id": "765f1806",
   "metadata": {
    "ExecuteTime": {
     "end_time": "2023-04-28T07:51:35.930868Z",
     "start_time": "2023-04-28T07:51:35.894345Z"
    }
   },
   "outputs": [
    {
     "data": {
      "text/plain": [
       "{'neg': 0.35, 'neu': 0.333, 'pos': 0.317, 'compound': -0.0516}"
      ]
     },
     "execution_count": 104,
     "metadata": {},
     "output_type": "execute_result"
    }
   ],
   "source": [
    "sid = SentimentIntensityAnalyzer()\n",
    "sid.polarity_scores(dataframe.Clean_Reviews[8])"
   ]
  },
  {
   "cell_type": "code",
   "execution_count": 106,
   "id": "46df300c",
   "metadata": {
    "ExecuteTime": {
     "end_time": "2023-04-28T07:52:49.501485Z",
     "start_time": "2023-04-28T07:52:49.458335Z"
    }
   },
   "outputs": [
    {
     "data": {
      "text/html": [
       "<div>\n",
       "<style scoped>\n",
       "    .dataframe tbody tr th:only-of-type {\n",
       "        vertical-align: middle;\n",
       "    }\n",
       "\n",
       "    .dataframe tbody tr th {\n",
       "        vertical-align: top;\n",
       "    }\n",
       "\n",
       "    .dataframe thead th {\n",
       "        text-align: right;\n",
       "    }\n",
       "</style>\n",
       "<table border=\"1\" class=\"dataframe\">\n",
       "  <thead>\n",
       "    <tr style=\"text-align: right;\">\n",
       "      <th></th>\n",
       "      <th>Review</th>\n",
       "      <th>scores</th>\n",
       "    </tr>\n",
       "  </thead>\n",
       "  <tbody>\n",
       "    <tr>\n",
       "      <th>0</th>\n",
       "      <td>quality good dupatta also good</td>\n",
       "      <td>{'neg': 0.0, 'neu': 0.341, 'pos': 0.659, 'comp...</td>\n",
       "    </tr>\n",
       "    <tr>\n",
       "      <th>1</th>\n",
       "      <td>nice kurta set ordered mother</td>\n",
       "      <td>{'neg': 0.0, 'neu': 0.588, 'pos': 0.412, 'comp...</td>\n",
       "    </tr>\n",
       "    <tr>\n",
       "      <th>2</th>\n",
       "      <td>kurta trouser quality good dupatta bad wear du...</td>\n",
       "      <td>{'neg': 0.282, 'neu': 0.484, 'pos': 0.234, 'co...</td>\n",
       "    </tr>\n",
       "    <tr>\n",
       "      <th>3</th>\n",
       "      <td>liked</td>\n",
       "      <td>{'neg': 0.0, 'neu': 0.0, 'pos': 1.0, 'compound...</td>\n",
       "    </tr>\n",
       "    <tr>\n",
       "      <th>4</th>\n",
       "      <td>material cheap quality</td>\n",
       "      <td>{'neg': 0.0, 'neu': 1.0, 'pos': 0.0, 'compound...</td>\n",
       "    </tr>\n",
       "  </tbody>\n",
       "</table>\n",
       "</div>"
      ],
      "text/plain": [
       "                                              Review  \\\n",
       "0                     quality good dupatta also good   \n",
       "1                      nice kurta set ordered mother   \n",
       "2  kurta trouser quality good dupatta bad wear du...   \n",
       "3                                              liked   \n",
       "4                             material cheap quality   \n",
       "\n",
       "                                              scores  \n",
       "0  {'neg': 0.0, 'neu': 0.341, 'pos': 0.659, 'comp...  \n",
       "1  {'neg': 0.0, 'neu': 0.588, 'pos': 0.412, 'comp...  \n",
       "2  {'neg': 0.282, 'neu': 0.484, 'pos': 0.234, 'co...  \n",
       "3  {'neg': 0.0, 'neu': 0.0, 'pos': 1.0, 'compound...  \n",
       "4  {'neg': 0.0, 'neu': 1.0, 'pos': 0.0, 'compound...  "
      ]
     },
     "execution_count": 106,
     "metadata": {},
     "output_type": "execute_result"
    }
   ],
   "source": [
    "df=pd.DataFrame()\n",
    "df['Review'] = dataframe.Clean_Reviews\n",
    "df['scores'] = dataframe['Clean_Reviews'].apply(lambda review: sid.polarity_scores(review))\n",
    "df.head()"
   ]
  },
  {
   "cell_type": "code",
   "execution_count": 107,
   "id": "e536ba04",
   "metadata": {
    "ExecuteTime": {
     "end_time": "2023-04-28T07:52:59.031221Z",
     "start_time": "2023-04-28T07:52:59.012463Z"
    }
   },
   "outputs": [
    {
     "data": {
      "text/html": [
       "<div>\n",
       "<style scoped>\n",
       "    .dataframe tbody tr th:only-of-type {\n",
       "        vertical-align: middle;\n",
       "    }\n",
       "\n",
       "    .dataframe tbody tr th {\n",
       "        vertical-align: top;\n",
       "    }\n",
       "\n",
       "    .dataframe thead th {\n",
       "        text-align: right;\n",
       "    }\n",
       "</style>\n",
       "<table border=\"1\" class=\"dataframe\">\n",
       "  <thead>\n",
       "    <tr style=\"text-align: right;\">\n",
       "      <th></th>\n",
       "      <th>Review</th>\n",
       "      <th>scores</th>\n",
       "      <th>compound</th>\n",
       "    </tr>\n",
       "  </thead>\n",
       "  <tbody>\n",
       "    <tr>\n",
       "      <th>0</th>\n",
       "      <td>quality good dupatta also good</td>\n",
       "      <td>{'neg': 0.0, 'neu': 0.341, 'pos': 0.659, 'comp...</td>\n",
       "      <td>0.7003</td>\n",
       "    </tr>\n",
       "    <tr>\n",
       "      <th>1</th>\n",
       "      <td>nice kurta set ordered mother</td>\n",
       "      <td>{'neg': 0.0, 'neu': 0.588, 'pos': 0.412, 'comp...</td>\n",
       "      <td>0.4215</td>\n",
       "    </tr>\n",
       "    <tr>\n",
       "      <th>2</th>\n",
       "      <td>kurta trouser quality good dupatta bad wear du...</td>\n",
       "      <td>{'neg': 0.282, 'neu': 0.484, 'pos': 0.234, 'co...</td>\n",
       "      <td>-0.1531</td>\n",
       "    </tr>\n",
       "    <tr>\n",
       "      <th>3</th>\n",
       "      <td>liked</td>\n",
       "      <td>{'neg': 0.0, 'neu': 0.0, 'pos': 1.0, 'compound...</td>\n",
       "      <td>0.4215</td>\n",
       "    </tr>\n",
       "    <tr>\n",
       "      <th>4</th>\n",
       "      <td>material cheap quality</td>\n",
       "      <td>{'neg': 0.0, 'neu': 1.0, 'pos': 0.0, 'compound...</td>\n",
       "      <td>0.0000</td>\n",
       "    </tr>\n",
       "  </tbody>\n",
       "</table>\n",
       "</div>"
      ],
      "text/plain": [
       "                                              Review  \\\n",
       "0                     quality good dupatta also good   \n",
       "1                      nice kurta set ordered mother   \n",
       "2  kurta trouser quality good dupatta bad wear du...   \n",
       "3                                              liked   \n",
       "4                             material cheap quality   \n",
       "\n",
       "                                              scores  compound  \n",
       "0  {'neg': 0.0, 'neu': 0.341, 'pos': 0.659, 'comp...    0.7003  \n",
       "1  {'neg': 0.0, 'neu': 0.588, 'pos': 0.412, 'comp...    0.4215  \n",
       "2  {'neg': 0.282, 'neu': 0.484, 'pos': 0.234, 'co...   -0.1531  \n",
       "3  {'neg': 0.0, 'neu': 0.0, 'pos': 1.0, 'compound...    0.4215  \n",
       "4  {'neg': 0.0, 'neu': 1.0, 'pos': 0.0, 'compound...    0.0000  "
      ]
     },
     "execution_count": 107,
     "metadata": {},
     "output_type": "execute_result"
    }
   ],
   "source": [
    "df['compound']  = df['scores'].apply(lambda scores: scores['compound'])\n",
    "df.head()"
   ]
  },
  {
   "cell_type": "code",
   "execution_count": 108,
   "id": "b1d0c850",
   "metadata": {
    "ExecuteTime": {
     "end_time": "2023-04-28T07:53:19.086359Z",
     "start_time": "2023-04-28T07:53:19.043884Z"
    }
   },
   "outputs": [
    {
     "data": {
      "text/html": [
       "<div>\n",
       "<style scoped>\n",
       "    .dataframe tbody tr th:only-of-type {\n",
       "        vertical-align: middle;\n",
       "    }\n",
       "\n",
       "    .dataframe tbody tr th {\n",
       "        vertical-align: top;\n",
       "    }\n",
       "\n",
       "    .dataframe thead th {\n",
       "        text-align: right;\n",
       "    }\n",
       "</style>\n",
       "<table border=\"1\" class=\"dataframe\">\n",
       "  <thead>\n",
       "    <tr style=\"text-align: right;\">\n",
       "      <th></th>\n",
       "      <th>Review</th>\n",
       "      <th>scores</th>\n",
       "      <th>compound</th>\n",
       "      <th>sentiment</th>\n",
       "    </tr>\n",
       "  </thead>\n",
       "  <tbody>\n",
       "    <tr>\n",
       "      <th>0</th>\n",
       "      <td>quality good dupatta also good</td>\n",
       "      <td>{'neg': 0.0, 'neu': 0.341, 'pos': 0.659, 'comp...</td>\n",
       "      <td>0.7003</td>\n",
       "      <td>Positive</td>\n",
       "    </tr>\n",
       "    <tr>\n",
       "      <th>1</th>\n",
       "      <td>nice kurta set ordered mother</td>\n",
       "      <td>{'neg': 0.0, 'neu': 0.588, 'pos': 0.412, 'comp...</td>\n",
       "      <td>0.4215</td>\n",
       "      <td>Positive</td>\n",
       "    </tr>\n",
       "    <tr>\n",
       "      <th>2</th>\n",
       "      <td>kurta trouser quality good dupatta bad wear du...</td>\n",
       "      <td>{'neg': 0.282, 'neu': 0.484, 'pos': 0.234, 'co...</td>\n",
       "      <td>-0.1531</td>\n",
       "      <td>Negative</td>\n",
       "    </tr>\n",
       "    <tr>\n",
       "      <th>3</th>\n",
       "      <td>liked</td>\n",
       "      <td>{'neg': 0.0, 'neu': 0.0, 'pos': 1.0, 'compound...</td>\n",
       "      <td>0.4215</td>\n",
       "      <td>Positive</td>\n",
       "    </tr>\n",
       "    <tr>\n",
       "      <th>4</th>\n",
       "      <td>material cheap quality</td>\n",
       "      <td>{'neg': 0.0, 'neu': 1.0, 'pos': 0.0, 'compound...</td>\n",
       "      <td>0.0000</td>\n",
       "      <td>Neutral</td>\n",
       "    </tr>\n",
       "    <tr>\n",
       "      <th>5</th>\n",
       "      <td>cloth fabric good look like winter stuff</td>\n",
       "      <td>{'neg': 0.0, 'neu': 0.481, 'pos': 0.519, 'comp...</td>\n",
       "      <td>0.6597</td>\n",
       "      <td>Positive</td>\n",
       "    </tr>\n",
       "    <tr>\n",
       "      <th>6</th>\n",
       "      <td>much happy fabric okayish product</td>\n",
       "      <td>{'neg': 0.0, 'neu': 0.519, 'pos': 0.481, 'comp...</td>\n",
       "      <td>0.5719</td>\n",
       "      <td>Positive</td>\n",
       "    </tr>\n",
       "    <tr>\n",
       "      <th>7</th>\n",
       "      <td>product material good</td>\n",
       "      <td>{'neg': 0.0, 'neu': 0.408, 'pos': 0.592, 'comp...</td>\n",
       "      <td>0.4404</td>\n",
       "      <td>Positive</td>\n",
       "    </tr>\n",
       "    <tr>\n",
       "      <th>8</th>\n",
       "      <td>low quality product worth</td>\n",
       "      <td>{'neg': 0.35, 'neu': 0.333, 'pos': 0.317, 'com...</td>\n",
       "      <td>-0.0516</td>\n",
       "      <td>Negative</td>\n",
       "    </tr>\n",
       "    <tr>\n",
       "      <th>9</th>\n",
       "      <td>cloth quality good</td>\n",
       "      <td>{'neg': 0.0, 'neu': 0.408, 'pos': 0.592, 'comp...</td>\n",
       "      <td>0.4404</td>\n",
       "      <td>Positive</td>\n",
       "    </tr>\n",
       "    <tr>\n",
       "      <th>10</th>\n",
       "      <td>look expected</td>\n",
       "      <td>{'neg': 0.0, 'neu': 1.0, 'pos': 0.0, 'compound...</td>\n",
       "      <td>0.0000</td>\n",
       "      <td>Neutral</td>\n",
       "    </tr>\n",
       "    <tr>\n",
       "      <th>11</th>\n",
       "      <td>like color</td>\n",
       "      <td>{'neg': 0.0, 'neu': 0.286, 'pos': 0.714, 'comp...</td>\n",
       "      <td>0.3612</td>\n",
       "      <td>Positive</td>\n",
       "    </tr>\n",
       "  </tbody>\n",
       "</table>\n",
       "</div>"
      ],
      "text/plain": [
       "                                               Review  \\\n",
       "0                      quality good dupatta also good   \n",
       "1                       nice kurta set ordered mother   \n",
       "2   kurta trouser quality good dupatta bad wear du...   \n",
       "3                                               liked   \n",
       "4                              material cheap quality   \n",
       "5            cloth fabric good look like winter stuff   \n",
       "6                   much happy fabric okayish product   \n",
       "7                               product material good   \n",
       "8                           low quality product worth   \n",
       "9                                  cloth quality good   \n",
       "10                                      look expected   \n",
       "11                                         like color   \n",
       "\n",
       "                                               scores  compound sentiment  \n",
       "0   {'neg': 0.0, 'neu': 0.341, 'pos': 0.659, 'comp...    0.7003  Positive  \n",
       "1   {'neg': 0.0, 'neu': 0.588, 'pos': 0.412, 'comp...    0.4215  Positive  \n",
       "2   {'neg': 0.282, 'neu': 0.484, 'pos': 0.234, 'co...   -0.1531  Negative  \n",
       "3   {'neg': 0.0, 'neu': 0.0, 'pos': 1.0, 'compound...    0.4215  Positive  \n",
       "4   {'neg': 0.0, 'neu': 1.0, 'pos': 0.0, 'compound...    0.0000   Neutral  \n",
       "5   {'neg': 0.0, 'neu': 0.481, 'pos': 0.519, 'comp...    0.6597  Positive  \n",
       "6   {'neg': 0.0, 'neu': 0.519, 'pos': 0.481, 'comp...    0.5719  Positive  \n",
       "7   {'neg': 0.0, 'neu': 0.408, 'pos': 0.592, 'comp...    0.4404  Positive  \n",
       "8   {'neg': 0.35, 'neu': 0.333, 'pos': 0.317, 'com...   -0.0516  Negative  \n",
       "9   {'neg': 0.0, 'neu': 0.408, 'pos': 0.592, 'comp...    0.4404  Positive  \n",
       "10  {'neg': 0.0, 'neu': 1.0, 'pos': 0.0, 'compound...    0.0000   Neutral  \n",
       "11  {'neg': 0.0, 'neu': 0.286, 'pos': 0.714, 'comp...    0.3612  Positive  "
      ]
     },
     "execution_count": 108,
     "metadata": {},
     "output_type": "execute_result"
    }
   ],
   "source": [
    "df['sentiment'] = df['compound'].apply(lambda c: 'Positive' if c >=0.05 else ('Negative' if c<=-0.05  else 'Neutral'))\n",
    "df"
   ]
  },
  {
   "cell_type": "code",
   "execution_count": 111,
   "id": "e0b3dbdd",
   "metadata": {
    "ExecuteTime": {
     "end_time": "2023-04-28T07:59:28.085466Z",
     "start_time": "2023-04-28T07:59:27.976442Z"
    }
   },
   "outputs": [
    {
     "data": {
      "text/html": [
       "<style type=\"text/css\">\n",
       "#T_7f32b_row0_col1 {\n",
       "  background-color: #ff0000;\n",
       "  color: #f1f1f1;\n",
       "}\n",
       "#T_7f32b_row1_col1, #T_7f32b_row2_col1 {\n",
       "  background-color: #8000ff;\n",
       "  color: #f1f1f1;\n",
       "}\n",
       "</style>\n",
       "<table id=\"T_7f32b\">\n",
       "  <thead>\n",
       "    <tr>\n",
       "      <th class=\"blank level0\" >&nbsp;</th>\n",
       "      <th id=\"T_7f32b_level0_col0\" class=\"col_heading level0 col0\" >sentiment</th>\n",
       "      <th id=\"T_7f32b_level0_col1\" class=\"col_heading level0 col1\" >Review</th>\n",
       "    </tr>\n",
       "  </thead>\n",
       "  <tbody>\n",
       "    <tr>\n",
       "      <th id=\"T_7f32b_level0_row0\" class=\"row_heading level0 row0\" >2</th>\n",
       "      <td id=\"T_7f32b_row0_col0\" class=\"data row0 col0\" >Positive</td>\n",
       "      <td id=\"T_7f32b_row0_col1\" class=\"data row0 col1\" >8</td>\n",
       "    </tr>\n",
       "    <tr>\n",
       "      <th id=\"T_7f32b_level0_row1\" class=\"row_heading level0 row1\" >0</th>\n",
       "      <td id=\"T_7f32b_row1_col0\" class=\"data row1 col0\" >Negative</td>\n",
       "      <td id=\"T_7f32b_row1_col1\" class=\"data row1 col1\" >2</td>\n",
       "    </tr>\n",
       "    <tr>\n",
       "      <th id=\"T_7f32b_level0_row2\" class=\"row_heading level0 row2\" >1</th>\n",
       "      <td id=\"T_7f32b_row2_col0\" class=\"data row2 col0\" >Neutral</td>\n",
       "      <td id=\"T_7f32b_row2_col1\" class=\"data row2 col1\" >2</td>\n",
       "    </tr>\n",
       "  </tbody>\n",
       "</table>\n"
      ],
      "text/plain": [
       "<pandas.io.formats.style.Styler at 0x24946839f70>"
      ]
     },
     "execution_count": 111,
     "metadata": {},
     "output_type": "execute_result"
    }
   ],
   "source": [
    "temp = df.groupby('sentiment').count()['Review'].reset_index().sort_values(by='Review',ascending=False)\n",
    "temp.style.background_gradient(cmap='rainbow')"
   ]
  },
  {
   "cell_type": "code",
   "execution_count": 112,
   "id": "c6b0ae22",
   "metadata": {
    "ExecuteTime": {
     "end_time": "2023-04-28T07:59:40.967011Z",
     "start_time": "2023-04-28T07:59:40.701152Z"
    }
   },
   "outputs": [
    {
     "data": {
      "text/plain": [
       "<AxesSubplot:xlabel='sentiment', ylabel='count'>"
      ]
     },
     "execution_count": 112,
     "metadata": {},
     "output_type": "execute_result"
    },
    {
     "data": {
      "image/png": "[encoded data removed]",
      "text/plain": [
       "<Figure size 1200x600 with 1 Axes>"
      ]
     },
     "metadata": {},
     "output_type": "display_data"
    }
   ],
   "source": [
    "plt.figure(figsize=(12,6))\n",
    "sns.countplot(x='sentiment',data=df)"
   ]
  },
  {
   "cell_type": "code",
   "execution_count": 113,
   "id": "3981a23c",
   "metadata": {
    "ExecuteTime": {
     "end_time": "2023-04-28T07:59:54.630054Z",
     "start_time": "2023-04-28T07:59:54.269770Z"
    }
   },
   "outputs": [
    {
     "name": "stderr",
     "output_type": "stream",
     "text": [
      "C:\\Users\\ARPITA\\anaconda3\\lib\\site-packages\\seaborn\\distributions.py:2619: FutureWarning: `distplot` is a deprecated function and will be removed in a future version. Please adapt your code to use either `displot` (a figure-level function with similar flexibility) or `histplot` (an axes-level function for histograms).\n",
      "  warnings.warn(msg, FutureWarning)\n"
     ]
    },
    {
     "data": {
      "text/plain": [
       "<AxesSubplot:xlabel='compound', ylabel='Density'>"
      ]
     },
     "execution_count": 113,
     "metadata": {},
     "output_type": "execute_result"
    },
    {
     "data": {
      "image/png": "[encoded data removed]",
      "text/plain": [
       "<Figure size 1500x1000 with 1 Axes>"
      ]
     },
     "metadata": {},
     "output_type": "display_data"
    }
   ],
   "source": [
    "# Plotting the sentiment value for whole review\n",
    "import seaborn as sns\n",
    "plt.figure(figsize=(15,10))\n",
    "sns.distplot(df['compound'])"
   ]
  },
  {
   "cell_type": "code",
   "execution_count": 115,
   "id": "cd27e181",
   "metadata": {
    "ExecuteTime": {
     "end_time": "2023-04-28T08:00:28.448843Z",
     "start_time": "2023-04-28T08:00:28.420734Z"
    }
   },
   "outputs": [
    {
     "data": {
      "text/html": [
       "<div>\n",
       "<style scoped>\n",
       "    .dataframe tbody tr th:only-of-type {\n",
       "        vertical-align: middle;\n",
       "    }\n",
       "\n",
       "    .dataframe tbody tr th {\n",
       "        vertical-align: top;\n",
       "    }\n",
       "\n",
       "    .dataframe thead th {\n",
       "        text-align: right;\n",
       "    }\n",
       "</style>\n",
       "<table border=\"1\" class=\"dataframe\">\n",
       "  <thead>\n",
       "    <tr style=\"text-align: right;\">\n",
       "      <th></th>\n",
       "      <th>Review</th>\n",
       "      <th>word_count</th>\n",
       "    </tr>\n",
       "  </thead>\n",
       "  <tbody>\n",
       "    <tr>\n",
       "      <th>0</th>\n",
       "      <td>quality good dupatta also good</td>\n",
       "      <td>5</td>\n",
       "    </tr>\n",
       "    <tr>\n",
       "      <th>1</th>\n",
       "      <td>nice kurta set ordered mother</td>\n",
       "      <td>5</td>\n",
       "    </tr>\n",
       "    <tr>\n",
       "      <th>2</th>\n",
       "      <td>kurta trouser quality good dupatta bad wear du...</td>\n",
       "      <td>8</td>\n",
       "    </tr>\n",
       "    <tr>\n",
       "      <th>3</th>\n",
       "      <td>liked</td>\n",
       "      <td>1</td>\n",
       "    </tr>\n",
       "    <tr>\n",
       "      <th>4</th>\n",
       "      <td>material cheap quality</td>\n",
       "      <td>3</td>\n",
       "    </tr>\n",
       "  </tbody>\n",
       "</table>\n",
       "</div>"
      ],
      "text/plain": [
       "                                              Review  word_count\n",
       "0                     quality good dupatta also good           5\n",
       "1                      nice kurta set ordered mother           5\n",
       "2  kurta trouser quality good dupatta bad wear du...           8\n",
       "3                                              liked           1\n",
       "4                             material cheap quality           3"
      ]
     },
     "execution_count": 115,
     "metadata": {},
     "output_type": "execute_result"
    }
   ],
   "source": [
    "df['word_count'] = df['Review'].apply(lambda x: len(str(x).split(\" \")))\n",
    "df[['Review','word_count']].head()"
   ]
  },
  {
   "cell_type": "code",
   "execution_count": 116,
   "id": "1f461075",
   "metadata": {
    "ExecuteTime": {
     "end_time": "2023-04-28T08:01:26.380759Z",
     "start_time": "2023-04-28T08:01:26.087995Z"
    }
   },
   "outputs": [
    {
     "data": {
      "text/plain": [
       "<AxesSubplot:title={'center':'Sentence sentiment value to sentence word count'}, xlabel='word_count', ylabel='compound'>"
      ]
     },
     "execution_count": 116,
     "metadata": {},
     "output_type": "execute_result"
    },
    {
     "data": {
      "image/png": "[encoded data removed]",
      "text/plain": [
       "<Figure size 800x800 with 1 Axes>"
      ]
     },
     "metadata": {},
     "output_type": "display_data"
    }
   ],
   "source": [
    "# Correlation analysis\n",
    "df.plot.scatter(x='word_count',y='compound',figsize=(8,8),title='Sentence sentiment value to sentence word count')"
   ]
  },
  {
   "cell_type": "code",
   "execution_count": 117,
   "id": "4a44abf8",
   "metadata": {
    "ExecuteTime": {
     "end_time": "2023-04-28T08:01:35.490360Z",
     "start_time": "2023-04-28T08:01:35.398611Z"
    }
   },
   "outputs": [
    {
     "data": {
      "text/html": [
       "<div>\n",
       "<style scoped>\n",
       "    .dataframe tbody tr th:only-of-type {\n",
       "        vertical-align: middle;\n",
       "    }\n",
       "\n",
       "    .dataframe tbody tr th {\n",
       "        vertical-align: top;\n",
       "    }\n",
       "\n",
       "    .dataframe thead th {\n",
       "        text-align: right;\n",
       "    }\n",
       "</style>\n",
       "<table border=\"1\" class=\"dataframe\">\n",
       "  <thead>\n",
       "    <tr style=\"text-align: right;\">\n",
       "      <th></th>\n",
       "      <th>Clean_Reviews</th>\n",
       "    </tr>\n",
       "  </thead>\n",
       "  <tbody>\n",
       "    <tr>\n",
       "      <th>pos</th>\n",
       "      <td>11</td>\n",
       "    </tr>\n",
       "    <tr>\n",
       "      <th>neg</th>\n",
       "      <td>1</td>\n",
       "    </tr>\n",
       "  </tbody>\n",
       "</table>\n",
       "</div>"
      ],
      "text/plain": [
       "     Clean_Reviews\n",
       "pos             11\n",
       "neg              1"
      ]
     },
     "execution_count": 117,
     "metadata": {},
     "output_type": "execute_result"
    }
   ],
   "source": [
    "sentiments_using_textblob = dataframe.Clean_Reviews.apply(lambda tweet: fetch_sentiment_using_textblob(tweet))\n",
    "pd.DataFrame(sentiments_using_textblob.value_counts())"
   ]
  },
  {
   "cell_type": "code",
   "execution_count": 118,
   "id": "3a261931",
   "metadata": {
    "ExecuteTime": {
     "end_time": "2023-04-28T08:01:44.915502Z",
     "start_time": "2023-04-28T08:01:44.883549Z"
    }
   },
   "outputs": [
    {
     "data": {
      "text/html": [
       "<div>\n",
       "<style scoped>\n",
       "    .dataframe tbody tr th:only-of-type {\n",
       "        vertical-align: middle;\n",
       "    }\n",
       "\n",
       "    .dataframe tbody tr th {\n",
       "        vertical-align: top;\n",
       "    }\n",
       "\n",
       "    .dataframe thead th {\n",
       "        text-align: right;\n",
       "    }\n",
       "</style>\n",
       "<table border=\"1\" class=\"dataframe\">\n",
       "  <thead>\n",
       "    <tr style=\"text-align: right;\">\n",
       "      <th></th>\n",
       "      <th>Clean_Reviews</th>\n",
       "      <th>Uncleaned_Reviews</th>\n",
       "      <th>Subjectivity</th>\n",
       "      <th>Polarity</th>\n",
       "    </tr>\n",
       "  </thead>\n",
       "  <tbody>\n",
       "    <tr>\n",
       "      <th>0</th>\n",
       "      <td>quality good dupatta also good</td>\n",
       "      <td>Quality is good &amp; dupatta also good</td>\n",
       "      <td>0.600000</td>\n",
       "      <td>7.000000e-01</td>\n",
       "    </tr>\n",
       "    <tr>\n",
       "      <th>1</th>\n",
       "      <td>nice kurta set ordered mother</td>\n",
       "      <td>Very nice kurta set I ordered for my mother</td>\n",
       "      <td>1.000000</td>\n",
       "      <td>6.000000e-01</td>\n",
       "    </tr>\n",
       "    <tr>\n",
       "      <th>2</th>\n",
       "      <td>kurta trouser quality good dupatta bad wear du...</td>\n",
       "      <td>Kurta and trouser's quality is too good but du...</td>\n",
       "      <td>0.633333</td>\n",
       "      <td>5.551115e-17</td>\n",
       "    </tr>\n",
       "    <tr>\n",
       "      <th>3</th>\n",
       "      <td>liked</td>\n",
       "      <td>Liked it</td>\n",
       "      <td>0.800000</td>\n",
       "      <td>6.000000e-01</td>\n",
       "    </tr>\n",
       "    <tr>\n",
       "      <th>4</th>\n",
       "      <td>material cheap quality</td>\n",
       "      <td>Material is of cheap quality</td>\n",
       "      <td>0.700000</td>\n",
       "      <td>4.000000e-01</td>\n",
       "    </tr>\n",
       "  </tbody>\n",
       "</table>\n",
       "</div>"
      ],
      "text/plain": [
       "                                       Clean_Reviews  \\\n",
       "0                     quality good dupatta also good   \n",
       "1                      nice kurta set ordered mother   \n",
       "2  kurta trouser quality good dupatta bad wear du...   \n",
       "3                                              liked   \n",
       "4                             material cheap quality   \n",
       "\n",
       "                                   Uncleaned_Reviews  Subjectivity  \\\n",
       "0                Quality is good & dupatta also good      0.600000   \n",
       "1        Very nice kurta set I ordered for my mother      1.000000   \n",
       "2  Kurta and trouser's quality is too good but du...      0.633333   \n",
       "3                                           Liked it      0.800000   \n",
       "4                       Material is of cheap quality      0.700000   \n",
       "\n",
       "       Polarity  \n",
       "0  7.000000e-01  \n",
       "1  6.000000e-01  \n",
       "2  5.551115e-17  \n",
       "3  6.000000e-01  \n",
       "4  4.000000e-01  "
      ]
     },
     "execution_count": 118,
     "metadata": {},
     "output_type": "execute_result"
    }
   ],
   "source": [
    " # let's calculate subjectivity and Polarity\n",
    "# function for subjectivity\n",
    "def calc_subj(text):\n",
    "    return TextBlob(text).sentiment.subjectivity\n",
    " \n",
    "# function for Polarity\n",
    "def calc_pola(text):\n",
    "    return TextBlob(text).sentiment.polarity\n",
    " \n",
    "dataframe['Subjectivity'] = dataframe.Clean_Reviews.apply(calc_subj)\n",
    "dataframe['Polarity'] = dataframe.Clean_Reviews.apply(calc_pola)\n",
    "dataframe.head()"
   ]
  },
  {
   "cell_type": "code",
   "execution_count": 119,
   "id": "6188d542",
   "metadata": {
    "ExecuteTime": {
     "end_time": "2023-04-28T08:01:53.663292Z",
     "start_time": "2023-04-28T08:01:53.409312Z"
    }
   },
   "outputs": [
    {
     "data": {
      "text/plain": [
       "Text(0, 0.5, 'Subjectivity')"
      ]
     },
     "execution_count": 119,
     "metadata": {},
     "output_type": "execute_result"
    },
    {
     "data": {
      "image/png": "[encoded data removed]",
      "text/plain": [
       "<Figure size 1500x800 with 1 Axes>"
      ]
     },
     "metadata": {},
     "output_type": "display_data"
    }
   ],
   "source": [
    "f, axes = plt.subplots(figsize = (15,8))\n",
    "plt.scatter(dataframe.Polarity, dataframe.Subjectivity)\n",
    "plt.title('Sentiment Analysis')\n",
    "plt.xlabel('Polarity')\n",
    "plt.ylabel('Subjectivity')"
   ]
  },
  {
   "cell_type": "code",
   "execution_count": 120,
   "id": "c3401390",
   "metadata": {
    "ExecuteTime": {
     "end_time": "2023-04-28T08:02:30.492653Z",
     "start_time": "2023-04-28T08:02:25.722929Z"
    }
   },
   "outputs": [
    {
     "data": {
      "text/plain": [
       "<matplotlib.image.AxesImage at 0x24946eac2b0>"
      ]
     },
     "execution_count": 120,
     "metadata": {},
     "output_type": "execute_result"
    },
    {
     "data": {
      "image/png": "[encoded data removed]",
      "text/plain": [
       "<Figure size 2000x1200 with 1 Axes>"
      ]
     },
     "metadata": {},
     "output_type": "display_data"
    }
   ],
   "source": [
    "allWords_ = ' '.join([review for review in dataframe[:500]['Clean_Reviews']])\n",
    "f, axes = plt.subplots(figsize=(20,12))\n",
    "wordcloud= WordCloud(\n",
    "        background_color = 'black',\n",
    "        width = 1800,\n",
    "        height =1400).generate(allWords_)\n",
    "plt.imshow(wordcloud)"
   ]
  }
 ],
 "metadata": {
  "kernelspec": {
   "display_name": "Python 3 (ipykernel)",
   "language": "python",
   "name": "python3"
  },
  "language_info": {
   "codemirror_mode": {
    "name": "ipython",
    "version": 3
   },
   "file_extension": ".py",
   "mimetype": "text/x-python",
   "name": "python",
   "nbconvert_exporter": "python",
   "pygments_lexer": "ipython3",
   "version": "3.9.13"
  }
 },
 "nbformat": 4,
 "nbformat_minor": 5
}
